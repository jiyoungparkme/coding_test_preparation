{
 "cells": [
  {
   "cell_type": "markdown",
   "metadata": {},
   "source": [
    "* 백준"
   ]
  },
  {
   "cell_type": "code",
   "execution_count": 1,
   "metadata": {},
   "outputs": [
    {
     "name": "stdout",
     "output_type": "stream",
     "text": [
      "\n"
     ]
    },
    {
     "ename": "ValueError",
     "evalue": "not enough values to unpack (expected 3, got 0)",
     "output_type": "error",
     "traceback": [
      "\u001b[1;31m---------------------------------------------------------------------------\u001b[0m",
      "\u001b[1;31mValueError\u001b[0m                                Traceback (most recent call last)",
      "\u001b[1;32m<ipython-input-1-164c2a2726b9>\u001b[0m in \u001b[0;36m<module>\u001b[1;34m\u001b[0m\n\u001b[0;32m      1\u001b[0m \u001b[1;31m# 1712 손익분기점\u001b[0m\u001b[1;33m\u001b[0m\u001b[1;33m\u001b[0m\u001b[1;33m\u001b[0m\u001b[0m\n\u001b[1;32m----> 2\u001b[1;33m \u001b[0ma\u001b[0m\u001b[1;33m,\u001b[0m \u001b[0mb\u001b[0m\u001b[1;33m,\u001b[0m \u001b[0mc\u001b[0m \u001b[1;33m=\u001b[0m \u001b[0mmap\u001b[0m\u001b[1;33m(\u001b[0m\u001b[0mint\u001b[0m\u001b[1;33m,\u001b[0m \u001b[0minput\u001b[0m\u001b[1;33m(\u001b[0m\u001b[1;33m)\u001b[0m\u001b[1;33m.\u001b[0m\u001b[0msplit\u001b[0m\u001b[1;33m(\u001b[0m\u001b[1;33m)\u001b[0m\u001b[1;33m)\u001b[0m\u001b[1;33m\u001b[0m\u001b[1;33m\u001b[0m\u001b[0m\n\u001b[0m\u001b[0;32m      3\u001b[0m \u001b[1;32mif\u001b[0m \u001b[0mc\u001b[0m\u001b[1;33m==\u001b[0m\u001b[0mb\u001b[0m\u001b[1;33m:\u001b[0m\u001b[1;33m\u001b[0m\u001b[1;33m\u001b[0m\u001b[0m\n\u001b[0;32m      4\u001b[0m     \u001b[0mprint\u001b[0m\u001b[1;33m(\u001b[0m\u001b[1;33m-\u001b[0m\u001b[1;36m1\u001b[0m\u001b[1;33m)\u001b[0m\u001b[1;33m\u001b[0m\u001b[1;33m\u001b[0m\u001b[0m\n\u001b[0;32m      5\u001b[0m \u001b[1;32melse\u001b[0m\u001b[1;33m:\u001b[0m\u001b[1;33m\u001b[0m\u001b[1;33m\u001b[0m\u001b[0m\n",
      "\u001b[1;31mValueError\u001b[0m: not enough values to unpack (expected 3, got 0)"
     ]
    }
   ],
   "source": [
    "# 1712 손익분기점\n",
    "a, b, c = map(int, input().split())\n",
    "if c==b:\n",
    "    print(-1)\n",
    "else:\n",
    "    n = a // (c-b)\n",
    "    if n+1<=0:\n",
    "        print(-1)\n",
    "    else:\n",
    "        print(n+1)"
   ]
  },
  {
   "cell_type": "code",
   "execution_count": null,
   "metadata": {},
   "outputs": [],
   "source": [
    "# 2292 벌집\n",
    "n = int(input())\n",
    "start = 1\n",
    "step = 1\n",
    "i = 1\n",
    "if n == 1:\n",
    "    print(1)\n",
    "else:\n",
    "    while True:\n",
    "        step +=1\n",
    "        if start <= n <= (start + 6* i):\n",
    "            print(step)\n",
    "            break\n",
    "        else:\n",
    "            start += 6* i\n",
    "            i += 1"
   ]
  },
  {
   "cell_type": "code",
   "execution_count": null,
   "metadata": {},
   "outputs": [],
   "source": [
    "# 1193\n",
    "x = int(input())\n",
    "n = 0\n",
    "sum = 0    \n",
    "fraction = []\n",
    "temp = 1\n",
    "while sum < x:\n",
    "    n += 1\n",
    "    sum += n\n",
    "if n%2 == 0:\n",
    "    for i in range(x-(sum-n),0,-1):\n",
    "        fraction.append(\"%d/%d\"%(temp, n))\n",
    "        temp +=1\n",
    "        n -=1\n",
    "else:\n",
    "    for i in range(x-(sum-n),0,-1):\n",
    "        fraction.append(\"%d/%d\"%(n,temp))\n",
    "        temp += 1\n",
    "        n -= 1\n",
    "print(fraction[x-(sum-n)-1])"
   ]
  },
  {
   "cell_type": "code",
   "execution_count": null,
   "metadata": {},
   "outputs": [],
   "source": [
    "# 2869\n",
    "a, b, v = map(int, input().split())\n",
    "day = (v-b)/(a-b)\n",
    "print(int(day) if day== int(day) else int(day)+1)"
   ]
  },
  {
   "cell_type": "code",
   "execution_count": null,
   "metadata": {},
   "outputs": [],
   "source": [
    "# 2775\n",
    "t = int(input())\n",
    "ans = []\n",
    "for _ in range(t):\n",
    "    floor = int(input())\n",
    "    room = int(input())\n",
    "    f0 = [x for x in range(1, room+1)]\n",
    "    for i in range(floor):\n",
    "        for j in range(1, room):\n",
    "            f0[j] += f0[j-1]\n",
    "    ans.append(f0[-1])\n",
    "for i in ans: print(i)\n",
    "    "
   ]
  },
  {
   "cell_type": "code",
   "execution_count": null,
   "metadata": {},
   "outputs": [],
   "source": [
    "# 2839\n",
    "sugar = int(input())\n",
    "bag = 0\n",
    "while sugar >= 0 :\n",
    "    if sugar % 5 == 0 :  # 5의 배수이면\n",
    "        bag += (sugar // 5)  # 5로 나눈 몫을 구해야 정수가 됨\n",
    "        print(bag)\n",
    "        break\n",
    "    sugar -= 3  \n",
    "    bag += 1  # 5의 배수가 될 때까지 설탕-3, 봉지+1\n",
    "else :\n",
    "    print(-1)"
   ]
  },
  {
   "cell_type": "code",
   "execution_count": 10,
   "metadata": {},
   "outputs": [
    {
     "name": "stdout",
     "output_type": "stream",
     "text": [
      "1\n",
      "6 12 12\n",
      "602\n"
     ]
    }
   ],
   "source": [
    "# 10250\n",
    "t = int(input())\n",
    "room = []\n",
    "for _ in range(t):\n",
    "    h, w, n = map(int, input().split())\n",
    "    ho = n//h+1\n",
    "    floor = n%h\n",
    "    if floor == 0: \n",
    "        floor= h\n",
    "        ho -=1\n",
    "    room.append(floor * 100 + ho)\n",
    "for _ in room: print(_)"
   ]
  },
  {
   "cell_type": "code",
   "execution_count": null,
   "metadata": {},
   "outputs": [],
   "source": [
    "# 1011\n",
    "t = int(input())\n",
    "for _ in range(t):\n",
    "    x, y = map(int, input().split())\n",
    "    n=1\n",
    "    while x<y-1:\n",
    "        n += 1\n",
    "        x += n\n",
    "    print(n+1)"
   ]
  },
  {
   "cell_type": "code",
   "execution_count": 12,
   "metadata": {
    "scrolled": true
   },
   "outputs": [
    {
     "data": {
      "text/plain": [
       "3"
      ]
     },
     "execution_count": 12,
     "metadata": {},
     "output_type": "execute_result"
    }
   ],
   "source": []
  },
  {
   "cell_type": "code",
   "execution_count": null,
   "metadata": {},
   "outputs": [],
   "source": []
  }
 ],
 "metadata": {
  "kernelspec": {
   "display_name": "Python 3",
   "language": "python",
   "name": "python3"
  },
  "language_info": {
   "codemirror_mode": {
    "name": "ipython",
    "version": 3
   },
   "file_extension": ".py",
   "mimetype": "text/x-python",
   "name": "python",
   "nbconvert_exporter": "python",
   "pygments_lexer": "ipython3",
   "version": "3.7.4"
  }
 },
 "nbformat": 4,
 "nbformat_minor": 2
}
