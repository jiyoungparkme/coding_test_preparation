{
 "cells": [
  {
   "cell_type": "markdown",
   "metadata": {},
   "source": [
    "* 백준"
   ]
  },
  {
   "cell_type": "code",
   "execution_count": 1,
   "metadata": {},
   "outputs": [
    {
     "name": "stdout",
     "output_type": "stream",
     "text": [
      "\n"
     ]
    },
    {
     "ename": "ValueError",
     "evalue": "not enough values to unpack (expected 3, got 0)",
     "output_type": "error",
     "traceback": [
      "\u001b[1;31m---------------------------------------------------------------------------\u001b[0m",
      "\u001b[1;31mValueError\u001b[0m                                Traceback (most recent call last)",
      "\u001b[1;32m<ipython-input-1-164c2a2726b9>\u001b[0m in \u001b[0;36m<module>\u001b[1;34m\u001b[0m\n\u001b[0;32m      1\u001b[0m \u001b[1;31m# 1712 손익분기점\u001b[0m\u001b[1;33m\u001b[0m\u001b[1;33m\u001b[0m\u001b[1;33m\u001b[0m\u001b[0m\n\u001b[1;32m----> 2\u001b[1;33m \u001b[0ma\u001b[0m\u001b[1;33m,\u001b[0m \u001b[0mb\u001b[0m\u001b[1;33m,\u001b[0m \u001b[0mc\u001b[0m \u001b[1;33m=\u001b[0m \u001b[0mmap\u001b[0m\u001b[1;33m(\u001b[0m\u001b[0mint\u001b[0m\u001b[1;33m,\u001b[0m \u001b[0minput\u001b[0m\u001b[1;33m(\u001b[0m\u001b[1;33m)\u001b[0m\u001b[1;33m.\u001b[0m\u001b[0msplit\u001b[0m\u001b[1;33m(\u001b[0m\u001b[1;33m)\u001b[0m\u001b[1;33m)\u001b[0m\u001b[1;33m\u001b[0m\u001b[1;33m\u001b[0m\u001b[0m\n\u001b[0m\u001b[0;32m      3\u001b[0m \u001b[1;32mif\u001b[0m \u001b[0mc\u001b[0m\u001b[1;33m==\u001b[0m\u001b[0mb\u001b[0m\u001b[1;33m:\u001b[0m\u001b[1;33m\u001b[0m\u001b[1;33m\u001b[0m\u001b[0m\n\u001b[0;32m      4\u001b[0m     \u001b[0mprint\u001b[0m\u001b[1;33m(\u001b[0m\u001b[1;33m-\u001b[0m\u001b[1;36m1\u001b[0m\u001b[1;33m)\u001b[0m\u001b[1;33m\u001b[0m\u001b[1;33m\u001b[0m\u001b[0m\n\u001b[0;32m      5\u001b[0m \u001b[1;32melse\u001b[0m\u001b[1;33m:\u001b[0m\u001b[1;33m\u001b[0m\u001b[1;33m\u001b[0m\u001b[0m\n",
      "\u001b[1;31mValueError\u001b[0m: not enough values to unpack (expected 3, got 0)"
     ]
    }
   ],
   "source": [
    "# 1712 손익분기점\n",
    "a, b, c = map(int, input().split())\n",
    "if c==b:\n",
    "    print(-1)\n",
    "else:\n",
    "    n = a // (c-b)\n",
    "    if n+1<=0:\n",
    "        print(-1)\n",
    "    else:\n",
    "        print(n+1)"
   ]
  },
  {
   "cell_type": "code",
   "execution_count": null,
   "metadata": {},
   "outputs": [],
   "source": [
    "# 2292 벌집\n",
    "n = int(input())\n",
    "start = 1\n",
    "step = 1\n",
    "i = 1\n",
    "if n == 1:\n",
    "    print(1)\n",
    "else:\n",
    "    while True:\n",
    "        step +=1\n",
    "        if start <= n <= (start + 6* i):\n",
    "            print(step)\n",
    "            break\n",
    "        else:\n",
    "            start += 6* i\n",
    "            i += 1"
   ]
  },
  {
   "cell_type": "code",
   "execution_count": null,
   "metadata": {},
   "outputs": [],
   "source": [
    "# 1193\n",
    "x = int(input())\n",
    "n = 0\n",
    "sum = 0    \n",
    "fraction = []\n",
    "temp = 1\n",
    "while sum < x:\n",
    "    n += 1\n",
    "    sum += n\n",
    "if n%2 == 0:\n",
    "    for i in range(x-(sum-n),0,-1):\n",
    "        fraction.append(\"%d/%d\"%(temp, n))\n",
    "        temp +=1\n",
    "        n -=1\n",
    "else:\n",
    "    for i in range(x-(sum-n),0,-1):\n",
    "        fraction.append(\"%d/%d\"%(n,temp))\n",
    "        temp += 1\n",
    "        n -= 1\n",
    "print(fraction[x-(sum-n)-1])"
   ]
  },
  {
   "cell_type": "code",
   "execution_count": null,
   "metadata": {},
   "outputs": [],
   "source": [
    "# 2869\n",
    "a, b, v = map(int, input().split())\n",
    "day = (v-b)/(a-b)\n",
    "print(int(day) if day== int(day) else int(day)+1)"
   ]
  },
  {
   "cell_type": "code",
   "execution_count": null,
   "metadata": {},
   "outputs": [],
   "source": [
    "# 2775\n",
    "t = int(input())\n",
    "ans = []\n",
    "for _ in range(t):\n",
    "    floor = int(input())\n",
    "    room = int(input())\n",
    "    f0 = [x for x in range(1, room+1)]\n",
    "    for i in range(floor):\n",
    "        for j in range(1, room):\n",
    "            f0[j] += f0[j-1]\n",
    "    ans.append(f0[-1])\n",
    "for i in ans: print(i)\n",
    "    "
   ]
  },
  {
   "cell_type": "code",
   "execution_count": null,
   "metadata": {},
   "outputs": [],
   "source": [
    "# 2839\n",
    "sugar = int(input())\n",
    "bag = 0\n",
    "while sugar >= 0 :\n",
    "    if sugar % 5 == 0 :  # 5의 배수이면\n",
    "        bag += (sugar // 5)  # 5로 나눈 몫을 구해야 정수가 됨\n",
    "        print(bag)\n",
    "        break\n",
    "    sugar -= 3  \n",
    "    bag += 1  # 5의 배수가 될 때까지 설탕-3, 봉지+1\n",
    "else :\n",
    "    print(-1)"
   ]
  },
  {
   "cell_type": "code",
   "execution_count": 10,
   "metadata": {},
   "outputs": [
    {
     "name": "stdout",
     "output_type": "stream",
     "text": [
      "1\n",
      "6 12 12\n",
      "602\n"
     ]
    }
   ],
   "source": [
    "# 10250\n",
    "t = int(input())\n",
    "room = []\n",
    "for _ in range(t):\n",
    "    h, w, n = map(int, input().split())\n",
    "    ho = n//h+1\n",
    "    floor = n%h\n",
    "    if floor == 0: \n",
    "        floor= h\n",
    "        ho -=1\n",
    "    room.append(floor * 100 + ho)\n",
    "for _ in room: print(_)"
   ]
  },
  {
   "cell_type": "code",
   "execution_count": 3,
   "metadata": {},
   "outputs": [
    {
     "name": "stdout",
     "output_type": "stream",
     "text": [
      "3\n",
      "0 3\n",
      "1 5\n",
      "45 50\n",
      "3\n",
      "3\n",
      "4\n"
     ]
    }
   ],
   "source": [
    "# 1011\n",
    "t = int(input())\n",
    "ans = []\n",
    "for _ in range(t):\n",
    "    x, y = map(int,input().split())\n",
    "    count = 0  # 이동 횟수\n",
    "    move = 1  # count별 이동 가능한 거리\n",
    "    move_sum = 0  # 이동한 거리의 합\n",
    "    while move_sum < (y-x) :\n",
    "        count += 1\n",
    "        move_sum += move  \n",
    "        if count % 2 == 0 :  # count가 2의 배수일 때, \n",
    "            move += 1  \n",
    "    ans.append(count)\n",
    "for _ in ans: print(_)"
   ]
  },
  {
   "cell_type": "code",
   "execution_count": 13,
   "metadata": {
    "scrolled": false
   },
   "outputs": [
    {
     "name": "stdout",
     "output_type": "stream",
     "text": [
      "30 20\n",
      "10 20\n",
      "10 10\n",
      "30 10\n"
     ]
    }
   ],
   "source": [
    "# 3009 네 번째 점\n",
    "\n",
    "xs = []\n",
    "ys = []\n",
    "for _ in range(3):\n",
    "    x, y = map(int, input().split())\n",
    "    xs.append(x)\n",
    "    ys.append(y)\n",
    "for i in range(3):\n",
    "    if xs.count(xs[i]) == 1:\n",
    "        x = xs[i]\n",
    "    if ys.count(ys[i]) == 1:\n",
    "        y = ys[i]\n",
    "print(x,y)"
   ]
  },
  {
   "cell_type": "code",
   "execution_count": 17,
   "metadata": {},
   "outputs": [
    {
     "name": "stdout",
     "output_type": "stream",
     "text": [
      "6 2 10 3\n",
      "1\n"
     ]
    }
   ],
   "source": [
    "# 1085\n",
    "x,y,w,h = map(int, input().split())\n",
    "nums = [x,y,w,h,w-x,h-y]\n",
    "print(min(nums))"
   ]
  },
  {
   "cell_type": "code",
   "execution_count": 22,
   "metadata": {},
   "outputs": [
    {
     "name": "stdout",
     "output_type": "stream",
     "text": [
      "10 6 8\n",
      "0 0 0\n",
      "right\n"
     ]
    }
   ],
   "source": [
    "# 4153\n",
    "ans = []\n",
    "while True:\n",
    "    a = list(map(int, input().split()))\n",
    "    if sum(a) == 0:\n",
    "        break\n",
    "    max_a = max(a)\n",
    "    a.remove(max_a)\n",
    "    if max_a**2 == a[0]**2 + a[1]**2:\n",
    "        ans.append(\"right\")\n",
    "    else:\n",
    "        ans.append(\"wrong\")\n",
    "for i in ans: print(i)"
   ]
  },
  {
   "cell_type": "code",
   "execution_count": 1,
   "metadata": {},
   "outputs": [
    {
     "name": "stdout",
     "output_type": "stream",
     "text": [
      "4\n",
      "1 3 5 7\n",
      "3\n"
     ]
    }
   ],
   "source": [
    "# 1978\n",
    "n = int(input())\n",
    "nums = list(map(int, input().split()))\n",
    "prime = 0\n",
    "for num in nums:\n",
    "    i = 0\n",
    "    for j in range(1,num+1):\n",
    "        if num%j==0:\n",
    "            i += 1\n",
    "    if i == 2:\n",
    "        prime += 1\n",
    "print(prime)"
   ]
  },
  {
   "cell_type": "code",
   "execution_count": 19,
   "metadata": {},
   "outputs": [
    {
     "name": "stdout",
     "output_type": "stream",
     "text": [
      "60\n",
      "100\n",
      "620\n",
      "61\n"
     ]
    }
   ],
   "source": [
    "# 2581\n",
    "m = int(input())\n",
    "n = int(input())\n",
    "prime = []\n",
    "for num in range(m, n+1):\n",
    "    i = 0\n",
    "    for j in range(1, num+1):\n",
    "        if num%j == 0:\n",
    "            i +=1\n",
    "            if i>2:\n",
    "                break\n",
    "    if i == 2:\n",
    "        prime.append(num)\n",
    "if len(prime) == 0:\n",
    "    print(-1)\n",
    "else: print(sum(prime), prime[0], sep='\\n')"
   ]
  },
  {
   "cell_type": "code",
   "execution_count": 29,
   "metadata": {},
   "outputs": [
    {
     "name": "stdout",
     "output_type": "stream",
     "text": [
      "9991\n",
      "97\n",
      "103\n"
     ]
    }
   ],
   "source": [
    "# 11653\n",
    "n = int(input())\n",
    "j = 2\n",
    "while n> 1:\n",
    "    if n%j == 0:\n",
    "        print(j)\n",
    "        n /= j\n",
    "    else:\n",
    "        j+=1"
   ]
  },
  {
   "cell_type": "code",
   "execution_count": null,
   "metadata": {},
   "outputs": [],
   "source": [
    "# 4948\n",
    "while True:\n",
    "    n = int(input())\n",
    "    if n != 0:\n",
    "        prime =0\n",
    "        for num in range(n, 2*n+1):\n",
    "            i = 0\n",
    "            if num%2 == 0 and num !=2:\n",
    "                continue\n",
    "            else:\n",
    "                for j in range(1, num+1):\n",
    "                    if num % j ==0:\n",
    "                        i += 1\n",
    "                        if i >2:\n",
    "                            break\n",
    "            if i == 2:\n",
    "                print(prime)\n",
    "    else:\n",
    "        break"
   ]
  },
  {
   "cell_type": "code",
   "execution_count": null,
   "metadata": {},
   "outputs": [],
   "source": []
  }
 ],
 "metadata": {
  "kernelspec": {
   "display_name": "Python 3",
   "language": "python",
   "name": "python3"
  },
  "language_info": {
   "codemirror_mode": {
    "name": "ipython",
    "version": 3
   },
   "file_extension": ".py",
   "mimetype": "text/x-python",
   "name": "python",
   "nbconvert_exporter": "python",
   "pygments_lexer": "ipython3",
   "version": "3.7.4"
  }
 },
 "nbformat": 4,
 "nbformat_minor": 2
}
