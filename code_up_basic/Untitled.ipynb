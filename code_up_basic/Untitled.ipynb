{
 "cells": [
  {
   "cell_type": "markdown",
   "metadata": {},
   "source": [
    "### 4501 : 백설공주와 난장이\n",
    "\n",
    "안개 숲에는 백설 공주와 7명의 난장이가 함께 살고 있다.\n",
    "\n",
    "7명의 난장이의 키가 입력으로 주어질때 이 중 키가 가장 큰 난장이와 두 번째로 큰 난장이의 키를 출력하는 프로그램을 작성하시오.\n",
    "\n",
    "첫 째 줄부터 일곱 번째 줄까지 한 줄에 하나씩 난장이의 키가 주어진다. 주어지는 난장이의 키는 100보다 작은 자연수이다.\n",
    "\n",
    "첫째 줄에는 가장 키가 큰 난장이의 키를 출력한다. 두 번째로 키가 큰 난장이의 키를 출력한다.\n",
    "\n",
    "만약 가장 키가 큰 난장이가 둘 이상이라면 첫째 줄과 둘째 줄에 같은 값을 출력해야 한다."
   ]
  },
  {
   "cell_type": "code",
   "execution_count": 6,
   "metadata": {},
   "outputs": [
    {
     "name": "stdout",
     "output_type": "stream",
     "text": [
      "\n"
     ]
    },
    {
     "ename": "ValueError",
     "evalue": "invalid literal for int() with base 10: ''",
     "output_type": "error",
     "traceback": [
      "\u001b[1;31m---------------------------------------------------------------------------\u001b[0m",
      "\u001b[1;31mValueError\u001b[0m                                Traceback (most recent call last)",
      "\u001b[1;32m<ipython-input-6-7f4d1e5e4723>\u001b[0m in \u001b[0;36m<module>\u001b[1;34m\u001b[0m\n\u001b[1;32m----> 1\u001b[1;33m \u001b[0mdwarf\u001b[0m \u001b[1;33m=\u001b[0m \u001b[1;33m[\u001b[0m\u001b[0mint\u001b[0m\u001b[1;33m(\u001b[0m\u001b[0minput\u001b[0m\u001b[1;33m(\u001b[0m\u001b[1;33m)\u001b[0m\u001b[1;33m)\u001b[0m \u001b[1;32mfor\u001b[0m \u001b[0mi\u001b[0m \u001b[1;32min\u001b[0m \u001b[0mrange\u001b[0m\u001b[1;33m(\u001b[0m\u001b[1;36m7\u001b[0m\u001b[1;33m)\u001b[0m\u001b[1;33m]\u001b[0m\u001b[1;33m\u001b[0m\u001b[1;33m\u001b[0m\u001b[0m\n\u001b[0m\u001b[0;32m      2\u001b[0m \u001b[0mdwarf\u001b[0m\u001b[1;33m.\u001b[0m\u001b[0msort\u001b[0m\u001b[1;33m(\u001b[0m\u001b[0mreverse\u001b[0m\u001b[1;33m=\u001b[0m\u001b[1;32mTrue\u001b[0m\u001b[1;33m)\u001b[0m\u001b[1;33m\u001b[0m\u001b[1;33m\u001b[0m\u001b[0m\n\u001b[0;32m      3\u001b[0m \u001b[0mprint\u001b[0m\u001b[1;33m(\u001b[0m\u001b[0mdwarf\u001b[0m\u001b[1;33m[\u001b[0m\u001b[1;36m0\u001b[0m\u001b[1;33m]\u001b[0m\u001b[1;33m)\u001b[0m\u001b[1;33m\u001b[0m\u001b[1;33m\u001b[0m\u001b[0m\n\u001b[0;32m      4\u001b[0m \u001b[0mprint\u001b[0m\u001b[1;33m(\u001b[0m\u001b[0mdwarf\u001b[0m\u001b[1;33m[\u001b[0m\u001b[1;36m1\u001b[0m\u001b[1;33m]\u001b[0m\u001b[1;33m)\u001b[0m\u001b[1;33m\u001b[0m\u001b[1;33m\u001b[0m\u001b[0m\n",
      "\u001b[1;32m<ipython-input-6-7f4d1e5e4723>\u001b[0m in \u001b[0;36m<listcomp>\u001b[1;34m(.0)\u001b[0m\n\u001b[1;32m----> 1\u001b[1;33m \u001b[0mdwarf\u001b[0m \u001b[1;33m=\u001b[0m \u001b[1;33m[\u001b[0m\u001b[0mint\u001b[0m\u001b[1;33m(\u001b[0m\u001b[0minput\u001b[0m\u001b[1;33m(\u001b[0m\u001b[1;33m)\u001b[0m\u001b[1;33m)\u001b[0m \u001b[1;32mfor\u001b[0m \u001b[0mi\u001b[0m \u001b[1;32min\u001b[0m \u001b[0mrange\u001b[0m\u001b[1;33m(\u001b[0m\u001b[1;36m7\u001b[0m\u001b[1;33m)\u001b[0m\u001b[1;33m]\u001b[0m\u001b[1;33m\u001b[0m\u001b[1;33m\u001b[0m\u001b[0m\n\u001b[0m\u001b[0;32m      2\u001b[0m \u001b[0mdwarf\u001b[0m\u001b[1;33m.\u001b[0m\u001b[0msort\u001b[0m\u001b[1;33m(\u001b[0m\u001b[0mreverse\u001b[0m\u001b[1;33m=\u001b[0m\u001b[1;32mTrue\u001b[0m\u001b[1;33m)\u001b[0m\u001b[1;33m\u001b[0m\u001b[1;33m\u001b[0m\u001b[0m\n\u001b[0;32m      3\u001b[0m \u001b[0mprint\u001b[0m\u001b[1;33m(\u001b[0m\u001b[0mdwarf\u001b[0m\u001b[1;33m[\u001b[0m\u001b[1;36m0\u001b[0m\u001b[1;33m]\u001b[0m\u001b[1;33m)\u001b[0m\u001b[1;33m\u001b[0m\u001b[1;33m\u001b[0m\u001b[0m\n\u001b[0;32m      4\u001b[0m \u001b[0mprint\u001b[0m\u001b[1;33m(\u001b[0m\u001b[0mdwarf\u001b[0m\u001b[1;33m[\u001b[0m\u001b[1;36m1\u001b[0m\u001b[1;33m]\u001b[0m\u001b[1;33m)\u001b[0m\u001b[1;33m\u001b[0m\u001b[1;33m\u001b[0m\u001b[0m\n",
      "\u001b[1;31mValueError\u001b[0m: invalid literal for int() with base 10: ''"
     ]
    }
   ],
   "source": [
    "dwarf = [int(input()) for i in range(7)]\n",
    "dwarf.sort(reverse=True)\n",
    "print(dwarf[0])\n",
    "print(dwarf[1])"
   ]
  },
  {
   "cell_type": "markdown",
   "metadata": {},
   "source": [
    "### 3011 : 거품 정렬"
   ]
  },
  {
   "cell_type": "code",
   "execution_count": 103,
   "metadata": {},
   "outputs": [
    {
     "name": "stdout",
     "output_type": "stream",
     "text": [
      "5\n",
      "10 50 30 20 40\n",
      "2\n"
     ]
    }
   ],
   "source": [
    "# list() 함수 사용시 index out of range X\n",
    "n = int(input())\n",
    "nums = list(map(int, input().strip().split()))\n",
    "count = 0\n",
    "for i in range(n):\n",
    "    change = False\n",
    "    for j in range(n-i-1):\n",
    "        if nums[j] > nums[j+1]:\n",
    "            nums[j], nums[j+1] = nums[j+1], nums[j]\n",
    "            change = True\n",
    "    if change:\n",
    "        count += 1\n",
    "print(count)"
   ]
  },
  {
   "cell_type": "code",
   "execution_count": 107,
   "metadata": {},
   "outputs": [],
   "source": [
    "# list함수 대신 [] 사용시 index out of range 나타남! \n",
    "# n = int(input())\n",
    "# nums = [map(int, input().strip().split())]\n",
    "# count = 0\n",
    "# for i in range(n):\n",
    "#     change = False\n",
    "#     for j in range(n-i-1):\n",
    "#         if nums[j] > nums[j+1]:\n",
    "#             nums[j], nums[j+1] = nums[j+1], nums[j]\n",
    "#             change = True\n",
    "#     if change:\n",
    "#         count += 1\n",
    "# print(count)"
   ]
  },
  {
   "cell_type": "code",
   "execution_count": 110,
   "metadata": {},
   "outputs": [
    {
     "name": "stdout",
     "output_type": "stream",
     "text": [
      "8 7 6\n",
      "6 7 8 "
     ]
    }
   ],
   "source": [
    "# 1172\n",
    "nums = list(map(int, input().split()))\n",
    "for num in sorted(nums): print(num, end=\" \")"
   ]
  },
  {
   "cell_type": "code",
   "execution_count": 130,
   "metadata": {},
   "outputs": [
    {
     "name": "stdout",
     "output_type": "stream",
     "text": [
      "5\n",
      "djoek 78\n",
      "sjle 100\n",
      "lk 45\n",
      "eod 76\n",
      "dke 99\n",
      "djoek\n"
     ]
    }
   ],
   "source": [
    "# 1420 : 3등 찾기\n",
    "n = int(input())\n",
    "names = []\n",
    "scores = []\n",
    "for i in range(n):\n",
    "    a = list(input().split())\n",
    "    names.append(a[0])\n",
    "    scores.append(int(a[1]))\n",
    "print(names[scores.index(sorted(scores, reverse=True)[2])])"
   ]
  },
  {
   "cell_type": "code",
   "execution_count": 134,
   "metadata": {},
   "outputs": [
    {
     "name": "stdout",
     "output_type": "stream",
     "text": [
      "5\n",
      "1\n",
      "3\n",
      "2\n",
      "5\n",
      "4\n",
      "1\n",
      "2\n",
      "3\n",
      "4\n",
      "5\n"
     ]
    }
   ],
   "source": [
    "# 1441 : 버블 정렬\n",
    "def sort_num(n, nums):\n",
    "    for i in range(n):\n",
    "        for j in range(n-i-1):\n",
    "            if nums[j] > nums[j+1]:\n",
    "                nums[j], nums[j+1] = nums[j+1], nums[j]\n",
    "    for num in nums: print(num)\n",
    "    \n",
    "n = int(input())\n",
    "nums = [int(input()) for i in range(n)]\n",
    "a = sort_num(n, nums)"
   ]
  },
  {
   "cell_type": "code",
   "execution_count": 135,
   "metadata": {},
   "outputs": [
    {
     "name": "stdout",
     "output_type": "stream",
     "text": [
      "5\n",
      "1\n",
      "3\n",
      "2\n",
      "5\n",
      "4\n",
      "1\n",
      "2\n",
      "3\n",
      "4\n",
      "5\n"
     ]
    }
   ],
   "source": [
    "# 1442 : 선택정렬\n",
    "n = int(input())\n",
    "nums = [int(input()) for i in range(n)]\n",
    "for i in sorted(nums): print(i)"
   ]
  },
  {
   "cell_type": "code",
   "execution_count": 136,
   "metadata": {},
   "outputs": [
    {
     "name": "stdout",
     "output_type": "stream",
     "text": [
      "5\n",
      "1\n",
      "3\n",
      "2\n",
      "5\n",
      "4\n",
      "1\n",
      "2\n",
      "3\n",
      "4\n",
      "5\n"
     ]
    }
   ],
   "source": [
    "# 1443: 삽입정렬\n",
    "n = int(input())\n",
    "arr = [int(input()) for i in range(n)]\n",
    "def insertion_sort(arr):\n",
    "    for end in range(1, len(arr)):\n",
    "        for i in range(end, 0, -1):\n",
    "            if arr[i - 1] > arr[i]:\n",
    "                arr[i - 1], arr[i] = arr[i], arr[i - 1]\n",
    "    for i in arr: print(i)\n",
    "a = insertion_sort(arr)"
   ]
  },
  {
   "cell_type": "code",
   "execution_count": 143,
   "metadata": {},
   "outputs": [
    {
     "name": "stdout",
     "output_type": "stream",
     "text": [
      "7\n",
      "51 44 81 1 9 12 25\n",
      "81 51 44 25 12 9 1 "
     ]
    }
   ],
   "source": [
    "# 1709\n",
    "n = int(input())\n",
    "arr = list(map(int, input().split()))\n",
    "for i in sorted(arr, reverse=True): print(i , end=\" \")"
   ]
  },
  {
   "cell_type": "code",
   "execution_count": 159,
   "metadata": {},
   "outputs": [
    {
     "ename": "SyntaxError",
     "evalue": "invalid syntax (<ipython-input-159-ab1e37f579c5>, line 5)",
     "output_type": "error",
     "traceback": [
      "\u001b[1;36m  File \u001b[1;32m\"<ipython-input-159-ab1e37f579c5>\"\u001b[1;36m, line \u001b[1;32m5\u001b[0m\n\u001b[1;33m    for i in arr: print(sorted(arr).index(i), end=\" \"))\u001b[0m\n\u001b[1;37m                                                      ^\u001b[0m\n\u001b[1;31mSyntaxError\u001b[0m\u001b[1;31m:\u001b[0m invalid syntax\n"
     ]
    }
   ],
   "source": [
    "# 3004 -- 시간초과\n",
    "n = int(input())\n",
    "arr = list(map(int, input().split()))\n",
    "for i in arr: print(sorted(arr).index(i), end=\" \")"
   ]
  },
  {
   "cell_type": "code",
   "execution_count": 177,
   "metadata": {},
   "outputs": [
    {
     "name": "stdout",
     "output_type": "stream",
     "text": [
      "5\n",
      "-2 4 -99 -1 98\n",
      "-99 98 "
     ]
    }
   ],
   "source": [
    "# 4701\n",
    "n = int(input())\n",
    "arr = list(map(int, input().split()))\n",
    "arr_sum = []\n",
    "arr_set = []\n",
    "for i in range(n-1):\n",
    "    for j in range(n-2,-1+i,-1):\n",
    "        arr_set.append((arr[i],arr[j+1]))\n",
    "        arr_sum.append(abs(0-(arr[i]+arr[j+1])))\n",
    "for i in arr_set[arr_sum.index(min(arr_sum))]: print(i, end=\" \")"
   ]
  },
  {
   "cell_type": "code",
   "execution_count": 178,
   "metadata": {},
   "outputs": [
    {
     "data": {
      "text/plain": [
       "[(-2, 98),\n",
       " (-2, -1),\n",
       " (-2, -99),\n",
       " (-2, 4),\n",
       " (4, 98),\n",
       " (4, -1),\n",
       " (4, -99),\n",
       " (-99, 98),\n",
       " (-99, -1),\n",
       " (-1, 98)]"
      ]
     },
     "execution_count": 178,
     "metadata": {},
     "output_type": "execute_result"
    }
   ],
   "source": [
    "arr_set = [(arr[i], arr[j+1]) for i in range(n-1) for j in range(n-2, -1+i, -1)]\n",
    "arr_sum = [abs(0-(arr[i]))]"
   ]
  },
  {
   "cell_type": "code",
   "execution_count": null,
   "metadata": {},
   "outputs": [],
   "source": []
  },
  {
   "cell_type": "code",
   "execution_count": null,
   "metadata": {},
   "outputs": [],
   "source": []
  },
  {
   "cell_type": "code",
   "execution_count": null,
   "metadata": {},
   "outputs": [],
   "source": []
  }
 ],
 "metadata": {
  "kernelspec": {
   "display_name": "Python 3",
   "language": "python",
   "name": "python3"
  },
  "language_info": {
   "codemirror_mode": {
    "name": "ipython",
    "version": 3
   },
   "file_extension": ".py",
   "mimetype": "text/x-python",
   "name": "python",
   "nbconvert_exporter": "python",
   "pygments_lexer": "ipython3",
   "version": "3.7.4"
  }
 },
 "nbformat": 4,
 "nbformat_minor": 2
}
