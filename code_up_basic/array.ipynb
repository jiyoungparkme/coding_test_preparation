{
 "cells": [
  {
   "cell_type": "code",
   "execution_count": 4,
   "metadata": {},
   "outputs": [
    {
     "name": "stdout",
     "output_type": "stream",
     "text": [
      "5\n",
      "1 3 5 6 8\n",
      "8 6 5 3 1 "
     ]
    }
   ],
   "source": [
    "# 1402\n",
    "n = int(input())\n",
    "a = list(map(int, input().split()))\n",
    "for i in reversed(a): print(i, end=\" \")"
   ]
  },
  {
   "cell_type": "code",
   "execution_count": 7,
   "metadata": {},
   "outputs": [
    {
     "name": "stdout",
     "output_type": "stream",
     "text": [
      "3\n",
      "1 2 3\n",
      "1\n",
      "2\n",
      "3\n",
      "1\n",
      "2\n",
      "3\n"
     ]
    }
   ],
   "source": [
    "# 1403\n",
    "n = int(input())\n",
    "a = list(map(int, input().split()))\n",
    "for i in range(2):\n",
    "    for j in a: print(j)"
   ]
  },
  {
   "cell_type": "code",
   "execution_count": 15,
   "metadata": {},
   "outputs": [
    {
     "name": "stdout",
     "output_type": "stream",
     "text": [
      "5\n",
      "1 2 3 4 5\n",
      "1 2 3 4 5 \n",
      "2 3 4 5 1 \n",
      "3 4 5 1 2 \n",
      "4 5 1 2 3 \n",
      "5 1 2 3 4 \n"
     ]
    }
   ],
   "source": [
    "# 1404\n",
    "n = int(input())\n",
    "a = list(map(int, input().split()))\n",
    "for i in range(n):\n",
    "    for j in range(0,n):\n",
    "        if i+j < n:\n",
    "            print(a[i+j], end=\" \")\n",
    "        else:\n",
    "            print(a[i+j-n], end=\" \")\n",
    "    print()"
   ]
  },
  {
   "cell_type": "code",
   "execution_count": 19,
   "metadata": {},
   "outputs": [
    {
     "name": "stdout",
     "output_type": "stream",
     "text": [
      "abc def gh\n",
      "abcdefgh"
     ]
    }
   ],
   "source": [
    "# 1407\n",
    "words = list(input().split())\n",
    "for word in words: print(word, end=\"\")"
   ]
  },
  {
   "cell_type": "code",
   "execution_count": 20,
   "metadata": {},
   "outputs": [
    {
     "name": "stdout",
     "output_type": "stream",
     "text": [
      "10 9 8 7 6 5 4 3 2 1 \n",
      "3\n",
      "8\n"
     ]
    }
   ],
   "source": [
    "# 1408\n",
    "words = list(input().split())\n",
    "k = int(input())\n",
    "print(words[k-1])"
   ]
  },
  {
   "cell_type": "code",
   "execution_count": 22,
   "metadata": {},
   "outputs": [
    {
     "name": "stdout",
     "output_type": "stream",
     "text": [
      "((())()(()))\n"
     ]
    },
    {
     "data": {
      "text/plain": [
       "'((())()(()))'"
      ]
     },
     "execution_count": 22,
     "metadata": {},
     "output_type": "execute_result"
    }
   ],
   "source": [
    "# 1410:\n",
    "bracket = input()\n",
    "o_bk = 0\n",
    "c_bk = 0\n",
    "for i in bracket:\n",
    "    if i==\"(\":\n",
    "        o_bk += 1\n",
    "    if i==\")\":\n",
    "        c_bk += 1\n",
    "print(o_bk, c_bk)"
   ]
  },
  {
   "cell_type": "code",
   "execution_count": 41,
   "metadata": {},
   "outputs": [
    {
     "name": "stdout",
     "output_type": "stream",
     "text": [
      "10\n",
      "3\n",
      "4\n",
      "1\n",
      "10\n",
      "2\n",
      "6\n",
      "7\n",
      "5\n",
      "9\n",
      "8\n"
     ]
    }
   ],
   "source": [
    "# 1411\n",
    "n = int(input())\n",
    "orginal = set(range(1,n+1))\n",
    "left = set(int(input()) for i in range(n-1))\n",
    "for i in orginal - left: print(i)"
   ]
  },
  {
   "cell_type": "code",
   "execution_count": 60,
   "metadata": {},
   "outputs": [
    {
     "name": "stdout",
     "output_type": "stream",
     "text": [
      "oh! my god!\n",
      "a:0\n",
      "b:0\n",
      "c:0\n",
      "d:1\n",
      "e:0\n",
      "f:0\n",
      "g:1\n",
      "h:1\n",
      "i:0\n",
      "j:0\n",
      "k:0\n",
      "l:0\n",
      "m:1\n",
      "n:0\n",
      "o:2\n",
      "p:0\n",
      "q:0\n",
      "r:0\n",
      "s:0\n",
      "t:0\n",
      "u:0\n",
      "v:0\n",
      "w:0\n",
      "x:0\n",
      "y:1\n",
      "z:0\n"
     ]
    }
   ],
   "source": [
    "# 1412\n",
    "from string import ascii_lowercase\n",
    "import numpy as np\n",
    "alpha = list(ascii_lowercase)\n",
    "count = list(np.zeros(26, dtype=int))\n",
    "alpha_count = dict(zip(alpha, count))\n",
    "sentence = input()\n",
    "for i in alpha_count.keys():\n",
    "    for j in sentence:\n",
    "        if i == j:\n",
    "            alpha_count[i] += 1\n",
    "for i, j in sorted(alpha_count.items()): print(\"%s:%d\"%(i,j))"
   ]
  },
  {
   "cell_type": "code",
   "execution_count": 70,
   "metadata": {},
   "outputs": [
    {
     "name": "stdout",
     "output_type": "stream",
     "text": [
      "7\n",
      "111\n"
     ]
    }
   ],
   "source": [
    "# 1416\n",
    "n =int(input())\n",
    "print(format(n, \"b\"))"
   ]
  },
  {
   "cell_type": "code",
   "execution_count": 81,
   "metadata": {},
   "outputs": [
    {
     "name": "stdout",
     "output_type": "stream",
     "text": [
      "9 6\n",
      "160 165 164 165 150 165 168 145 170\n",
      "145 150 160 164 165 165 \n",
      "165 168 170 "
     ]
    }
   ],
   "source": [
    "# 1425\n",
    "# 표현오류\n",
    "n, c = map(int, input().split())\n",
    "heights = list(map(int, input().split()))\n",
    "heights.sort(reverse=False)\n",
    "for j in range(n):\n",
    "    if j == c-1:\n",
    "        print(heights[j], end = \"\\n\")\n",
    "    else:\n",
    "        print(heights[j], end=\" \")"
   ]
  },
  {
   "cell_type": "code",
   "execution_count": 84,
   "metadata": {},
   "outputs": [
    {
     "name": "stdout",
     "output_type": "stream",
     "text": [
      "145 150 160 164 165 165 \n",
      "165 168 170 \n"
     ]
    }
   ],
   "source": [
    "# 정답\n",
    "students = heights\n",
    "for i in range(0, int(n/c)+1):\n",
    "    for j in range(i*c, i*c+c):\n",
    "        if j >= len(students):\n",
    "            break\n",
    "        print(students[j], end=' ')\n",
    "    print()"
   ]
  },
  {
   "cell_type": "code",
   "execution_count": 5,
   "metadata": {},
   "outputs": [
    {
     "name": "stdout",
     "output_type": "stream",
     "text": [
      "5\n",
      "2 52 23 55 100\n",
      "4\n",
      "5 2 55 99\n"
     ]
    },
    {
     "ename": "AttributeError",
     "evalue": "'list' object has no attribute 'readline'",
     "output_type": "error",
     "traceback": [
      "\u001b[1;31m---------------------------------------------------------------------------\u001b[0m",
      "\u001b[1;31mAttributeError\u001b[0m                            Traceback (most recent call last)",
      "\u001b[1;32m<ipython-input-5-0aa5c0e542ac>\u001b[0m in \u001b[0;36m<module>\u001b[1;34m\u001b[0m\n\u001b[0;32m      3\u001b[0m \u001b[0manswer\u001b[0m \u001b[1;33m=\u001b[0m \u001b[0mlist\u001b[0m\u001b[1;33m(\u001b[0m\u001b[0mmap\u001b[0m\u001b[1;33m(\u001b[0m\u001b[0mint\u001b[0m\u001b[1;33m,\u001b[0m \u001b[0minput\u001b[0m\u001b[1;33m(\u001b[0m\u001b[1;33m)\u001b[0m\u001b[1;33m.\u001b[0m\u001b[0msplit\u001b[0m\u001b[1;33m(\u001b[0m\u001b[1;33m)\u001b[0m\u001b[1;33m)\u001b[0m\u001b[1;33m)\u001b[0m\u001b[1;33m\u001b[0m\u001b[1;33m\u001b[0m\u001b[0m\n\u001b[0;32m      4\u001b[0m \u001b[0mm\u001b[0m \u001b[1;33m=\u001b[0m \u001b[0mint\u001b[0m\u001b[1;33m(\u001b[0m\u001b[0minput\u001b[0m\u001b[1;33m(\u001b[0m\u001b[1;33m)\u001b[0m\u001b[1;33m)\u001b[0m\u001b[1;33m\u001b[0m\u001b[1;33m\u001b[0m\u001b[0m\n\u001b[1;32m----> 5\u001b[1;33m \u001b[0mquestion\u001b[0m \u001b[1;33m=\u001b[0m \u001b[1;33m[\u001b[0m\u001b[1;36m0\u001b[0m \u001b[1;32mif\u001b[0m \u001b[0mi\u001b[0m \u001b[1;32mnot\u001b[0m \u001b[1;32min\u001b[0m \u001b[0manswer\u001b[0m \u001b[1;32melse\u001b[0m \u001b[1;36m1\u001b[0m \u001b[1;32mfor\u001b[0m \u001b[0mi\u001b[0m \u001b[1;32min\u001b[0m \u001b[0mlist\u001b[0m\u001b[1;33m(\u001b[0m\u001b[0mmap\u001b[0m\u001b[1;33m(\u001b[0m\u001b[0mint\u001b[0m\u001b[1;33m,\u001b[0m \u001b[0minput\u001b[0m\u001b[1;33m(\u001b[0m\u001b[1;33m)\u001b[0m\u001b[1;33m.\u001b[0m\u001b[0msplit\u001b[0m\u001b[1;33m(\u001b[0m\u001b[1;33m)\u001b[0m\u001b[1;33m)\u001b[0m\u001b[1;33m)\u001b[0m\u001b[1;33m.\u001b[0m\u001b[0mreadline\u001b[0m\u001b[1;33m(\u001b[0m\u001b[1;33m)\u001b[0m\u001b[1;33m]\u001b[0m\u001b[1;33m\u001b[0m\u001b[1;33m\u001b[0m\u001b[0m\n\u001b[0m\u001b[0;32m      6\u001b[0m \u001b[1;32mfor\u001b[0m \u001b[0mi\u001b[0m \u001b[1;32min\u001b[0m \u001b[0mreadline\u001b[0m\u001b[1;33m(\u001b[0m\u001b[0mquestion\u001b[0m\u001b[1;33m)\u001b[0m\u001b[1;33m:\u001b[0m\u001b[1;33m\u001b[0m\u001b[1;33m\u001b[0m\u001b[0m\n\u001b[0;32m      7\u001b[0m     \u001b[0mprint\u001b[0m\u001b[1;33m(\u001b[0m\u001b[0mi\u001b[0m\u001b[1;33m,\u001b[0m \u001b[0mend\u001b[0m\u001b[1;33m=\u001b[0m\u001b[1;34m\" \"\u001b[0m\u001b[1;33m)\u001b[0m\u001b[1;33m\u001b[0m\u001b[1;33m\u001b[0m\u001b[0m\n",
      "\u001b[1;31mAttributeError\u001b[0m: 'list' object has no attribute 'readline'"
     ]
    }
   ],
   "source": [
    "# 1430 -- 메모리 초과 파이썬 불가\n",
    "n = int(input())\n",
    "answer = list(map(int, input().split()))\n",
    "m = int(input())\n",
    "question = [0 if i not in answer else 1 for i in list(map(int, input().split()))]\n",
    "for i in question:\n",
    "    print(i, end=\" \")"
   ]
  },
  {
   "cell_type": "code",
   "execution_count": 8,
   "metadata": {},
   "outputs": [
    {
     "name": "stdout",
     "output_type": "stream",
     "text": [
      "5\n",
      "1 2 3 2 1\n",
      "1: < < < = \n",
      "2: > < = > \n",
      "3: > > > > \n",
      "4: > = < > \n",
      "5: = < < < \n"
     ]
    }
   ],
   "source": [
    "# 1440\n",
    "n = int(input())\n",
    "arr = list(map(int, input().split()))\n",
    "for i in range(n):\n",
    "    print(\"%d:\" %(i+1), end = \" \")\n",
    "    for j in range(n):\n",
    "        if i==j:\n",
    "            pass\n",
    "        else:\n",
    "            if arr[i]> arr[j]:\n",
    "                print(\">\", end=\" \")\n",
    "            elif arr[i] == arr[j]:\n",
    "                print(\"=\", end= \" \")\n",
    "            else: print(\"<\", end=\" \")\n",
    "    print()"
   ]
  },
  {
   "cell_type": "code",
   "execution_count": null,
   "metadata": {},
   "outputs": [],
   "source": [
    "# 1408 \n",
    "pw = input()\n",
    "for i in pw:\n",
    "    print(chr(ord(i)+2), end=\"\")\n",
    "print()\n",
    "for i in pw:\n",
    "    print(chr((ord(i)*7)%80+48), end = \"\")"
   ]
  },
  {
   "cell_type": "code",
   "execution_count": 31,
   "metadata": {},
   "outputs": [
    {
     "name": "stdout",
     "output_type": "stream",
     "text": [
      "cCCc\n",
      "4\n",
      "3\n"
     ]
    }
   ],
   "source": [
    "# 1414\n",
    "word = input().lower()\n",
    "c_cnt = 0\n",
    "cc_cnt = 0\n",
    "for i in word:\n",
    "    if i ==\"c\":\n",
    "        c_cnt+=1\n",
    "for i in range(len(word)-1):\n",
    "    if word[i:i+2] == \"cc\":\n",
    "        cc_cnt +=1\n",
    "print(c_cnt)\n",
    "print(cc_cnt)"
   ]
  },
  {
   "cell_type": "code",
   "execution_count": null,
   "metadata": {},
   "outputs": [],
   "source": [
    "# 1418\n",
    "word = input().lower()\n",
    "for i in range(len(word)):\n",
    "    if word[i]==\"t\":\n",
    "        print(i+1, end=\" \")"
   ]
  },
  {
   "cell_type": "code",
   "execution_count": 4,
   "metadata": {},
   "outputs": [
    {
     "name": "stdout",
     "output_type": "stream",
     "text": [
      "i lovelovelove you love me.\n",
      "4\n"
     ]
    }
   ],
   "source": [
    "# 1419\n",
    "string = input().lower()\n",
    "cnt = 0\n",
    "for i in range(0, len(string)-4):\n",
    "    if string[i:i+4] == 'love':\n",
    "        cnt += 1\n",
    "print(cnt)"
   ]
  },
  {
   "cell_type": "code",
   "execution_count": 7,
   "metadata": {},
   "outputs": [
    {
     "name": "stdout",
     "output_type": "stream",
     "text": [
      "ioi\n",
      "I don't care.\n"
     ]
    }
   ],
   "source": [
    "# 1733\n",
    "word = input()\n",
    "if word == 'IOI':\n",
    "    print(\"IOI is the International Olympiad in Informatics.\")\n",
    "else:\n",
    "    print(\"I don't care.\")"
   ]
  },
  {
   "cell_type": "code",
   "execution_count": 8,
   "metadata": {},
   "outputs": [
    {
     "name": "stdout",
     "output_type": "stream",
     "text": [
      "anaki\n",
      "welcome! anaki\n"
     ]
    }
   ],
   "source": [
    "# 1734\n",
    "id = input()\n",
    "print(\"welcome! %s\" %id)"
   ]
  },
  {
   "cell_type": "code",
   "execution_count": 10,
   "metadata": {},
   "outputs": [
    {
     "name": "stdout",
     "output_type": "stream",
     "text": [
      "18 17\n",
      "17 18\n"
     ]
    }
   ],
   "source": [
    "# 1754\n",
    "n, m = map(int, input().split())\n",
    "if n < m:\n",
    "    print(\"%d %d\" %(n,m))\n",
    "else:\n",
    "    print(\"%d %d\" %(m,n))"
   ]
  },
  {
   "cell_type": "code",
   "execution_count": 11,
   "metadata": {},
   "outputs": [
    {
     "name": "stdout",
     "output_type": "stream",
     "text": [
      "turtle\n",
      "error\n",
      "robot\n",
      "good\n"
     ]
    }
   ],
   "source": [
    "# 2721\n",
    "s1 = input()\n",
    "s2 = input()\n",
    "s3 = input()\n",
    "if s1[0]==s3[-1] and s1[len(s1)-1]==s2[0] and s2[len(s2)-1]==s3[0]:\n",
    "    print(\"good\")\n",
    "else:\n",
    "    print(\"bad\")"
   ]
  },
  {
   "cell_type": "code",
   "execution_count": 15,
   "metadata": {},
   "outputs": [
    {
     "name": "stdout",
     "output_type": "stream",
     "text": [
      "5\n",
      "1 2 3 4 5 \n",
      "6 7 8 9 10 \n",
      "11 12 13 14 15 \n",
      "16 17 18 19 20 \n",
      "21 22 23 24 25 \n"
     ]
    }
   ],
   "source": [
    "# 1460\n",
    "n = int(input())\n",
    "num = 1\n",
    "for i in range(n):\n",
    "    for j in range(n):\n",
    "        print(num, end=\" \")\n",
    "        num +=1\n",
    "    print()"
   ]
  },
  {
   "cell_type": "code",
   "execution_count": 16,
   "metadata": {},
   "outputs": [
    {
     "name": "stdout",
     "output_type": "stream",
     "text": [
      "3\n",
      "3 2 1 \n",
      "6 5 4 \n",
      "9 8 7 \n"
     ]
    }
   ],
   "source": [
    "# 1461\n",
    "n = int(input())\n",
    "for i in range(1,n+1):\n",
    "    num = n*i\n",
    "    for j in range(n):\n",
    "        print(num, end=\" \")\n",
    "        num -= 1\n",
    "    print()"
   ]
  },
  {
   "cell_type": "code",
   "execution_count": 18,
   "metadata": {},
   "outputs": [
    {
     "name": "stdout",
     "output_type": "stream",
     "text": [
      "3\n",
      "3 6 9 \n",
      "2 5 8 \n",
      "1 4 7 \n"
     ]
    }
   ],
   "source": [
    "# 1462\n",
    "n = int(input())\n",
    "for i in range(n,0,-1):\n",
    "    num = i\n",
    "    for j in range(n):\n",
    "        print(num, end=\" \")\n",
    "        num += n\n",
    "    print()"
   ]
  },
  {
   "cell_type": "code",
   "execution_count": 21,
   "metadata": {},
   "outputs": [
    {
     "name": "stdout",
     "output_type": "stream",
     "text": [
      "3 4\n",
      "12 11 10 9 \n",
      "8 7 6 5 \n",
      "4 3 2 1 \n"
     ]
    }
   ],
   "source": [
    "# 1464\n",
    "n, m = map(int, input().split())\n",
    "for i in range(n,0,-1):\n",
    "    num = i*m\n",
    "    for j in range(m):\n",
    "        print(num, end=\" \")\n",
    "        num -= 1\n",
    "    print()"
   ]
  },
  {
   "cell_type": "code",
   "execution_count": 24,
   "metadata": {},
   "outputs": [
    {
     "name": "stdout",
     "output_type": "stream",
     "text": [
      "3 4\n",
      "9 10 11 12 \n",
      "5 6 7 8 \n",
      "1 2 3 4 \n"
     ]
    }
   ],
   "source": [
    "# 1465\n",
    "n, m = map(int, input().split())\n",
    "for i in range(n-1,-1,-1):\n",
    "    num = 1+m*i\n",
    "    for j in range(m):\n",
    "        print(num, end=\" \")\n",
    "        num += 1\n",
    "    print()"
   ]
  },
  {
   "cell_type": "code",
   "execution_count": 27,
   "metadata": {},
   "outputs": [
    {
     "name": "stdout",
     "output_type": "stream",
     "text": [
      "3 4\n",
      "12 9 6 3 \n",
      "11 8 5 2 \n",
      "10 7 4 1 \n"
     ]
    }
   ],
   "source": [
    "# 1466\n",
    "n, m = map(int, input().split())\n",
    "num1 = n*m\n",
    "for i in range(n):\n",
    "    num2 = num1\n",
    "    for j in range(m):\n",
    "        print(num2, end=\" \")\n",
    "        num2 -= n\n",
    "    print()\n",
    "    num1 -=1"
   ]
  },
  {
   "cell_type": "code",
   "execution_count": 28,
   "metadata": {},
   "outputs": [
    {
     "name": "stdout",
     "output_type": "stream",
     "text": [
      "3 4\n",
      "10 7 4 1 \n",
      "11 8 5 2 \n",
      "12 9 6 3 \n"
     ]
    }
   ],
   "source": [
    "# 1467\n",
    "n, m = map(int, input().split())\n",
    "num1 = n*m - (n-1)\n",
    "for i in range(n):\n",
    "    num2 = num1\n",
    "    for j in range(m):\n",
    "        print(num2, end=\" \")\n",
    "        num2 -= n\n",
    "    print()\n",
    "    num1 +=1"
   ]
  },
  {
   "cell_type": "code",
   "execution_count": 34,
   "metadata": {},
   "outputs": [
    {
     "name": "stdout",
     "output_type": "stream",
     "text": [
      "5\n",
      "1 2 3 4 5 \n",
      "10 9 8 7 6 \n",
      "11 12 13 14 15 \n",
      "20 19 18 17 16 \n",
      "21 22 23 24 25 \n"
     ]
    }
   ],
   "source": [
    "# 1468\n",
    "n = int(input())\n",
    "odd = True\n",
    "for i in range(0,n):\n",
    "    if odd == True:\n",
    "        num = 1 + n*i\n",
    "        for j in range(n):\n",
    "            print(num, end=\" \")\n",
    "            num +=1\n",
    "        print()\n",
    "        odd = False\n",
    "    else:\n",
    "        num += n-1\n",
    "        for j in range(n):\n",
    "            print(num, end=\" \")\n",
    "            num -= 1\n",
    "        print()\n",
    "        odd = True"
   ]
  },
  {
   "cell_type": "code",
   "execution_count": 51,
   "metadata": {},
   "outputs": [
    {
     "name": "stdout",
     "output_type": "stream",
     "text": [
      "5\n",
      "5 4 3 2 1 \n",
      "6 7 8 9 10 \n",
      "15 14 13 12 11 \n",
      "16 17 18 19 20 \n",
      "25 24 23 22 21 \n"
     ]
    }
   ],
   "source": [
    "# 1469\n",
    "n = int(input())\n",
    "odd = True\n",
    "for i in range(1,n+1):\n",
    "    if odd == True:\n",
    "        num = n*i\n",
    "        for j in range(n):\n",
    "            print(num, end=\" \")\n",
    "            num -=1\n",
    "        print()\n",
    "        odd = False\n",
    "    else:\n",
    "        num = i*n - (n-1)\n",
    "        for j in range(n):\n",
    "            print(num, end=' ')\n",
    "            num += 1\n",
    "        print()\n",
    "        odd = True"
   ]
  },
  {
   "cell_type": "code",
   "execution_count": 58,
   "metadata": {},
   "outputs": [
    {
     "name": "stdout",
     "output_type": "stream",
     "text": [
      "5\n",
      "1 10 11 20 21 \n",
      "2 9 12 19 22 \n",
      "3 8 13 18 23 \n",
      "4 7 14 17 24 \n",
      "5 6 15 16 25 \n"
     ]
    }
   ],
   "source": [
    "# 1470\n",
    "n = int(input())\n",
    "\n",
    "for i in range(0,n):\n",
    "    odd = True\n",
    "    num1 = i+1\n",
    "    num2 = 2*n-i\n",
    "    for j in range(n,0,-1):\n",
    "        if odd == True:\n",
    "            print(num1, end=\" \")\n",
    "            odd = False\n",
    "            num1 += 2*n\n",
    "        else:\n",
    "            print(num2, end=\" \")\n",
    "            odd = True\n",
    "            num2 += 2*n\n",
    "    print()"
   ]
  },
  {
   "cell_type": "code",
   "execution_count": 62,
   "metadata": {},
   "outputs": [
    {
     "name": "stdout",
     "output_type": "stream",
     "text": [
      "5\n",
      "5 6 15 16 25 \n",
      "4 7 14 17 24 \n",
      "3 8 13 18 23 \n",
      "2 9 12 19 22 \n",
      "1 10 11 20 21 \n"
     ]
    }
   ],
   "source": [
    "# 1471\n",
    "n = int(input())\n",
    "for i in range(n,0,-1):\n",
    "    odd = True\n",
    "    num1 = i\n",
    "    num2 = 2*n-i+1\n",
    "    for j in range(n,0,-1):\n",
    "        if odd == True:\n",
    "            print(num1, end=\" \")\n",
    "            odd = False\n",
    "            num1 += 2*n\n",
    "        else:\n",
    "            print(num2, end=\" \")\n",
    "            odd = True\n",
    "            num2 += 2*n\n",
    "    print()"
   ]
  },
  {
   "cell_type": "code",
   "execution_count": 73,
   "metadata": {},
   "outputs": [
    {
     "name": "stdout",
     "output_type": "stream",
     "text": [
      "4 5\n",
      "16 17 18 19 20 \n",
      "15 14 13 12 11 \n",
      "6 7 8 9 10 \n",
      "5 4 3 2 1 \n"
     ]
    }
   ],
   "source": [
    "# 1472\n",
    "n, m = map(int, input().split())\n",
    "odd = True\n",
    "for i in range(n,0,-1):\n",
    "    if n % 2==1:\n",
    "        if odd == True:\n",
    "            num = i*m\n",
    "            for j in range(m):\n",
    "                print(num, end= \" \")\n",
    "                num -= 1\n",
    "            print()\n",
    "            odd = False\n",
    "        else:\n",
    "            num = m*i-(m-1)\n",
    "            for j in range(m):\n",
    "                print(num, end=\" \")\n",
    "                num += 1\n",
    "            print()\n",
    "            odd = True\n",
    "    else:\n",
    "        if odd == True:\n",
    "            num = m*i-(m-1)\n",
    "            for j in range(m):\n",
    "                print(num, end= \" \")\n",
    "                num += 1\n",
    "            print()\n",
    "            odd = False\n",
    "        else:\n",
    "            num = m*i\n",
    "            for j in range(m):\n",
    "                print(num, end=\" \")\n",
    "                num -= 1\n",
    "            print()\n",
    "            odd = True"
   ]
  },
  {
   "cell_type": "code",
   "execution_count": 74,
   "metadata": {},
   "outputs": [
    {
     "name": "stdout",
     "output_type": "stream",
     "text": [
      "3 4\n",
      "9 10 11 12 \n",
      "8 7 6 5 \n",
      "1 2 3 4 \n"
     ]
    }
   ],
   "source": [
    "# 1473\n",
    "n, m = map(int, input().split())\n",
    "odd = True\n",
    "for i in range(n,0,-1):\n",
    "    if n%2==1:\n",
    "        if odd == True:\n",
    "            num = m*i-(m-1)\n",
    "            for j in range(m):\n",
    "                print(num, end=' ')\n",
    "                num +=1\n",
    "            print()\n",
    "            odd = False\n",
    "        else:\n",
    "            num = i*m\n",
    "            for j in range(m):\n",
    "                print(num, end=\" \")\n",
    "                num -= 1\n",
    "            print()\n",
    "            odd = True\n",
    "    else:\n",
    "        if odd == True:\n",
    "            num = m*i\n",
    "            for j in range(m):\n",
    "                print(num, end=' ')\n",
    "                num -= 1\n",
    "            print()\n",
    "            odd = False\n",
    "        else:\n",
    "            num = i*m - (m-1)\n",
    "            for j in range(m):\n",
    "                print(num, end=\" \")\n",
    "                num +=1\n",
    "            print()\n",
    "            odd = True"
   ]
  },
  {
   "cell_type": "code",
   "execution_count": 107,
   "metadata": {},
   "outputs": [
    {
     "name": "stdout",
     "output_type": "stream",
     "text": [
      "3 4\n",
      "10 9 4 3 \n",
      "11 8 5 2 \n",
      "12 7 6 1 \n"
     ]
    }
   ],
   "source": [
    "# 1474\n",
    "n, m = map(int, input().split())\n",
    "matrix = [[0]*n for i in range(m)]\n",
    "cnt = 0\n",
    "\n",
    "for i in range(0, m):\n",
    "    if i % 2:\n",
    "        for j in range(n-1, -1, -1):\n",
    "            cnt += 1\n",
    "            matrix[i][j] = cnt\n",
    "    else:\n",
    "        for j in range(0, n):\n",
    "            cnt += 1\n",
    "            matrix[i][j] = cnt\n",
    "\n",
    "for i in range(n-1, -1, -1):\n",
    "    for j in range(m-1, -1, -1):\n",
    "        print(matrix[j][i], end=' ')\n",
    "    print()"
   ]
  },
  {
   "cell_type": "code",
   "execution_count": 125,
   "metadata": {
    "scrolled": true
   },
   "outputs": [
    {
     "name": "stdout",
     "output_type": "stream",
     "text": [
      "3 4\n",
      "12 7 6 1 \n",
      "11 8 5 2 \n",
      "10 9 4 3 \n"
     ]
    }
   ],
   "source": [
    "# 1475\n",
    "n, m = map(int, input().split())\n",
    "matrix = [[0]*n for i in range(m)]\n",
    "cnt = 0\n",
    "\n",
    "for i in range(0, m):\n",
    "    if i % 2:\n",
    "        for j in range(n-1, -1, -1):\n",
    "            cnt += 1\n",
    "            matrix[i][j] = cnt\n",
    "    else:\n",
    "        for j in range(0, n):\n",
    "            cnt += 1\n",
    "            matrix[i][j] = cnt\n",
    "for i in range(n):\n",
    "    for j in range(m-1,-1,-1):\n",
    "        print(matrix[j][i], end=\" \")\n",
    "    print()"
   ]
  },
  {
   "cell_type": "code",
   "execution_count": 134,
   "metadata": {},
   "outputs": [
    {
     "name": "stdout",
     "output_type": "stream",
     "text": [
      "3 4\n",
      "1 3 6 9 \n",
      "2 5 8 11 \n",
      "4 7 10 12 \n"
     ]
    }
   ],
   "source": [
    "##### 1475 빗금 채우기\n",
    "n, m = map(int, input().split())\n",
    "matrix = [[0]*m for i in range(n)]\n",
    "cnt = 0\n",
    "\n",
    "for i in range(0, n+m-1):\n",
    "    for j in range(0, m):\n",
    "        for k in range(0, n):\n",
    "            if j+k == i:\n",
    "                cnt += 1\n",
    "                matrix[k][j] = cnt\n",
    "\n",
    "for i in range(0, n):\n",
    "    for j in range(0, m):\n",
    "        print(matrix[i][j], end=' ')\n",
    "    print()"
   ]
  },
  {
   "cell_type": "code",
   "execution_count": 141,
   "metadata": {},
   "outputs": [
    {
     "name": "stdout",
     "output_type": "stream",
     "text": [
      "3 4\n",
      "1 2 4 7 \n",
      "3 5 8 10 \n",
      "6 9 11 12 \n"
     ]
    }
   ],
   "source": [
    "# 1476 빗금 채우기\n",
    "n, m = map(int, input().split())\n",
    "matrix = [[0]*n for i in range(m)]\n",
    "cnt = 0\n",
    "\n",
    "for i in range(0, n+m-1):\n",
    "    for j in range(0, n):\n",
    "        for k in range(0, m):\n",
    "            if j+k == i:\n",
    "                cnt += 1\n",
    "                matrix[k][j] = cnt\n",
    "\n",
    "for i in range(0, n):\n",
    "    for j in range(0, m):\n",
    "        print(matrix[j][i], end=' ')\n",
    "    print()"
   ]
  },
  {
   "cell_type": "code",
   "execution_count": null,
   "metadata": {},
   "outputs": [],
   "source": [
    "# 1477 빗금 채우기\n",
    "n, m = map(int, input().split())\n",
    "matrix = [[0]*n for i in range(m)]\n",
    "cnt = 0\n",
    "\n",
    "for i in range(0, n+m-1):\n",
    "    for j in range(0, n):\n",
    "        for k in range(0, m):\n",
    "            if j+k == i:\n",
    "                cnt += 1\n",
    "                matrix[k][j] = cnt\n",
    "\n",
    "for i in range(n):\n",
    "    for j in range(m-1,-1,-1):\n",
    "        print(matrix[j][i], end=' ')\n",
    "    print()"
   ]
  },
  {
   "cell_type": "code",
   "execution_count": 147,
   "metadata": {},
   "outputs": [
    {
     "data": {
      "text/plain": [
       "[[1, 3, 6], [2, 5, 9], [4, 8, 11], [7, 10, 12]]"
      ]
     },
     "execution_count": 147,
     "metadata": {},
     "output_type": "execute_result"
    }
   ],
   "source": []
  },
  {
   "cell_type": "code",
   "execution_count": null,
   "metadata": {},
   "outputs": [],
   "source": []
  }
 ],
 "metadata": {
  "kernelspec": {
   "display_name": "Python 3",
   "language": "python",
   "name": "python3"
  },
  "language_info": {
   "codemirror_mode": {
    "name": "ipython",
    "version": 3
   },
   "file_extension": ".py",
   "mimetype": "text/x-python",
   "name": "python",
   "nbconvert_exporter": "python",
   "pygments_lexer": "ipython3",
   "version": "3.7.4"
  }
 },
 "nbformat": 4,
 "nbformat_minor": 2
}
