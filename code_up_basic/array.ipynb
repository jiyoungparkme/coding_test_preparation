{
 "cells": [
  {
   "cell_type": "code",
   "execution_count": 1,
   "metadata": {},
   "outputs": [
    {
     "name": "stdout",
     "output_type": "stream",
     "text": [
      "\n"
     ]
    },
    {
     "ename": "ValueError",
     "evalue": "invalid literal for int() with base 10: ''",
     "output_type": "error",
     "traceback": [
      "\u001b[1;31m---------------------------------------------------------------------------\u001b[0m",
      "\u001b[1;31mValueError\u001b[0m                                Traceback (most recent call last)",
      "\u001b[1;32m<ipython-input-1-1f63eeaaa8bb>\u001b[0m in \u001b[0;36m<module>\u001b[1;34m\u001b[0m\n\u001b[0;32m      1\u001b[0m \u001b[1;31m# 1402\u001b[0m\u001b[1;33m\u001b[0m\u001b[1;33m\u001b[0m\u001b[1;33m\u001b[0m\u001b[0m\n\u001b[1;32m----> 2\u001b[1;33m \u001b[0mn\u001b[0m \u001b[1;33m=\u001b[0m \u001b[0mint\u001b[0m\u001b[1;33m(\u001b[0m\u001b[0minput\u001b[0m\u001b[1;33m(\u001b[0m\u001b[1;33m)\u001b[0m\u001b[1;33m)\u001b[0m\u001b[1;33m\u001b[0m\u001b[1;33m\u001b[0m\u001b[0m\n\u001b[0m\u001b[0;32m      3\u001b[0m \u001b[0ma\u001b[0m \u001b[1;33m=\u001b[0m \u001b[0mlist\u001b[0m\u001b[1;33m(\u001b[0m\u001b[0mmap\u001b[0m\u001b[1;33m(\u001b[0m\u001b[0mint\u001b[0m\u001b[1;33m,\u001b[0m \u001b[0minput\u001b[0m\u001b[1;33m(\u001b[0m\u001b[1;33m)\u001b[0m\u001b[1;33m.\u001b[0m\u001b[0msplit\u001b[0m\u001b[1;33m(\u001b[0m\u001b[1;33m)\u001b[0m\u001b[1;33m)\u001b[0m\u001b[1;33m)\u001b[0m\u001b[1;33m\u001b[0m\u001b[1;33m\u001b[0m\u001b[0m\n\u001b[0;32m      4\u001b[0m \u001b[1;32mfor\u001b[0m \u001b[0mi\u001b[0m \u001b[1;32min\u001b[0m \u001b[0mreversed\u001b[0m\u001b[1;33m(\u001b[0m\u001b[0ma\u001b[0m\u001b[1;33m)\u001b[0m\u001b[1;33m:\u001b[0m \u001b[0mprint\u001b[0m\u001b[1;33m(\u001b[0m\u001b[0mi\u001b[0m\u001b[1;33m,\u001b[0m \u001b[0mend\u001b[0m\u001b[1;33m=\u001b[0m\u001b[1;34m\" \"\u001b[0m\u001b[1;33m)\u001b[0m\u001b[1;33m\u001b[0m\u001b[1;33m\u001b[0m\u001b[0m\n",
      "\u001b[1;31mValueError\u001b[0m: invalid literal for int() with base 10: ''"
     ]
    }
   ],
   "source": [
    "# 1402\n",
    "n = int(input())\n",
    "a = list(map(int, input().split()))\n",
    "for i in reversed(a): print(i, end=\" \")"
   ]
  },
  {
   "cell_type": "code",
   "execution_count": null,
   "metadata": {},
   "outputs": [],
   "source": [
    "# 1403\n",
    "n = int(input())\n",
    "a = list(map(int, input().split()))\n",
    "for i in range(2):\n",
    "    for j in a: print(j)"
   ]
  },
  {
   "cell_type": "code",
   "execution_count": null,
   "metadata": {},
   "outputs": [],
   "source": [
    "# 1404\n",
    "n = int(input())\n",
    "a = list(map(int, input().split()))\n",
    "for i in range(n):\n",
    "    for j in range(0,n):\n",
    "        if i+j < n:\n",
    "            print(a[i+j], end=\" \")\n",
    "        else:\n",
    "            print(a[i+j-n], end=\" \")\n",
    "    print()"
   ]
  },
  {
   "cell_type": "code",
   "execution_count": null,
   "metadata": {},
   "outputs": [],
   "source": [
    "# 1407\n",
    "words = list(input().split())\n",
    "for word in words: print(word, end=\"\")"
   ]
  },
  {
   "cell_type": "code",
   "execution_count": null,
   "metadata": {},
   "outputs": [],
   "source": [
    "# 1408\n",
    "words = list(input().split())\n",
    "k = int(input())\n",
    "print(words[k-1])"
   ]
  },
  {
   "cell_type": "code",
   "execution_count": null,
   "metadata": {},
   "outputs": [],
   "source": [
    "# 1410:\n",
    "bracket = input()\n",
    "o_bk = 0\n",
    "c_bk = 0\n",
    "for i in bracket:\n",
    "    if i==\"(\":\n",
    "        o_bk += 1\n",
    "    if i==\")\":\n",
    "        c_bk += 1\n",
    "print(o_bk, c_bk)"
   ]
  },
  {
   "cell_type": "code",
   "execution_count": null,
   "metadata": {},
   "outputs": [],
   "source": [
    "# 1411\n",
    "n = int(input())\n",
    "orginal = set(range(1,n+1))\n",
    "left = set(int(input()) for i in range(n-1))\n",
    "for i in orginal - left: print(i)"
   ]
  },
  {
   "cell_type": "code",
   "execution_count": null,
   "metadata": {},
   "outputs": [],
   "source": [
    "# 1412\n",
    "from string import ascii_lowercase\n",
    "import numpy as np\n",
    "alpha = list(ascii_lowercase)\n",
    "count = list(np.zeros(26, dtype=int))\n",
    "alpha_count = dict(zip(alpha, count))\n",
    "sentence = input()\n",
    "for i in alpha_count.keys():\n",
    "    for j in sentence:\n",
    "        if i == j:\n",
    "            alpha_count[i] += 1\n",
    "for i, j in sorted(alpha_count.items()): print(\"%s:%d\"%(i,j))"
   ]
  },
  {
   "cell_type": "code",
   "execution_count": null,
   "metadata": {},
   "outputs": [],
   "source": [
    "# 1416\n",
    "n =int(input())\n",
    "print(format(n, \"b\"))"
   ]
  },
  {
   "cell_type": "code",
   "execution_count": null,
   "metadata": {},
   "outputs": [],
   "source": [
    "# 1425\n",
    "# 표현오류\n",
    "n, c = map(int, input().split())\n",
    "heights = list(map(int, input().split()))\n",
    "heights.sort(reverse=False)\n",
    "for j in range(n):\n",
    "    if j == c-1:\n",
    "        print(heights[j], end = \"\\n\")\n",
    "    else:\n",
    "        print(heights[j], end=\" \")"
   ]
  },
  {
   "cell_type": "code",
   "execution_count": null,
   "metadata": {},
   "outputs": [],
   "source": [
    "# 정답\n",
    "students = heights\n",
    "for i in range(0, int(n/c)+1):\n",
    "    for j in range(i*c, i*c+c):\n",
    "        if j >= len(students):\n",
    "            break\n",
    "        print(students[j], end=' ')\n",
    "    print()"
   ]
  },
  {
   "cell_type": "code",
   "execution_count": null,
   "metadata": {},
   "outputs": [],
   "source": [
    "# 1430 -- 메모리 초과 파이썬 불가\n",
    "n = int(input())\n",
    "answer = list(map(int, input().split()))\n",
    "m = int(input())\n",
    "question = [0 if i not in answer else 1 for i in list(map(int, input().split()))]\n",
    "for i in question:\n",
    "    print(i, end=\" \")"
   ]
  },
  {
   "cell_type": "code",
   "execution_count": null,
   "metadata": {},
   "outputs": [],
   "source": [
    "# 1440\n",
    "n = int(input())\n",
    "arr = list(map(int, input().split()))\n",
    "for i in range(n):\n",
    "    print(\"%d:\" %(i+1), end = \" \")\n",
    "    for j in range(n):\n",
    "        if i==j:\n",
    "            pass\n",
    "        else:\n",
    "            if arr[i]> arr[j]:\n",
    "                print(\">\", end=\" \")\n",
    "            elif arr[i] == arr[j]:\n",
    "                print(\"=\", end= \" \")\n",
    "            else: print(\"<\", end=\" \")\n",
    "    print()"
   ]
  },
  {
   "cell_type": "code",
   "execution_count": null,
   "metadata": {},
   "outputs": [],
   "source": [
    "# 1408 \n",
    "pw = input()\n",
    "for i in pw:\n",
    "    print(chr(ord(i)+2), end=\"\")\n",
    "print()\n",
    "for i in pw:\n",
    "    print(chr((ord(i)*7)%80+48), end = \"\")"
   ]
  },
  {
   "cell_type": "code",
   "execution_count": null,
   "metadata": {},
   "outputs": [],
   "source": [
    "# 1414\n",
    "word = input().lower()\n",
    "c_cnt = 0\n",
    "cc_cnt = 0\n",
    "for i in word:\n",
    "    if i ==\"c\":\n",
    "        c_cnt+=1\n",
    "for i in range(len(word)-1):\n",
    "    if word[i:i+2] == \"cc\":\n",
    "        cc_cnt +=1\n",
    "print(c_cnt)\n",
    "print(cc_cnt)"
   ]
  },
  {
   "cell_type": "code",
   "execution_count": null,
   "metadata": {},
   "outputs": [],
   "source": [
    "# 1418\n",
    "word = input().lower()\n",
    "for i in range(len(word)):\n",
    "    if word[i]==\"t\":\n",
    "        print(i+1, end=\" \")"
   ]
  },
  {
   "cell_type": "code",
   "execution_count": null,
   "metadata": {},
   "outputs": [],
   "source": [
    "# 1419\n",
    "string = input().lower()\n",
    "cnt = 0\n",
    "for i in range(0, len(string)-4):\n",
    "    if string[i:i+4] == 'love':\n",
    "        cnt += 1\n",
    "print(cnt)"
   ]
  },
  {
   "cell_type": "code",
   "execution_count": null,
   "metadata": {},
   "outputs": [],
   "source": [
    "# 1733\n",
    "word = input()\n",
    "if word == 'IOI':\n",
    "    print(\"IOI is the International Olympiad in Informatics.\")\n",
    "else:\n",
    "    print(\"I don't care.\")"
   ]
  },
  {
   "cell_type": "code",
   "execution_count": null,
   "metadata": {},
   "outputs": [],
   "source": [
    "# 1734\n",
    "id = input()\n",
    "print(\"welcome! %s\" %id)"
   ]
  },
  {
   "cell_type": "code",
   "execution_count": null,
   "metadata": {},
   "outputs": [],
   "source": [
    "# 1754\n",
    "n, m = map(int, input().split())\n",
    "if n < m:\n",
    "    print(\"%d %d\" %(n,m))\n",
    "else:\n",
    "    print(\"%d %d\" %(m,n))"
   ]
  },
  {
   "cell_type": "code",
   "execution_count": null,
   "metadata": {},
   "outputs": [],
   "source": [
    "# 2721\n",
    "s1 = input()\n",
    "s2 = input()\n",
    "s3 = input()\n",
    "if s1[0]==s3[-1] and s1[len(s1)-1]==s2[0] and s2[len(s2)-1]==s3[0]:\n",
    "    print(\"good\")\n",
    "else:\n",
    "    print(\"bad\")"
   ]
  },
  {
   "cell_type": "code",
   "execution_count": null,
   "metadata": {},
   "outputs": [],
   "source": [
    "# 1460\n",
    "n = int(input())\n",
    "num = 1\n",
    "for i in range(n):\n",
    "    for j in range(n):\n",
    "        print(num, end=\" \")\n",
    "        num +=1\n",
    "    print()"
   ]
  },
  {
   "cell_type": "code",
   "execution_count": null,
   "metadata": {},
   "outputs": [],
   "source": [
    "# 1461\n",
    "n = int(input())\n",
    "for i in range(1,n+1):\n",
    "    num = n*i\n",
    "    for j in range(n):\n",
    "        print(num, end=\" \")\n",
    "        num -= 1\n",
    "    print()"
   ]
  },
  {
   "cell_type": "code",
   "execution_count": null,
   "metadata": {},
   "outputs": [],
   "source": [
    "# 1462\n",
    "n = int(input())\n",
    "for i in range(n,0,-1):\n",
    "    num = i\n",
    "    for j in range(n):\n",
    "        print(num, end=\" \")\n",
    "        num += n\n",
    "    print()"
   ]
  },
  {
   "cell_type": "code",
   "execution_count": null,
   "metadata": {},
   "outputs": [],
   "source": [
    "# 1464\n",
    "n, m = map(int, input().split())\n",
    "for i in range(n,0,-1):\n",
    "    num = i*m\n",
    "    for j in range(m):\n",
    "        print(num, end=\" \")\n",
    "        num -= 1\n",
    "    print()"
   ]
  },
  {
   "cell_type": "code",
   "execution_count": null,
   "metadata": {},
   "outputs": [],
   "source": [
    "# 1465\n",
    "n, m = map(int, input().split())\n",
    "for i in range(n-1,-1,-1):\n",
    "    num = 1+m*i\n",
    "    for j in range(m):\n",
    "        print(num, end=\" \")\n",
    "        num += 1\n",
    "    print()"
   ]
  },
  {
   "cell_type": "code",
   "execution_count": null,
   "metadata": {},
   "outputs": [],
   "source": [
    "# 1466\n",
    "n, m = map(int, input().split())\n",
    "num1 = n*m\n",
    "for i in range(n):\n",
    "    num2 = num1\n",
    "    for j in range(m):\n",
    "        print(num2, end=\" \")\n",
    "        num2 -= n\n",
    "    print()\n",
    "    num1 -=1"
   ]
  },
  {
   "cell_type": "code",
   "execution_count": null,
   "metadata": {},
   "outputs": [],
   "source": [
    "# 1467\n",
    "n, m = map(int, input().split())\n",
    "num1 = n*m - (n-1)\n",
    "for i in range(n):\n",
    "    num2 = num1\n",
    "    for j in range(m):\n",
    "        print(num2, end=\" \")\n",
    "        num2 -= n\n",
    "    print()\n",
    "    num1 +=1"
   ]
  },
  {
   "cell_type": "code",
   "execution_count": null,
   "metadata": {},
   "outputs": [],
   "source": [
    "# 1468\n",
    "n = int(input())\n",
    "odd = True\n",
    "for i in range(0,n):\n",
    "    if odd == True:\n",
    "        num = 1 + n*i\n",
    "        for j in range(n):\n",
    "            print(num, end=\" \")\n",
    "            num +=1\n",
    "        print()\n",
    "        odd = False\n",
    "    else:\n",
    "        num += n-1\n",
    "        for j in range(n):\n",
    "            print(num, end=\" \")\n",
    "            num -= 1\n",
    "        print()\n",
    "        odd = True"
   ]
  },
  {
   "cell_type": "code",
   "execution_count": null,
   "metadata": {},
   "outputs": [],
   "source": [
    "# 1469\n",
    "n = int(input())\n",
    "odd = True\n",
    "for i in range(1,n+1):\n",
    "    if odd == True:\n",
    "        num = n*i\n",
    "        for j in range(n):\n",
    "            print(num, end=\" \")\n",
    "            num -=1\n",
    "        print()\n",
    "        odd = False\n",
    "    else:\n",
    "        num = i*n - (n-1)\n",
    "        for j in range(n):\n",
    "            print(num, end=' ')\n",
    "            num += 1\n",
    "        print()\n",
    "        odd = True"
   ]
  },
  {
   "cell_type": "code",
   "execution_count": null,
   "metadata": {},
   "outputs": [],
   "source": [
    "# 1470\n",
    "n = int(input())\n",
    "\n",
    "for i in range(0,n):\n",
    "    odd = True\n",
    "    num1 = i+1\n",
    "    num2 = 2*n-i\n",
    "    for j in range(n,0,-1):\n",
    "        if odd == True:\n",
    "            print(num1, end=\" \")\n",
    "            odd = False\n",
    "            num1 += 2*n\n",
    "        else:\n",
    "            print(num2, end=\" \")\n",
    "            odd = True\n",
    "            num2 += 2*n\n",
    "    print()"
   ]
  },
  {
   "cell_type": "code",
   "execution_count": null,
   "metadata": {},
   "outputs": [],
   "source": [
    "# 1471\n",
    "n = int(input())\n",
    "for i in range(n,0,-1):\n",
    "    odd = True\n",
    "    num1 = i\n",
    "    num2 = 2*n-i+1\n",
    "    for j in range(n,0,-1):\n",
    "        if odd == True:\n",
    "            print(num1, end=\" \")\n",
    "            odd = False\n",
    "            num1 += 2*n\n",
    "        else:\n",
    "            print(num2, end=\" \")\n",
    "            odd = True\n",
    "            num2 += 2*n\n",
    "    print()"
   ]
  },
  {
   "cell_type": "code",
   "execution_count": null,
   "metadata": {},
   "outputs": [],
   "source": [
    "# 1472\n",
    "n, m = map(int, input().split())\n",
    "odd = True\n",
    "for i in range(n,0,-1):\n",
    "    if n % 2==1:\n",
    "        if odd == True:\n",
    "            num = i*m\n",
    "            for j in range(m):\n",
    "                print(num, end= \" \")\n",
    "                num -= 1\n",
    "            print()\n",
    "            odd = False\n",
    "        else:\n",
    "            num = m*i-(m-1)\n",
    "            for j in range(m):\n",
    "                print(num, end=\" \")\n",
    "                num += 1\n",
    "            print()\n",
    "            odd = True\n",
    "    else:\n",
    "        if odd == True:\n",
    "            num = m*i-(m-1)\n",
    "            for j in range(m):\n",
    "                print(num, end= \" \")\n",
    "                num += 1\n",
    "            print()\n",
    "            odd = False\n",
    "        else:\n",
    "            num = m*i\n",
    "            for j in range(m):\n",
    "                print(num, end=\" \")\n",
    "                num -= 1\n",
    "            print()\n",
    "            odd = True"
   ]
  },
  {
   "cell_type": "code",
   "execution_count": null,
   "metadata": {},
   "outputs": [],
   "source": [
    "# 1473\n",
    "n, m = map(int, input().split())\n",
    "odd = True\n",
    "for i in range(n,0,-1):\n",
    "    if n%2==1:\n",
    "        if odd == True:\n",
    "            num = m*i-(m-1)\n",
    "            for j in range(m):\n",
    "                print(num, end=' ')\n",
    "                num +=1\n",
    "            print()\n",
    "            odd = False\n",
    "        else:\n",
    "            num = i*m\n",
    "            for j in range(m):\n",
    "                print(num, end=\" \")\n",
    "                num -= 1\n",
    "            print()\n",
    "            odd = True\n",
    "    else:\n",
    "        if odd == True:\n",
    "            num = m*i\n",
    "            for j in range(m):\n",
    "                print(num, end=' ')\n",
    "                num -= 1\n",
    "            print()\n",
    "            odd = False\n",
    "        else:\n",
    "            num = i*m - (m-1)\n",
    "            for j in range(m):\n",
    "                print(num, end=\" \")\n",
    "                num +=1\n",
    "            print()\n",
    "            odd = True"
   ]
  },
  {
   "cell_type": "code",
   "execution_count": null,
   "metadata": {},
   "outputs": [],
   "source": [
    "# 1474\n",
    "n, m = map(int, input().split())\n",
    "matrix = [[0]*n for i in range(m)]\n",
    "cnt = 0\n",
    "\n",
    "for i in range(0, m):\n",
    "    if i % 2:\n",
    "        for j in range(n-1, -1, -1):\n",
    "            cnt += 1\n",
    "            matrix[i][j] = cnt\n",
    "    else:\n",
    "        for j in range(0, n):\n",
    "            cnt += 1\n",
    "            matrix[i][j] = cnt\n",
    "\n",
    "for i in range(n-1, -1, -1):\n",
    "    for j in range(m-1, -1, -1):\n",
    "        print(matrix[j][i], end=' ')\n",
    "    print()"
   ]
  },
  {
   "cell_type": "code",
   "execution_count": null,
   "metadata": {
    "scrolled": true
   },
   "outputs": [],
   "source": [
    "# 1475\n",
    "n, m = map(int, input().split())\n",
    "matrix = [[0]*n for i in range(m)]\n",
    "cnt = 0\n",
    "\n",
    "for i in range(0, m):\n",
    "    if i % 2:\n",
    "        for j in range(n-1, -1, -1):\n",
    "            cnt += 1\n",
    "            matrix[i][j] = cnt\n",
    "    else:\n",
    "        for j in range(0, n):\n",
    "            cnt += 1\n",
    "            matrix[i][j] = cnt\n",
    "for i in range(n):\n",
    "    for j in range(m-1,-1,-1):\n",
    "        print(matrix[j][i], end=\" \")\n",
    "    print()"
   ]
  },
  {
   "cell_type": "code",
   "execution_count": null,
   "metadata": {},
   "outputs": [],
   "source": [
    "##### 1475 빗금 채우기\n",
    "n, m = map(int, input().split())\n",
    "matrix = [[0]*m for i in range(n)]\n",
    "cnt = 0\n",
    "\n",
    "for i in range(0, n+m-1):\n",
    "    for j in range(0, m):\n",
    "        for k in range(0, n):\n",
    "            if j+k == i:\n",
    "                cnt += 1\n",
    "                matrix[k][j] = cnt\n",
    "\n",
    "for i in range(0, n):\n",
    "    for j in range(0, m):\n",
    "        print(matrix[i][j], end=' ')\n",
    "    print()"
   ]
  },
  {
   "cell_type": "code",
   "execution_count": null,
   "metadata": {},
   "outputs": [],
   "source": [
    "# 1476 빗금 채우기\n",
    "n, m = map(int, input().split())\n",
    "matrix = [[0]*n for i in range(m)]\n",
    "cnt = 0\n",
    "\n",
    "for i in range(0, n+m-1):\n",
    "    for j in range(0, n):\n",
    "        for k in range(0, m):\n",
    "            if j+k == i:\n",
    "                cnt += 1\n",
    "                matrix[k][j] = cnt\n",
    "\n",
    "for i in range(0, n):\n",
    "    for j in range(0, m):\n",
    "        print(matrix[j][i], end=' ')\n",
    "    print()"
   ]
  },
  {
   "cell_type": "code",
   "execution_count": 2,
   "metadata": {},
   "outputs": [
    {
     "name": "stdout",
     "output_type": "stream",
     "text": [
      "3 4\n",
      "7 4 2 1 \n",
      "10 8 5 3 \n",
      "12 11 9 6 \n"
     ]
    }
   ],
   "source": [
    "# 1477 빗금 채우기\n",
    "n, m = map(int, input().split())\n",
    "matrix = [[0]*n for i in range(m)]\n",
    "cnt = 0\n",
    "\n",
    "for i in range(0, n+m-1):\n",
    "    for j in range(0, n):\n",
    "        for k in range(0, m):\n",
    "            if j+k == i:\n",
    "                cnt += 1\n",
    "                matrix[k][j] = cnt\n",
    "\n",
    "for i in range(n):\n",
    "    for j in range(m-1,-1,-1):\n",
    "        print(matrix[j][i], end=' ')\n",
    "    print()"
   ]
  },
  {
   "cell_type": "code",
   "execution_count": 8,
   "metadata": {},
   "outputs": [
    {
     "name": "stdout",
     "output_type": "stream",
     "text": [
      "3 4\n",
      "9 6 3 1 \n",
      "11 8 5 2 \n",
      "12 10 7 4 \n"
     ]
    }
   ],
   "source": [
    "# 1478 빗금 채우기\n",
    "n, m = map(int, input().split())\n",
    "matrix = [[0]*m for i in range(n)]\n",
    "cnt = 0\n",
    "\n",
    "for i in range(0, n+m-1):\n",
    "    for j in range(0, m):\n",
    "        for k in range(0, n):\n",
    "            if j+k == i:\n",
    "                cnt += 1\n",
    "                matrix[k][j] = cnt\n",
    "\n",
    "for i in range(n):\n",
    "    for j in range(m-1,-1,-1):\n",
    "        print(matrix[i][j], end=' ')\n",
    "    print()"
   ]
  },
  {
   "cell_type": "code",
   "execution_count": 9,
   "metadata": {},
   "outputs": [
    {
     "name": "stdout",
     "output_type": "stream",
     "text": [
      "3 4\n",
      "12 10 7 4 \n",
      "11 8 5 2 \n",
      "9 6 3 1 \n"
     ]
    }
   ],
   "source": [
    "# 1480 빗금 채우기\n",
    "n, m = map(int, input().split())\n",
    "matrix = [[0]*m for i in range(n)]\n",
    "cnt = 0\n",
    "\n",
    "for i in range(0, n+m-1):\n",
    "    for j in range(0, m):\n",
    "        for k in range(0, n):\n",
    "            if j+k == i:\n",
    "                cnt += 1\n",
    "                matrix[k][j] = cnt\n",
    "\n",
    "for i in range(n-1,-1,-1):\n",
    "    for j in range(m-1,-1,-1):\n",
    "        print(matrix[i][j], end=' ')\n",
    "    print()"
   ]
  },
  {
   "cell_type": "code",
   "execution_count": 15,
   "metadata": {},
   "outputs": [
    {
     "name": "stdout",
     "output_type": "stream",
     "text": [
      "3 4\n",
      "12 11 9 6 \n",
      "10 8 5 3 \n",
      "7 4 2 1 \n"
     ]
    }
   ],
   "source": [
    "# 1481 빗금 채우기\n",
    "n, m = map(int, input().split())\n",
    "matrix = [[0]*n for i in range(m)]\n",
    "cnt = 0\n",
    "\n",
    "for i in range(0, n+m-1):\n",
    "    for j in range(0, n):\n",
    "        for k in range(0, m):\n",
    "            if j+k == i:\n",
    "                cnt += 1\n",
    "                matrix[k][j] = cnt\n",
    "\n",
    "for i in range(n-1,-1,-1):\n",
    "    for j in range(m-1,-1,-1):\n",
    "        print(matrix[j][i], end=' ')\n",
    "    print()"
   ]
  },
  {
   "cell_type": "code",
   "execution_count": 16,
   "metadata": {},
   "outputs": [
    {
     "name": "stdout",
     "output_type": "stream",
     "text": [
      "3 4\n",
      "6 9 11 12 \n",
      "3 5 8 10 \n",
      "1 2 4 7 \n"
     ]
    }
   ],
   "source": [
    "# 1482 빗금 채우기\n",
    "n, m = map(int, input().split())\n",
    "matrix = [[0]*n for i in range(m)]\n",
    "cnt = 0\n",
    "\n",
    "for i in range(0, n+m-1):\n",
    "    for j in range(0, n):\n",
    "        for k in range(0, m):\n",
    "            if j+k == i:\n",
    "                cnt += 1\n",
    "                matrix[k][j] = cnt\n",
    "\n",
    "for i in range(n-1,-1,-1):\n",
    "    for j in range(m):\n",
    "        print(matrix[j][i], end=' ')\n",
    "    print()"
   ]
  },
  {
   "cell_type": "code",
   "execution_count": null,
   "metadata": {},
   "outputs": [],
   "source": []
  },
  {
   "cell_type": "code",
   "execution_count": 26,
   "metadata": {},
   "outputs": [
    {
     "data": {
      "text/plain": [
       "[[1, 2, 3], [4, 5, 6], [7, 8, 9], [10, 11, 12]]"
      ]
     },
     "execution_count": 26,
     "metadata": {},
     "output_type": "execute_result"
    }
   ],
   "source": []
  },
  {
   "cell_type": "code",
   "execution_count": null,
   "metadata": {},
   "outputs": [],
   "source": []
  }
 ],
 "metadata": {
  "kernelspec": {
   "display_name": "Python 3",
   "language": "python",
   "name": "python3"
  },
  "language_info": {
   "codemirror_mode": {
    "name": "ipython",
    "version": 3
   },
   "file_extension": ".py",
   "mimetype": "text/x-python",
   "name": "python",
   "nbconvert_exporter": "python",
   "pygments_lexer": "ipython3",
   "version": "3.7.4"
  }
 },
 "nbformat": 4,
 "nbformat_minor": 2
}
