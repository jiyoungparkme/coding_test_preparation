{
 "cells": [
  {
   "cell_type": "code",
   "execution_count": 4,
   "metadata": {},
   "outputs": [
    {
     "name": "stdout",
     "output_type": "stream",
     "text": [
      "5\n",
      "1 3 5 6 8\n",
      "8 6 5 3 1 "
     ]
    }
   ],
   "source": [
    "# 1402\n",
    "n = int(input())\n",
    "a = list(map(int, input().split()))\n",
    "for i in reversed(a): print(i, end=\" \")"
   ]
  },
  {
   "cell_type": "code",
   "execution_count": 7,
   "metadata": {},
   "outputs": [
    {
     "name": "stdout",
     "output_type": "stream",
     "text": [
      "3\n",
      "1 2 3\n",
      "1\n",
      "2\n",
      "3\n",
      "1\n",
      "2\n",
      "3\n"
     ]
    }
   ],
   "source": [
    "# 1403\n",
    "n = int(input())\n",
    "a = list(map(int, input().split()))\n",
    "for i in range(2):\n",
    "    for j in a: print(j)"
   ]
  },
  {
   "cell_type": "code",
   "execution_count": 15,
   "metadata": {},
   "outputs": [
    {
     "name": "stdout",
     "output_type": "stream",
     "text": [
      "5\n",
      "1 2 3 4 5\n",
      "1 2 3 4 5 \n",
      "2 3 4 5 1 \n",
      "3 4 5 1 2 \n",
      "4 5 1 2 3 \n",
      "5 1 2 3 4 \n"
     ]
    }
   ],
   "source": [
    "# 1404\n",
    "n = int(input())\n",
    "a = list(map(int, input().split()))\n",
    "for i in range(n):\n",
    "    for j in range(0,n):\n",
    "        if i+j < n:\n",
    "            print(a[i+j], end=\" \")\n",
    "        else:\n",
    "            print(a[i+j-n], end=\" \")\n",
    "    print()"
   ]
  },
  {
   "cell_type": "code",
   "execution_count": 19,
   "metadata": {},
   "outputs": [
    {
     "name": "stdout",
     "output_type": "stream",
     "text": [
      "abc def gh\n",
      "abcdefgh"
     ]
    }
   ],
   "source": [
    "# 1407\n",
    "words = list(input().split())\n",
    "for word in words: print(word, end=\"\")"
   ]
  },
  {
   "cell_type": "code",
   "execution_count": 20,
   "metadata": {},
   "outputs": [
    {
     "name": "stdout",
     "output_type": "stream",
     "text": [
      "10 9 8 7 6 5 4 3 2 1 \n",
      "3\n",
      "8\n"
     ]
    }
   ],
   "source": [
    "# 1408\n",
    "words = list(input().split())\n",
    "k = int(input())\n",
    "print(words[k-1])"
   ]
  },
  {
   "cell_type": "code",
   "execution_count": 22,
   "metadata": {},
   "outputs": [
    {
     "name": "stdout",
     "output_type": "stream",
     "text": [
      "((())()(()))\n"
     ]
    },
    {
     "data": {
      "text/plain": [
       "'((())()(()))'"
      ]
     },
     "execution_count": 22,
     "metadata": {},
     "output_type": "execute_result"
    }
   ],
   "source": [
    "# 1410:\n",
    "bracket = input()\n",
    "o_bk = 0\n",
    "c_bk = 0\n",
    "for i in bracket:\n",
    "    if i==\"(\":\n",
    "        o_bk += 1\n",
    "    if i==\")\":\n",
    "        c_bk += 1\n",
    "print(o_bk, c_bk)"
   ]
  },
  {
   "cell_type": "code",
   "execution_count": 41,
   "metadata": {},
   "outputs": [
    {
     "name": "stdout",
     "output_type": "stream",
     "text": [
      "10\n",
      "3\n",
      "4\n",
      "1\n",
      "10\n",
      "2\n",
      "6\n",
      "7\n",
      "5\n",
      "9\n",
      "8\n"
     ]
    }
   ],
   "source": [
    "# 1411\n",
    "n = int(input())\n",
    "orginal = set(range(1,n+1))\n",
    "left = set(int(input()) for i in range(n-1))\n",
    "for i in orginal - left: print(i)"
   ]
  },
  {
   "cell_type": "code",
   "execution_count": 60,
   "metadata": {},
   "outputs": [
    {
     "name": "stdout",
     "output_type": "stream",
     "text": [
      "oh! my god!\n",
      "a:0\n",
      "b:0\n",
      "c:0\n",
      "d:1\n",
      "e:0\n",
      "f:0\n",
      "g:1\n",
      "h:1\n",
      "i:0\n",
      "j:0\n",
      "k:0\n",
      "l:0\n",
      "m:1\n",
      "n:0\n",
      "o:2\n",
      "p:0\n",
      "q:0\n",
      "r:0\n",
      "s:0\n",
      "t:0\n",
      "u:0\n",
      "v:0\n",
      "w:0\n",
      "x:0\n",
      "y:1\n",
      "z:0\n"
     ]
    }
   ],
   "source": [
    "# 1412\n",
    "from string import ascii_lowercase\n",
    "import numpy as np\n",
    "alpha = list(ascii_lowercase)\n",
    "count = list(np.zeros(26, dtype=int))\n",
    "alpha_count = dict(zip(alpha, count))\n",
    "sentence = input()\n",
    "for i in alpha_count.keys():\n",
    "    for j in sentence:\n",
    "        if i == j:\n",
    "            alpha_count[i] += 1\n",
    "for i, j in sorted(alpha_count.items()): print(\"%s:%d\"%(i,j))"
   ]
  },
  {
   "cell_type": "code",
   "execution_count": 70,
   "metadata": {},
   "outputs": [
    {
     "name": "stdout",
     "output_type": "stream",
     "text": [
      "7\n",
      "111\n"
     ]
    }
   ],
   "source": [
    "# 1416\n",
    "n =int(input())\n",
    "print(format(n, \"b\"))"
   ]
  },
  {
   "cell_type": "code",
   "execution_count": 81,
   "metadata": {},
   "outputs": [
    {
     "name": "stdout",
     "output_type": "stream",
     "text": [
      "9 6\n",
      "160 165 164 165 150 165 168 145 170\n",
      "145 150 160 164 165 165 \n",
      "165 168 170 "
     ]
    }
   ],
   "source": [
    "# 1425\n",
    "# 표현오류\n",
    "n, c = map(int, input().split())\n",
    "heights = list(map(int, input().split()))\n",
    "heights.sort(reverse=False)\n",
    "for j in range(n):\n",
    "    if j == c-1:\n",
    "        print(heights[j], end = \"\\n\")\n",
    "    else:\n",
    "        print(heights[j], end=\" \")"
   ]
  },
  {
   "cell_type": "code",
   "execution_count": 84,
   "metadata": {},
   "outputs": [
    {
     "name": "stdout",
     "output_type": "stream",
     "text": [
      "145 150 160 164 165 165 \n",
      "165 168 170 \n"
     ]
    }
   ],
   "source": [
    "# 정답\n",
    "students = heights\n",
    "for i in range(0, int(n/c)+1):\n",
    "    for j in range(i*c, i*c+c):\n",
    "        if j >= len(students):\n",
    "            break\n",
    "        print(students[j], end=' ')\n",
    "    print()"
   ]
  },
  {
   "cell_type": "code",
   "execution_count": null,
   "metadata": {},
   "outputs": [],
   "source": []
  }
 ],
 "metadata": {
  "kernelspec": {
   "display_name": "Python 3",
   "language": "python",
   "name": "python3"
  },
  "language_info": {
   "codemirror_mode": {
    "name": "ipython",
    "version": 3
   },
   "file_extension": ".py",
   "mimetype": "text/x-python",
   "name": "python",
   "nbconvert_exporter": "python",
   "pygments_lexer": "ipython3",
   "version": "3.7.4"
  }
 },
 "nbformat": 4,
 "nbformat_minor": 2
}
