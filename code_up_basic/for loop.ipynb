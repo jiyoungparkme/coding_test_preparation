{
 "cells": [
  {
   "cell_type": "code",
   "execution_count": 1,
   "metadata": {},
   "outputs": [
    {
     "name": "stdout",
     "output_type": "stream",
     "text": [
      "5\n",
      "**\n",
      " **\n",
      "  **\n",
      "   **\n",
      "    **\n"
     ]
    }
   ],
   "source": [
    "# 1361\n",
    "n = int(input())\n",
    "for i in range(n):\n",
    "    print(\" \"*i + \"**\")"
   ]
  },
  {
   "cell_type": "code",
   "execution_count": 41,
   "metadata": {},
   "outputs": [
    {
     "name": "stdout",
     "output_type": "stream",
     "text": [
      "17\n",
      "*****************\n",
      "**      *      **\n",
      "* *     *     * *\n",
      "*  *    *    *  *\n",
      "*   *   *   *   *\n",
      "*    *  *  *    *\n",
      "*     * * *     *\n",
      "*      ***      *\n",
      "*****************\n",
      "*      ***      *\n",
      "*     * * *     *\n",
      "*    *  *  *    *\n",
      "*   *   *   *   *\n",
      "*  *    *    *  *\n",
      "* *     *     * *\n",
      "**      *      **\n",
      "*****************\n"
     ]
    }
   ],
   "source": [
    "# 1365\n",
    "n = int(input())\n",
    "for i in range(1, n):\n",
    "    for j in range(1, n+1):\n",
    "        if (i == 1) or (i==n) or (i==j) or (j==1) or (j==n) or (j+i == n+1) or (i == n//2+1) or (j == n//2+1):\n",
    "            print('*', end='')\n",
    "        else:\n",
    "            print(' ', end='')\n",
    "    print()\n",
    "print(\"*\"*n)"
   ]
  },
  {
   "cell_type": "code",
   "execution_count": 44,
   "metadata": {},
   "outputs": [
    {
     "name": "stdout",
     "output_type": "stream",
     "text": [
      "4\n",
      "   ****\n",
      "  ****\n",
      " ****\n",
      "****\n"
     ]
    }
   ],
   "source": [
    "# 1367\n",
    "n = int(input())\n",
    "for i in range(n):\n",
    "    print(\" \"*(n-1-i)+\"*\"*n)"
   ]
  },
  {
   "cell_type": "code",
   "execution_count": 48,
   "metadata": {},
   "outputs": [
    {
     "name": "stdout",
     "output_type": "stream",
     "text": [
      "5 4 R\n",
      "    ****\n",
      "   ****\n",
      "  ****\n",
      " ****\n",
      "****\n"
     ]
    }
   ],
   "source": [
    "# 1368\n",
    "n, m, b = input().split()\n",
    "n = int(n)\n",
    "m = int(m)\n",
    "if b == \"R\":\n",
    "    for i in range(n):\n",
    "        print(\" \"*(n-1-i)+\"*\"*m)\n",
    "else:\n",
    "    for i in range(n-1,-1,-1):\n",
    "        print(\" \"*(n-1-i)+\"*\"*m)"
   ]
  },
  {
   "cell_type": "code",
   "execution_count": 59,
   "metadata": {},
   "outputs": [
    {
     "name": "stdout",
     "output_type": "stream",
     "text": [
      "10 3\n",
      "**********\n",
      "**  *  * *\n",
      "*  *  *  *\n",
      "* *  *  **\n",
      "**  *  * *\n",
      "*  *  *  *\n",
      "* *  *  **\n",
      "**  *  * *\n",
      "*  *  *  *\n",
      "**********\n"
     ]
    }
   ],
   "source": [
    "# 1369\n",
    "n, k = map(int, input().split())\n",
    "for i in range(1, n+1):\n",
    "    for j in range(1, n+1):\n",
    "        if (i == 1) or (i == n) or (j == 1) or (j == n):\n",
    "            print('*', end='')\n",
    "        elif (i+j-1) % k == 0:\n",
    "            print('*', end='')\n",
    "        else:\n",
    "            print(' ', end='')\n",
    "    print()\n",
    "        "
   ]
  },
  {
   "cell_type": "code",
   "execution_count": 61,
   "metadata": {},
   "outputs": [
    {
     "name": "stdout",
     "output_type": "stream",
     "text": [
      "3 3\n",
      "*\n",
      " *\n",
      "  *\n",
      "  *\n",
      " *\n",
      "*\n",
      " *\n",
      "  *\n",
      "  *\n",
      " *\n",
      "*\n",
      " *\n",
      "  *\n",
      "  *\n",
      " *\n"
     ]
    }
   ],
   "source": [
    "# 1370\n",
    "h, r = map(int, input().split())\n",
    "for i in range(r):\n",
    "    for j in range(h):\n",
    "        print(\" \"*j+\"*\")\n",
    "    for j in range(h-1):\n",
    "        print(\" \"*(h-1-j)+\"*\")"
   ]
  },
  {
   "cell_type": "code",
   "execution_count": null,
   "metadata": {},
   "outputs": [],
   "source": []
  }
 ],
 "metadata": {
  "kernelspec": {
   "display_name": "Python 3",
   "language": "python",
   "name": "python3"
  },
  "language_info": {
   "codemirror_mode": {
    "name": "ipython",
    "version": 3
   },
   "file_extension": ".py",
   "mimetype": "text/x-python",
   "name": "python",
   "nbconvert_exporter": "python",
   "pygments_lexer": "ipython3",
   "version": "3.7.4"
  }
 },
 "nbformat": 4,
 "nbformat_minor": 2
}
