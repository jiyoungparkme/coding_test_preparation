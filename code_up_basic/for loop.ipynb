{
 "cells": [
  {
   "cell_type": "code",
   "execution_count": 1,
   "metadata": {},
   "outputs": [
    {
     "name": "stdout",
     "output_type": "stream",
     "text": [
      "5\n",
      "**\n",
      " **\n",
      "  **\n",
      "   **\n",
      "    **\n"
     ]
    }
   ],
   "source": [
    "# 1361\n",
    "n = int(input())\n",
    "for i in range(n):\n",
    "    print(\" \"*i + \"**\")"
   ]
  },
  {
   "cell_type": "code",
   "execution_count": 41,
   "metadata": {},
   "outputs": [
    {
     "name": "stdout",
     "output_type": "stream",
     "text": [
      "17\n",
      "*****************\n",
      "**      *      **\n",
      "* *     *     * *\n",
      "*  *    *    *  *\n",
      "*   *   *   *   *\n",
      "*    *  *  *    *\n",
      "*     * * *     *\n",
      "*      ***      *\n",
      "*****************\n",
      "*      ***      *\n",
      "*     * * *     *\n",
      "*    *  *  *    *\n",
      "*   *   *   *   *\n",
      "*  *    *    *  *\n",
      "* *     *     * *\n",
      "**      *      **\n",
      "*****************\n"
     ]
    }
   ],
   "source": [
    "# 1365\n",
    "n = int(input())\n",
    "for i in range(1, n):\n",
    "    for j in range(1, n+1):\n",
    "        if (i == 1) or (i==n) or (i==j) or (j==1) or (j==n) or (j+i == n+1) or (i == n//2+1) or (j == n//2+1):\n",
    "            print('*', end='')\n",
    "        else:\n",
    "            print(' ', end='')\n",
    "    print()\n",
    "print(\"*\"*n)"
   ]
  },
  {
   "cell_type": "code",
   "execution_count": 44,
   "metadata": {},
   "outputs": [
    {
     "name": "stdout",
     "output_type": "stream",
     "text": [
      "4\n",
      "   ****\n",
      "  ****\n",
      " ****\n",
      "****\n"
     ]
    }
   ],
   "source": [
    "# 1367\n",
    "n = int(input())\n",
    "for i in range(n):\n",
    "    print(\" \"*(n-1-i)+\"*\"*n)"
   ]
  },
  {
   "cell_type": "code",
   "execution_count": 48,
   "metadata": {},
   "outputs": [
    {
     "name": "stdout",
     "output_type": "stream",
     "text": [
      "5 4 R\n",
      "    ****\n",
      "   ****\n",
      "  ****\n",
      " ****\n",
      "****\n"
     ]
    }
   ],
   "source": [
    "# 1368\n",
    "n, m, b = input().split()\n",
    "n = int(n)\n",
    "m = int(m)\n",
    "if b == \"R\":\n",
    "    for i in range(n):\n",
    "        print(\" \"*(n-1-i)+\"*\"*m)\n",
    "else:\n",
    "    for i in range(n-1,-1,-1):\n",
    "        print(\" \"*(n-1-i)+\"*\"*m)"
   ]
  },
  {
   "cell_type": "code",
   "execution_count": 59,
   "metadata": {},
   "outputs": [
    {
     "name": "stdout",
     "output_type": "stream",
     "text": [
      "10 3\n",
      "**********\n",
      "**  *  * *\n",
      "*  *  *  *\n",
      "* *  *  **\n",
      "**  *  * *\n",
      "*  *  *  *\n",
      "* *  *  **\n",
      "**  *  * *\n",
      "*  *  *  *\n",
      "**********\n"
     ]
    }
   ],
   "source": [
    "# 1369\n",
    "n, k = map(int, input().split())\n",
    "for i in range(1, n+1):\n",
    "    for j in range(1, n+1):\n",
    "        if (i == 1) or (i == n) or (j == 1) or (j == n):\n",
    "            print('*', end='')\n",
    "        elif (i+j-1) % k == 0:\n",
    "            print('*', end='')\n",
    "        else:\n",
    "            print(' ', end='')\n",
    "    print()\n",
    "        "
   ]
  },
  {
   "cell_type": "code",
   "execution_count": 62,
   "metadata": {},
   "outputs": [
    {
     "name": "stdout",
     "output_type": "stream",
     "text": [
      "3 3\n",
      "*\n",
      " *\n",
      "  *\n",
      " *\n",
      "*\n",
      "*\n",
      " *\n",
      "  *\n",
      " *\n",
      "*\n",
      "*\n",
      " *\n",
      "  *\n",
      " *\n",
      "*\n"
     ]
    }
   ],
   "source": [
    "# 1370\n",
    "h, r = map(int, input().split())\n",
    "for i in range(r):\n",
    "    for j in range(h):\n",
    "        print(\" \"*j+\"*\")\n",
    "    for j in range(h-1):\n",
    "        print(\" \"*(h-2-j)+\"*\")"
   ]
  },
  {
   "cell_type": "code",
   "execution_count": 66,
   "metadata": {},
   "outputs": [
    {
     "name": "stdout",
     "output_type": "stream",
     "text": [
      "5\n",
      "    **\n",
      "   *  *\n",
      "  *    *\n",
      " *      *\n",
      "*        *\n",
      "*        *\n",
      " *      *\n",
      "  *    *\n",
      "   *  *\n",
      "    **\n"
     ]
    }
   ],
   "source": [
    "# 1371\n",
    "n = int(input())\n",
    "for i in range(n):\n",
    "    print(\" \"*(n-1-i)+\"*\"+\" \"*2*i+\"*\")\n",
    "for i in range(n):\n",
    "    print(\" \"*i+\"*\"+\" \"*2*(n-1-i)+\"*\")"
   ]
  },
  {
   "cell_type": "code",
   "execution_count": 68,
   "metadata": {},
   "outputs": [
    {
     "name": "stdout",
     "output_type": "stream",
     "text": [
      "5\n"
     ]
    }
   ],
   "source": [
    "# 1378\n",
    "n = int(input())\n",
    "sum = 0\n",
    "for i in range(1,n+1):\n",
    "    for j in range(1,i+1):\n",
    "        sum += j\n",
    "print(sum)"
   ]
  },
  {
   "cell_type": "code",
   "execution_count": 85,
   "metadata": {},
   "outputs": [
    {
     "name": "stdout",
     "output_type": "stream",
     "text": [
      "5\n",
      "1 4\n",
      "2 3\n",
      "3 2\n",
      "4 1\n"
     ]
    }
   ],
   "source": [
    "# 1380\n",
    "n = int(input())\n",
    "dice = set(range(1,7))\n",
    "dice_set = [[(i,j), i+j]for i in dice for j in dice]\n",
    "dice_set.sort(key=lambda x: x[0][0])\n",
    "for i in dice_set:\n",
    "    if i[1]==n:\n",
    "        print(i[0][0], i[0][1])"
   ]
  },
  {
   "cell_type": "code",
   "execution_count": 113,
   "metadata": {},
   "outputs": [
    {
     "name": "stdout",
     "output_type": "stream",
     "text": [
      "4 3\n",
      "+--+\n",
      "|  |\n",
      "+--+\n"
     ]
    }
   ],
   "source": [
    "# 1677\n",
    "n, m = map(int, input().split())\n",
    "\n",
    "for i in range(0,m):\n",
    "    for j in range(0,n):\n",
    "        if (i == 0) or (i==m-1):\n",
    "            if (j==0) or (j==n-1):\n",
    "                print(\"+\", end=\"\")\n",
    "            else:\n",
    "                print(\"-\", end=\"\")\n",
    "        else:\n",
    "            if (j==0) or (j==n-1):\n",
    "                print(\"|\", end=\"\")\n",
    "            else:\n",
    "                print(\" \", end=\"\")\n",
    "    print()"
   ]
  },
  {
   "cell_type": "code",
   "execution_count": 83,
   "metadata": {},
   "outputs": [
    {
     "data": {
      "text/plain": [
       "[[(1, 2), 3],\n",
       " [(1, 3), 4],\n",
       " [(1, 4), 5],\n",
       " [(1, 5), 6],\n",
       " [(1, 6), 7],\n",
       " [(2, 1), 3],\n",
       " [(2, 3), 5],\n",
       " [(2, 4), 6],\n",
       " [(2, 5), 7],\n",
       " [(2, 6), 8],\n",
       " [(3, 1), 4],\n",
       " [(3, 2), 5],\n",
       " [(3, 4), 7],\n",
       " [(3, 5), 8],\n",
       " [(3, 6), 9],\n",
       " [(4, 1), 5],\n",
       " [(4, 2), 6],\n",
       " [(4, 3), 7],\n",
       " [(4, 5), 9],\n",
       " [(4, 6), 10],\n",
       " [(5, 1), 6],\n",
       " [(5, 2), 7],\n",
       " [(5, 3), 8],\n",
       " [(5, 4), 9],\n",
       " [(5, 6), 11],\n",
       " [(6, 1), 7],\n",
       " [(6, 2), 8],\n",
       " [(6, 3), 9],\n",
       " [(6, 4), 10],\n",
       " [(6, 5), 11]]"
      ]
     },
     "execution_count": 83,
     "metadata": {},
     "output_type": "execute_result"
    }
   ],
   "source": []
  },
  {
   "cell_type": "code",
   "execution_count": 76,
   "metadata": {},
   "outputs": [
    {
     "data": {
      "text/plain": [
       "{1, 2, 3, 4, 5, 6}"
      ]
     },
     "execution_count": 76,
     "metadata": {},
     "output_type": "execute_result"
    }
   ],
   "source": [
    "dice"
   ]
  },
  {
   "cell_type": "code",
   "execution_count": 77,
   "metadata": {},
   "outputs": [
    {
     "data": {
      "text/plain": [
       "{2, 3, 4, 5, 6}"
      ]
     },
     "execution_count": 77,
     "metadata": {},
     "output_type": "execute_result"
    }
   ],
   "source": [
    "dice - {1}"
   ]
  },
  {
   "cell_type": "code",
   "execution_count": null,
   "metadata": {},
   "outputs": [],
   "source": []
  }
 ],
 "metadata": {
  "kernelspec": {
   "display_name": "Python 3",
   "language": "python",
   "name": "python3"
  },
  "language_info": {
   "codemirror_mode": {
    "name": "ipython",
    "version": 3
   },
   "file_extension": ".py",
   "mimetype": "text/x-python",
   "name": "python",
   "nbconvert_exporter": "python",
   "pygments_lexer": "ipython3",
   "version": "3.7.4"
  }
 },
 "nbformat": 4,
 "nbformat_minor": 2
}
