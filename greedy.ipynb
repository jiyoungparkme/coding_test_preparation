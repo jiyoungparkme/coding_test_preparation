{
 "cells": [
  {
   "cell_type": "markdown",
   "metadata": {},
   "source": [
    "### 3301 : 거스름돈\n",
    "어떤 가게의 욕심쟁이 점원은 거스름돈을 나눠줄때 거스름돈의 개수를 적게해서 주고자 한다.\n",
    "\n",
    "거스름돈을 입력 받아 점원이 줄 수 있는 최소 거스름돈의 개수를 출력하시오.\n",
    "\n",
    "예를 들어 54520원인 경우,\n",
    "\n",
    "거스름돈으로 50000원권 1장, 1000원권 4장, 500원 1개, 10원 2개 해서 총 8개이다.\n",
    "\n",
    "(※ 현재 우리나라가 사용하고 있는 화폐를 사용한다. 10원 50원 100원 500원 1,000원 5,000원 10,000원 50,000원)"
   ]
  },
  {
   "cell_type": "code",
   "execution_count": 1,
   "metadata": {},
   "outputs": [
    {
     "name": "stdout",
     "output_type": "stream",
     "text": [
      "\n"
     ]
    },
    {
     "ename": "ValueError",
     "evalue": "invalid literal for int() with base 10: ''",
     "output_type": "error",
     "traceback": [
      "\u001b[1;31m---------------------------------------------------------------------------\u001b[0m",
      "\u001b[1;31mValueError\u001b[0m                                Traceback (most recent call last)",
      "\u001b[1;32m<ipython-input-1-f00db94dac0e>\u001b[0m in \u001b[0;36m<module>\u001b[1;34m\u001b[0m\n\u001b[1;32m----> 1\u001b[1;33m \u001b[0mn\u001b[0m \u001b[1;33m=\u001b[0m \u001b[0mint\u001b[0m\u001b[1;33m(\u001b[0m\u001b[0minput\u001b[0m\u001b[1;33m(\u001b[0m\u001b[1;33m)\u001b[0m\u001b[1;33m)\u001b[0m\u001b[1;33m\u001b[0m\u001b[1;33m\u001b[0m\u001b[0m\n\u001b[0m\u001b[0;32m      2\u001b[0m \u001b[0mcount\u001b[0m \u001b[1;33m=\u001b[0m \u001b[1;36m0\u001b[0m\u001b[1;33m\u001b[0m\u001b[1;33m\u001b[0m\u001b[0m\n\u001b[0;32m      3\u001b[0m \u001b[0munit\u001b[0m \u001b[1;33m=\u001b[0m \u001b[1;33m[\u001b[0m\u001b[1;36m50000\u001b[0m\u001b[1;33m,\u001b[0m\u001b[1;36m10000\u001b[0m\u001b[1;33m,\u001b[0m\u001b[1;36m5000\u001b[0m\u001b[1;33m,\u001b[0m\u001b[1;36m1000\u001b[0m\u001b[1;33m,\u001b[0m\u001b[1;36m500\u001b[0m\u001b[1;33m,\u001b[0m\u001b[1;36m100\u001b[0m\u001b[1;33m,\u001b[0m\u001b[1;36m50\u001b[0m\u001b[1;33m,\u001b[0m\u001b[1;36m10\u001b[0m\u001b[1;33m]\u001b[0m\u001b[1;33m\u001b[0m\u001b[1;33m\u001b[0m\u001b[0m\n\u001b[0;32m      4\u001b[0m \u001b[1;32mfor\u001b[0m \u001b[0mi\u001b[0m \u001b[1;32min\u001b[0m \u001b[0munit\u001b[0m\u001b[1;33m:\u001b[0m\u001b[1;33m\u001b[0m\u001b[1;33m\u001b[0m\u001b[0m\n\u001b[0;32m      5\u001b[0m     \u001b[1;32mif\u001b[0m \u001b[0mn\u001b[0m \u001b[1;33m>=\u001b[0m \u001b[0mi\u001b[0m\u001b[1;33m:\u001b[0m\u001b[1;33m\u001b[0m\u001b[1;33m\u001b[0m\u001b[0m\n",
      "\u001b[1;31mValueError\u001b[0m: invalid literal for int() with base 10: ''"
     ]
    }
   ],
   "source": [
    "n = int(input())\n",
    "count = 0\n",
    "unit = [50000,10000,5000,1000,500,100,50,10]\n",
    "for i in unit:\n",
    "    if n >= i:\n",
    "        count += n//i\n",
    "        n %= i\n",
    "print(count)"
   ]
  },
  {
   "cell_type": "markdown",
   "metadata": {},
   "source": [
    "### 2201 : 최소대금\n",
    "<문제>\n",
    "\n",
    "파파 파스타 가게는 점심 추천 파스타와 생과일 쥬스 세트 메뉴가 인기가 좋다.\n",
    "\n",
    "이 세트 메뉴를 주문하면 그 날의 3 종류의 파스타와 2 종류의 생과일 쥬스에서 하나씩 선택한다.\n",
    "\n",
    "파스타와 생과일 쥬스의 가격 합계에서 10%를 더한 금액이 대금된다.\n",
    "\n",
    "어느 날의 파스타와 생과일 쥬스의 가격이 주어 졌을 때, 그 날 세트 메뉴의 대금의 최소값을 구하는 프로그램을 작성하라.\n",
    "\n",
    "<입력>\n",
    "\n",
    "입력은 5 행으로 이루어지며, 한 줄에 하나씩 양의 정수가 적혀있다.\n",
    "\n",
    "1행의 정수는 첫 번째 파스타 가격이다.\n",
    "\n",
    "2행의 정수는 두 번째 파스타 가격이다.\n",
    "\n",
    "3행의 정수는 세 번째 파스타 가격이다.\n",
    "\n",
    "4행의 정수는 첫 번째 생과일 쥬스 가격이다.\n",
    "\n",
    "5행의 정수는 두 번째 생과일 쥬스의 가격이다.\n",
    "\n",
    "(모든 파스타와 생과일 쥬스의 가격은 100 원이상 2000원 이하이다.)"
   ]
  },
  {
   "cell_type": "code",
   "execution_count": null,
   "metadata": {},
   "outputs": [],
   "source": [
    "p1 = int(input())\n",
    "p2 = int(input())\n",
    "p3 = int(input())\n",
    "j1 = int(input())\n",
    "j2 = int(input())\n",
    "print(round((min(p1,p2,p3)+min(j1,j2))*1.1,1))"
   ]
  },
  {
   "cell_type": "markdown",
   "metadata": {},
   "source": [
    "### 3321 : 최고의 피자\n",
    "<문제>\n",
    "\n",
    "vega 선생님은 Miss 피자 가게의 단골 손님이다.\n",
    "\n",
    "그는 이번 달부터 절약 생활을 시작했다.\n",
    "\n",
    "그래서 그는 피자 가게에서 주문할 수 있는 피자 중 1 달러 당 열량이 최대가 되는 피자를 주문하고 싶어한다.\n",
    "\n",
    "이러한 피자를 \"최고의 피자\"라고 부르기로 하자.\n",
    "\n",
    "\"최고의 피자\"는 1종류가 아니다.\n",
    "\n",
    "Miss 피자는 N 종류의 토핑에서 여러 종류를 자유롭게 선택하여, 도우 위에 올려 주문할 수있다.\n",
    "\n",
    "같은 토핑을 2 개 이상 올릴 수 없다.\n",
    "\n",
    "도우에 토핑을 하나도 하지 않은  피자도 주문할 수있다.\n",
    "\n",
    "도우의 가격은 A 달러이며, 토핑의 가격은 모두 B 달러이다.\n",
    "\n",
    "실제 피자 가격은 도우의 가격과 토핑 가격의 합계이다.\n",
    "\n",
    "즉, 토핑을 k 종류 (0 ≦ k ≦ N) 한 피자의 가격은 A + k × B 원이다.\n",
    "\n",
    "피자 전체의 칼로리는 도우 열량과 토핑 칼로리의 합계이다.\n",
    "\n",
    "도우의 가격과 토핑의 가격, 그리고 도우와 각 토핑 열량 값이 주어 졌을 때, \"최고의 피자\"의 1 달러 당 열량의 수를 구하는 프로그램을 작성하시오.\n",
    "\n",
    "<입력>\n",
    "\n",
    "첫 번째 줄에는 토핑 종류 수를 나타내는 하나의 정수 N (1 ≦ N ≦ 100)이 입력된다.\n",
    "\n",
    "두 번째 줄에는 두 개의 정수 A, B (1 ≦ A ≦ 1000,1 ≦ B ≦ 1000)가 공백을 구분으로 입력된다. A는 도우의 가격, B는 토핑의 가격을 나타낸다.\n",
    "\n",
    "세 번째 줄에는 도우의 칼로리를 나타내는 정수 C (1 ≦ C ≦ 10000)가 입력된다.\n",
    "\n",
    "3 + i 행 (1 ≦ i ≦ N)는 i 번째의 토핑 칼로리 수를 나타내는 정수 Di (1 ≦ Di ≦ 10,000)가 입력된다."
   ]
  },
  {
   "cell_type": "code",
   "execution_count": null,
   "metadata": {},
   "outputs": [],
   "source": [
    "N = int(input())\n",
    "A, B = map(int, input().split())\n",
    "C = int(input())\n",
    "D = sorted([int(input()) for i in range(N)],reverse=True)\n",
    "total = 0\n",
    "tcal_sum = []  \n",
    "for i in D:\n",
    "    total += i\n",
    "    tcal_sum.append(total)\n",
    "best = [((C + i)//(A + (tcal_sum.index(i)+1)*B))for i in tcal_sum]\n",
    "print(max(best))"
   ]
  },
  {
   "cell_type": "markdown",
   "metadata": {},
   "source": [
    "### 3120 : 리모컨\n",
    "<문제>\n",
    "\n",
    "컴퓨터실에서 수업 중인 정보 선생님은 냉난방기의 온도를 조절하려고 한다.\n",
    "\n",
    "냉난방기가 멀리 있어서 리모컨으로 조작하려고 하는데, 리모컨의 온도 조절 버튼은 다음과 같다.\n",
    "\n",
    "1) 온도를 1도 올리는 버튼\n",
    "\n",
    "2) 온도를 1도 내리는 버튼\n",
    "\n",
    "3) 온도를 5도 올리는 버튼\n",
    "\n",
    "4) 온도를 5도 내리는 버튼\n",
    "\n",
    "5) 온도를 10도 올리는 버튼\n",
    "\n",
    "6) 온도를 10도 내리는 버튼\n",
    "\n",
    "이와 같이 총 6개의 버튼으로 목표 온도를 조절해야 한다.\n",
    "\n",
    "현재 설정 온도와 변경하고자하는 목표 온도가 주어지면 이 버튼들을 이용하여 목표 온도로 변경하고자 한다.\n",
    "\n",
    "이 때 버튼 누름의 최소 횟수를 구하시오.\n",
    "\n",
    "예를 들어, 7도에서 34도로 변경하는 경우,\n",
    "\n",
    "7 -> 17 -> 27 -> 32 -> 33 -> 34\n",
    "\n",
    "이렇게 총 5번 누르면 된다.\n",
    "\n",
    "<입력>\n",
    "\n",
    "현재 온도a 와 목표 온도b가 입력된다. ( 0 <= a , b <= 40 )"
   ]
  },
  {
   "cell_type": "code",
   "execution_count": null,
   "metadata": {},
   "outputs": [],
   "source": [
    "a, b = map(int, input().split())\n",
    "n= b - a\n",
    "count = 0\n",
    "button = [1, -1, 5, -5, 10, -10]\n",
    "if str(n)[-1] =='8':\n",
    "    n = abs(n)+4\n",
    "elif str(n)[-1] in [\"4\",\"9\"]:\n",
    "    n = abs(n)+2\n",
    "else:\n",
    "    n = abs(n)\n",
    "for i in sorted(button, reverse=True):\n",
    "    count += n//i\n",
    "    n %= i\n",
    "print(count)"
   ]
  },
  {
   "cell_type": "markdown",
   "metadata": {},
   "source": [
    "### 4763 : 원숭이\n",
    "<문제>\n",
    "\n",
    "KOI 동물원에는 N마리의 원숭이가 있고, 이 원숭이들을 수용할 수 있는 두 개의 큰 우리가 있다. 모든 원숭이들은 1부터 N 까지의 번호가 매겨져 있다.\n",
    "\n",
    "원숭이들 사이에는 유달리 서로 앙숙관계인 원숭이들이 있어서 같은 우리에 두었을 경우 서로 싸우는 경우가 많다. 두 원숭이 x와 y가 앙숙관계라는 것은 두 원숭이 x, y가 서로 싫어하는 관계임을 의미한다. 또한, 각각의 한 원숭이에 대해 앙숙관계에 있는 원숭이들의 수는 기껏해야 세 마리라고 가정한다. 동물원에서는 원숭이들의 앙숙관계를 조사하여 아래의 두 조건을 만족하도록 원숭이들을 두 개의 우리에 나누어 수용하려고 한다.\n",
    "\n",
    "(조건 1) 각 원숭이에 대해 같은 우리 안에 있으며 앙숙관계인 원숭이는 한 마리 이하이다.\n",
    "(조건 2) 비어있는 우리는 없다. (즉, 하나의 우리에 원숭이를 모두 수용 가능한 경우가 있더라도 각각의 우리에는 적어도 한 마리 이상의 원숭이를 수용하여야 한다.)\n",
    "예를 들어, N = 5 인 경우에 1번 원숭이는 {2, 3, 4}와 2는 {1, 3, 5}와 앙숙관계이고, 그리고 3은 {1, 2, 4}와 4는 {1, 3, 5}, 그리고 5는 {2, 4}와 앙숙관계라고 하자. 위의 조건을 만족하도록 원숭이들을 두 개의 우리로 나누려면 {1, 3, 5}를 하나의 우리에, 그리고 {2, 4}를 다른 우리에 수용하면 된다.\n",
    "\n",
    "원숭이들의 수와 각 원숭이들의 앙숙관계가 입력으로 주어질 때, 위의 조건을 만족하도록 원숭이들을 두 개의 우리에 나누어 수용하는 프로그램을 작성하시오.\n",
    "\n",
    "<입력>\n",
    "\n",
    "첫째 줄에는 원숭이들의 수를 나타내는 하나의 정수 N 이 주어진다. 단, N 은 3이상 100,000이하의 정수이다.\n",
    "\n",
    "둘째 줄부터 N 개의 줄에는 1번부터 번호순서대로 각 원숭이에 대해 앙숙관계에 있는 원숭이의 수 M 이 주어지고, 이어서 각 원숭이 번호 M 개가 오름차순으로 하나의 줄에 주어진다. 모든 정수들 사이에는 빈칸이 있다. 조건에 맞도록 원숭이들을 나누지 못하는 경우는 존재하지 않는다."
   ]
  },
  {
   "cell_type": "code",
   "execution_count": null,
   "metadata": {},
   "outputs": [],
   "source": [
    "N = int(input())\n",
    "cage1= list(range(1,N+1))\n",
    "hate = [list(map(int, input().split())) for i in cage1]\n",
    "cage2 = []\n",
    "\n",
    "a = 2\n",
    "for i in hate[1:]:\n",
    "    count = 0\n",
    "    if i[0]>0:\n",
    "        for j in i[1:]:\n",
    "            if j in cage1:\n",
    "                count +=1\n",
    "        if count >=2:\n",
    "            cage2.append(a)\n",
    "            cage1 = list(set(cage1)-set(cage2))\n",
    "    a +=1\n",
    "for i in cage2:\n",
    "    count = 0\n",
    "    check = cage2.copy()\n",
    "    del check[check.index(i)]\n",
    "    for j in check:\n",
    "        if j in hate[i-1][1:]:\n",
    "            count += 1\n",
    "    if count >= 2:\n",
    "        cage1.append(i)\n",
    "        cage2 = list(set(cage2)-set(cage1))\n",
    "        \n",
    "for i in sorted(cage1):\n",
    "    print(i,end=\" \")\n",
    "print(\"\\n\")\n",
    "for i in cage2:\n",
    "    print(i, end=\" \")"
   ]
  },
  {
   "cell_type": "markdown",
   "metadata": {},
   "source": [
    "### 4787 : 택배\n",
    "<문제>\n",
    "\n",
    "문제2) 택배 (초등2)\n",
    "\n",
    "아래 그림과 같이 직선 도로상에 왼쪽부터 오른쪽 으로 1번부터 차례대로 번호가 붙여진 마을들이 있다. 마을에 있는 물건을 배송하기 위한 트럭 한 대가 있고, 트럭이 있는 본부는 1번 마을 왼쪽에 있다. 이 트럭은 본부에서 출발하여 1번 마을부터 마지막 마을까지 오른쪽으로 가면서 마을에 있는 물건을 배송한다.\n",
    "\n",
    "\n",
    "\n",
    "각 마을은 배송할 물건들을 박스에 넣어 보내며, 본부에서는 박스를 보내는 마을번호, 박스를 받는 마을번호와 보낼 박스의 개수를 알고 있다. 박스 들은 모두 크기가 같다. 트럭에 최대로 실을 수 있는 박스의 개수, 즉 트럭의 용량이 있다. 이 트 럭 한대를 이용하여 다음의 조건을 모두 만족하면 서 최대한 많은 박스들을 배송하려고 한다.\n",
    "\n",
    "    조건 1: 박스를 트럭에 실으면, 이 박스는 받는 마을에서만 내린다.\n",
    "    조건 2: 트럭은 지나온 마을로 되돌아가지 않는 다.\n",
    "    조건 3: 박스들 중 일부만 배송할 수도 있다.\n",
    "마을의 개수, 트럭의 용량, 박스 정보(보내는 마을 번호, 받는 마을번호, 박스 개수)가 주어질 때, 트럭 한 대로 배송할 수 있는 최대 박스 수를 구하 는 프로그램을 작성하시오. 단, 받는 마을번호는 보내는 마을번호보다 항상 크다.\n",
    "\n",
    "예를 들어, 트럭 용량이 40이고 보내는 박스들이 다음 표와 같다고 하자.\n",
    "\n",
    "보내는 마을\t받는 마을\t박스 개수\n",
    "1\t2\t10\n",
    "1\t3\t20\n",
    "1\t4\t30\n",
    "2\t3\t10\n",
    "2\t4\t20\n",
    "3\t4\t20\n",
    "이들 박스에 대하여 다음과 같이 배송하는 방법을 고려해 보자.\n",
    "\n",
    "(1) 1번 마을에 도착하면\n",
    "\n",
    "다음과 같이 박스들을 트럭에 싣는다. (1번 마을에서 4번 마을로 보내는 박스는 30개 중 10개를 싣는다)\n",
    "\n",
    "보내는 마을\t받는 마을\t싣는 박스 수\n",
    "1\t2\t10\n",
    "1\t3\t20\n",
    "1\t4\t10\n",
    "(2) 2번 마을에 도착하면\n",
    "\n",
    "트럭에 실려진 박스들 중 받는 마을번호가 2인 박스 10개를 내려 배송한다. (이때 트 럭에 남아있는 박스는 30개가 된다.)\n",
    "그리고 다음과 같이 박스들을 싣는다. (이때 트럭에 실려 있는 박스는 40개가 된다.)\n",
    "\n",
    "보내는 마을\t받는 마을\t싣는 박스 수\n",
    "2\t3\t10\n",
    "(3) 3번 마을에 도착하면\n",
    "\n",
    "트럭에 실려진 박스들 중 받는 마을번호가 3인 박스 30개를 내려 배송한다. (이때 트 럭에 남아있는 박스는 10개가 된다.)\n",
    "그리고 다음과 같이 박스들을 싣는다. (이때 트럭에 실려 있는 박스는 30개가 된다.)\n",
    "\n",
    "보내는 마을\t받는 마을\t싣는 박스 수\n",
    "3\t4\t20\n",
    "(4) 4번 마을에 도착하면\n",
    "\n",
    "받는 마을번호가 4인 박스 30개를 내려 배 송한다.\n",
    "\n",
    "위와 같이 배송하면 배송한 전체 박스는 70개이 다. 이는 배송할 수 있는 최대 박스 개수이다.\n",
    "\n",
    "<입력>\n",
    "\n",
    "첫 줄은 마을 수 N 과 트럭의 용량 C 가 빈칸을 사이에 두고 주어진다. N 은 2이상 2,000이하 정수이고, C 는 1이상 10,000이하 정수이다.\n",
    "\n",
    "다음 줄에, 보내는 박스 정보의 개수 M 이 주어진다. M 은 1 이상 10,000이하 정수이다.\n",
    "\n",
    "다음 M 개의 각 줄에 박스를 보내는 마을번호, 박스를 받는 마을번호, 보내는 박스 개수(1이상 10,000이하 정수)를 나 타내는 양의 정수가 빈칸을 사이에 두고 주어진다. 박스를 받는 마을번호는 보내는 마을번호보다 크다."
   ]
  },
  {
   "cell_type": "code",
   "execution_count": 2,
   "metadata": {},
   "outputs": [
    {
     "name": "stdout",
     "output_type": "stream",
     "text": [
      "4 40\n",
      "6\n",
      "3 4 20\n",
      "1 2 10\n",
      "1 3 20\n",
      "1 4 30\n",
      "2 3 10\n",
      "2 4 20\n"
     ]
    },
    {
     "ename": "KeyboardInterrupt",
     "evalue": "",
     "output_type": "error",
     "traceback": [
      "\u001b[1;31m---------------------------------------------------------------------------\u001b[0m",
      "\u001b[1;31mKeyboardInterrupt\u001b[0m                         Traceback (most recent call last)",
      "\u001b[1;32m<ipython-input-2-4e366a30d006>\u001b[0m in \u001b[0;36m<module>\u001b[1;34m\u001b[0m\n\u001b[0;32m     22\u001b[0m                         \u001b[0mk\u001b[0m\u001b[1;33m[\u001b[0m\u001b[1;36m2\u001b[0m\u001b[1;33m]\u001b[0m \u001b[1;33m=\u001b[0m \u001b[0mC\u001b[0m\u001b[1;33m\u001b[0m\u001b[1;33m\u001b[0m\u001b[0m\n\u001b[0;32m     23\u001b[0m                     \u001b[0mbus\u001b[0m\u001b[1;33m.\u001b[0m\u001b[0mappend\u001b[0m\u001b[1;33m(\u001b[0m\u001b[0mk\u001b[0m\u001b[1;33m)\u001b[0m\u001b[1;33m\u001b[0m\u001b[1;33m\u001b[0m\u001b[0m\n\u001b[1;32m---> 24\u001b[1;33m                     \u001b[0mC\u001b[0m \u001b[1;33m-=\u001b[0m \u001b[0mk\u001b[0m\u001b[1;33m[\u001b[0m\u001b[1;36m2\u001b[0m\u001b[1;33m]\u001b[0m\u001b[1;33m\u001b[0m\u001b[1;33m\u001b[0m\u001b[0m\n\u001b[0m\u001b[0;32m     25\u001b[0m \u001b[0mprint\u001b[0m\u001b[1;33m(\u001b[0m\u001b[0mtotal\u001b[0m\u001b[1;33m)\u001b[0m\u001b[1;33m\u001b[0m\u001b[1;33m\u001b[0m\u001b[0m\n",
      "\u001b[1;31mKeyboardInterrupt\u001b[0m: "
     ]
    }
   ],
   "source": [
    "N, C = map(int, input().split())\n",
    "M = int(input())\n",
    "info = sorted([list(map(int, input().split())) for i in range(M)])\n",
    "bus = []\n",
    "total = 0\n",
    "for i in info:\n",
    "    if C>0:\n",
    "        info.remove(i)\n",
    "        if i[2] > C:\n",
    "            i[2] = C\n",
    "        bus.append(i)\n",
    "        C -= i[2]\n",
    "for i in range(2,N+1):\n",
    "    for j in bus:\n",
    "        if j[1] == i:\n",
    "            C += j[2]\n",
    "            total += j[2]  \n",
    "        if i<N:        \n",
    "            for k in info:\n",
    "                if k[0] == i:\n",
    "                    if k[2]>C:\n",
    "                        k[2] = C\n",
    "                    bus.append(k)\n",
    "                    C -= k[2]\n",
    "print(total)"
   ]
  },
  {
   "cell_type": "code",
   "execution_count": null,
   "metadata": {},
   "outputs": [],
   "source": [
    "info = [[1, 2, 10], [1, 3, 20], [1, 4, 30], [2, 3, 10], [2, 4, 20], [3, 4, 20]]\n",
    "bus = [[1, 2, 10], [1, 3, 20], [1, 4, 10]]\n",
    "for i in bus:\n"
   ]
  },
  {
   "cell_type": "code",
   "execution_count": null,
   "metadata": {},
   "outputs": [],
   "source": []
  },
  {
   "cell_type": "code",
   "execution_count": null,
   "metadata": {},
   "outputs": [],
   "source": []
  },
  {
   "cell_type": "code",
   "execution_count": null,
   "metadata": {},
   "outputs": [],
   "source": []
  },
  {
   "cell_type": "code",
   "execution_count": null,
   "metadata": {},
   "outputs": [],
   "source": []
  },
  {
   "cell_type": "code",
   "execution_count": null,
   "metadata": {},
   "outputs": [],
   "source": []
  },
  {
   "cell_type": "code",
   "execution_count": 10,
   "metadata": {},
   "outputs": [
    {
     "ename": "SyntaxError",
     "evalue": "invalid syntax (<ipython-input-10-741709874622>, line 11)",
     "output_type": "error",
     "traceback": [
      "\u001b[1;36m  File \u001b[1;32m\"<ipython-input-10-741709874622>\"\u001b[1;36m, line \u001b[1;32m11\u001b[0m\n\u001b[1;33m    bus = [j if j[0]=i+1 for j in info ]\u001b[0m\n\u001b[1;37m                    ^\u001b[0m\n\u001b[1;31mSyntaxError\u001b[0m\u001b[1;31m:\u001b[0m invalid syntax\n"
     ]
    }
   ],
   "source": [
    "info = [[1, 2, 10], [1, 3, 20], [1, 4, 30], [2, 3, 10], [2, 4, 20], [3, 4, 20]]\n",
    "C = 40\n",
    "N = 4\n",
    "total = 0\n",
    "bus = []\n",
    "for i in range(N):\n",
    "    if i+1<N:\n",
    "        if C>0:\n",
    "            if j[2]>C:\n",
    "                j[2] = C\n",
    "            bus = [j if j[0]=i+1 for j in info ]\n",
    "            C -= k[2]\n",
    "            print(bus)\n",
    "    for j in bus:\n",
    "        if j[1] == i+1:\n",
    "            C += j[2]\n",
    "            total += j[2]\n",
    "            print(C) \n",
    "    \n",
    "print(total)"
   ]
  },
  {
   "cell_type": "code",
   "execution_count": 14,
   "metadata": {},
   "outputs": [],
   "source": []
  },
  {
   "cell_type": "code",
   "execution_count": 43,
   "metadata": {},
   "outputs": [
    {
     "name": "stdout",
     "output_type": "stream",
     "text": [
      "[[1, 2, 10]]\n",
      "[[1, 2, 10], [1, 3, 20]]\n",
      "[[1, 2, 10], [1, 3, 20], [1, 4, 10]]\n",
      "[[1, 2, 10], [1, 3, 20], [1, 4, 10], [2, 3, 10]]\n",
      "[[1, 2, 10], [1, 3, 20], [1, 4, 10], [2, 3, 10], [2, 4, 10]]\n",
      "[[1, 2, 10], [1, 3, 20], [1, 4, 10], [2, 3, 10], [2, 4, 10], [3, 4, 20]]\n",
      "60\n"
     ]
    }
   ],
   "source": [
    "info = [[1, 2, 10], [1, 3, 20], [1, 4, 30], [2, 3, 10], [2, 4, 20], [3, 4, 20]]\n",
    "C = 40\n",
    "N = 4\n",
    "total = 0\n",
    "bus = []\n",
    "for k in range(4):\n",
    "    for i in info:\n",
    "        if k+1<N :\n",
    "        if i[0]==k+1:\n",
    "            if C>0:\n",
    "                if i[2] > C:\n",
    "                    i[2] = C\n",
    "                bus.append(i)\n",
    "                C -= i[2]\n",
    "                print(bus)\n",
    "        if i[1]== k+1:\n",
    "            C += j[2]\n",
    "            total += j[2]\n",
    "print(total)\n",
    "        "
   ]
  },
  {
   "cell_type": "code",
   "execution_count": null,
   "metadata": {},
   "outputs": [],
   "source": []
  }
 ],
 "metadata": {
  "kernelspec": {
   "display_name": "Python 3",
   "language": "python",
   "name": "python3"
  },
  "language_info": {
   "codemirror_mode": {
    "name": "ipython",
    "version": 3
   },
   "file_extension": ".py",
   "mimetype": "text/x-python",
   "name": "python",
   "nbconvert_exporter": "python",
   "pygments_lexer": "ipython3",
   "version": "3.7.4"
  }
 },
 "nbformat": 4,
 "nbformat_minor": 2
}
