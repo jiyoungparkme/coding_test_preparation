{
 "cells": [
  {
   "cell_type": "markdown",
   "metadata": {},
   "source": [
    "### 3301 : 거스름돈\n",
    "어떤 가게의 욕심쟁이 점원은 거스름돈을 나눠줄때 거스름돈의 개수를 적게해서 주고자 한다.\n",
    "\n",
    "거스름돈을 입력 받아 점원이 줄 수 있는 최소 거스름돈의 개수를 출력하시오.\n",
    "\n",
    "예를 들어 54520원인 경우,\n",
    "\n",
    "거스름돈으로 50000원권 1장, 1000원권 4장, 500원 1개, 10원 2개 해서 총 8개이다.\n",
    "\n",
    "(※ 현재 우리나라가 사용하고 있는 화폐를 사용한다. 10원 50원 100원 500원 1,000원 5,000원 10,000원 50,000원)"
   ]
  },
  {
   "cell_type": "code",
   "execution_count": 2,
   "metadata": {},
   "outputs": [
    {
     "name": "stdout",
     "output_type": "stream",
     "text": [
      "\n"
     ]
    },
    {
     "ename": "ValueError",
     "evalue": "invalid literal for int() with base 10: ''",
     "output_type": "error",
     "traceback": [
      "\u001b[1;31m---------------------------------------------------------------------------\u001b[0m",
      "\u001b[1;31mValueError\u001b[0m                                Traceback (most recent call last)",
      "\u001b[1;32m<ipython-input-2-f00db94dac0e>\u001b[0m in \u001b[0;36m<module>\u001b[1;34m\u001b[0m\n\u001b[1;32m----> 1\u001b[1;33m \u001b[0mn\u001b[0m \u001b[1;33m=\u001b[0m \u001b[0mint\u001b[0m\u001b[1;33m(\u001b[0m\u001b[0minput\u001b[0m\u001b[1;33m(\u001b[0m\u001b[1;33m)\u001b[0m\u001b[1;33m)\u001b[0m\u001b[1;33m\u001b[0m\u001b[1;33m\u001b[0m\u001b[0m\n\u001b[0m\u001b[0;32m      2\u001b[0m \u001b[0mcount\u001b[0m \u001b[1;33m=\u001b[0m \u001b[1;36m0\u001b[0m\u001b[1;33m\u001b[0m\u001b[1;33m\u001b[0m\u001b[0m\n\u001b[0;32m      3\u001b[0m \u001b[0munit\u001b[0m \u001b[1;33m=\u001b[0m \u001b[1;33m[\u001b[0m\u001b[1;36m50000\u001b[0m\u001b[1;33m,\u001b[0m\u001b[1;36m10000\u001b[0m\u001b[1;33m,\u001b[0m\u001b[1;36m5000\u001b[0m\u001b[1;33m,\u001b[0m\u001b[1;36m1000\u001b[0m\u001b[1;33m,\u001b[0m\u001b[1;36m500\u001b[0m\u001b[1;33m,\u001b[0m\u001b[1;36m100\u001b[0m\u001b[1;33m,\u001b[0m\u001b[1;36m50\u001b[0m\u001b[1;33m,\u001b[0m\u001b[1;36m10\u001b[0m\u001b[1;33m]\u001b[0m\u001b[1;33m\u001b[0m\u001b[1;33m\u001b[0m\u001b[0m\n\u001b[0;32m      4\u001b[0m \u001b[1;32mfor\u001b[0m \u001b[0mi\u001b[0m \u001b[1;32min\u001b[0m \u001b[0munit\u001b[0m\u001b[1;33m:\u001b[0m\u001b[1;33m\u001b[0m\u001b[1;33m\u001b[0m\u001b[0m\n\u001b[0;32m      5\u001b[0m     \u001b[1;32mif\u001b[0m \u001b[0mn\u001b[0m \u001b[1;33m>=\u001b[0m \u001b[0mi\u001b[0m\u001b[1;33m:\u001b[0m\u001b[1;33m\u001b[0m\u001b[1;33m\u001b[0m\u001b[0m\n",
      "\u001b[1;31mValueError\u001b[0m: invalid literal for int() with base 10: ''"
     ]
    }
   ],
   "source": [
    "n = int(input())\n",
    "count = 0\n",
    "unit = [50000,10000,5000,1000,500,100,50,10]\n",
    "for i in unit:\n",
    "    if n >= i:\n",
    "        count += n//i\n",
    "        n %= i\n",
    "print(count)"
   ]
  },
  {
   "cell_type": "markdown",
   "metadata": {},
   "source": [
    "### 2201 : 최소대금\n",
    "<문제>\n",
    "\n",
    "파파 파스타 가게는 점심 추천 파스타와 생과일 쥬스 세트 메뉴가 인기가 좋다.\n",
    "\n",
    "이 세트 메뉴를 주문하면 그 날의 3 종류의 파스타와 2 종류의 생과일 쥬스에서 하나씩 선택한다.\n",
    "\n",
    "파스타와 생과일 쥬스의 가격 합계에서 10%를 더한 금액이 대금된다.\n",
    "\n",
    "어느 날의 파스타와 생과일 쥬스의 가격이 주어 졌을 때, 그 날 세트 메뉴의 대금의 최소값을 구하는 프로그램을 작성하라.\n",
    "\n",
    "<입력>\n",
    "\n",
    "입력은 5 행으로 이루어지며, 한 줄에 하나씩 양의 정수가 적혀있다.\n",
    "\n",
    "1행의 정수는 첫 번째 파스타 가격이다.\n",
    "\n",
    "2행의 정수는 두 번째 파스타 가격이다.\n",
    "\n",
    "3행의 정수는 세 번째 파스타 가격이다.\n",
    "\n",
    "4행의 정수는 첫 번째 생과일 쥬스 가격이다.\n",
    "\n",
    "5행의 정수는 두 번째 생과일 쥬스의 가격이다.\n",
    "\n",
    "(모든 파스타와 생과일 쥬스의 가격은 100 원이상 2000원 이하이다.)"
   ]
  },
  {
   "cell_type": "code",
   "execution_count": null,
   "metadata": {},
   "outputs": [],
   "source": [
    "p1 = int(input())\n",
    "p2 = int(input())\n",
    "p3 = int(input())\n",
    "j1 = int(input())\n",
    "j2 = int(input())\n",
    "print(round((min(p1,p2,p3)+min(j1,j2))*1.1,1))"
   ]
  },
  {
   "cell_type": "markdown",
   "metadata": {},
   "source": [
    "### 3321 : 최고의 피자\n",
    "<문제>\n",
    "\n",
    "vega 선생님은 Miss 피자 가게의 단골 손님이다.\n",
    "\n",
    "그는 이번 달부터 절약 생활을 시작했다.\n",
    "\n",
    "그래서 그는 피자 가게에서 주문할 수 있는 피자 중 1 달러 당 열량이 최대가 되는 피자를 주문하고 싶어한다.\n",
    "\n",
    "이러한 피자를 \"최고의 피자\"라고 부르기로 하자.\n",
    "\n",
    "\"최고의 피자\"는 1종류가 아니다.\n",
    "\n",
    "Miss 피자는 N 종류의 토핑에서 여러 종류를 자유롭게 선택하여, 도우 위에 올려 주문할 수있다.\n",
    "\n",
    "같은 토핑을 2 개 이상 올릴 수 없다.\n",
    "\n",
    "도우에 토핑을 하나도 하지 않은  피자도 주문할 수있다.\n",
    "\n",
    "도우의 가격은 A 달러이며, 토핑의 가격은 모두 B 달러이다.\n",
    "\n",
    "실제 피자 가격은 도우의 가격과 토핑 가격의 합계이다.\n",
    "\n",
    "즉, 토핑을 k 종류 (0 ≦ k ≦ N) 한 피자의 가격은 A + k × B 원이다.\n",
    "\n",
    "피자 전체의 칼로리는 도우 열량과 토핑 칼로리의 합계이다.\n",
    "\n",
    "도우의 가격과 토핑의 가격, 그리고 도우와 각 토핑 열량 값이 주어 졌을 때, \"최고의 피자\"의 1 달러 당 열량의 수를 구하는 프로그램을 작성하시오.\n",
    "\n",
    "<입력>\n",
    "\n",
    "첫 번째 줄에는 토핑 종류 수를 나타내는 하나의 정수 N (1 ≦ N ≦ 100)이 입력된다.\n",
    "\n",
    "두 번째 줄에는 두 개의 정수 A, B (1 ≦ A ≦ 1000,1 ≦ B ≦ 1000)가 공백을 구분으로 입력된다. A는 도우의 가격, B는 토핑의 가격을 나타낸다.\n",
    "\n",
    "세 번째 줄에는 도우의 칼로리를 나타내는 정수 C (1 ≦ C ≦ 10000)가 입력된다.\n",
    "\n",
    "3 + i 행 (1 ≦ i ≦ N)는 i 번째의 토핑 칼로리 수를 나타내는 정수 Di (1 ≦ Di ≦ 10,000)가 입력된다."
   ]
  },
  {
   "cell_type": "code",
   "execution_count": null,
   "metadata": {},
   "outputs": [],
   "source": [
    "N = int(input())\n",
    "A, B = map(int, input().split())\n",
    "C = int(input())\n",
    "D = sorted([int(input()) for i in range(N)],reverse=True)\n",
    "total = 0\n",
    "tcal_sum = []  \n",
    "for i in D:\n",
    "    total += i\n",
    "    tcal_sum.append(total)\n",
    "best = [((C + i)//(A + (tcal_sum.index(i)+1)*B))for i in tcal_sum]\n",
    "print(max(best))"
   ]
  },
  {
   "cell_type": "markdown",
   "metadata": {},
   "source": [
    "### 3120 : 리모컨\n",
    "<문제>\n",
    "\n",
    "컴퓨터실에서 수업 중인 정보 선생님은 냉난방기의 온도를 조절하려고 한다.\n",
    "\n",
    "냉난방기가 멀리 있어서 리모컨으로 조작하려고 하는데, 리모컨의 온도 조절 버튼은 다음과 같다.\n",
    "\n",
    "1) 온도를 1도 올리는 버튼\n",
    "\n",
    "2) 온도를 1도 내리는 버튼\n",
    "\n",
    "3) 온도를 5도 올리는 버튼\n",
    "\n",
    "4) 온도를 5도 내리는 버튼\n",
    "\n",
    "5) 온도를 10도 올리는 버튼\n",
    "\n",
    "6) 온도를 10도 내리는 버튼\n",
    "\n",
    "이와 같이 총 6개의 버튼으로 목표 온도를 조절해야 한다.\n",
    "\n",
    "현재 설정 온도와 변경하고자하는 목표 온도가 주어지면 이 버튼들을 이용하여 목표 온도로 변경하고자 한다.\n",
    "\n",
    "이 때 버튼 누름의 최소 횟수를 구하시오.\n",
    "\n",
    "예를 들어, 7도에서 34도로 변경하는 경우,\n",
    "\n",
    "7 -> 17 -> 27 -> 32 -> 33 -> 34\n",
    "\n",
    "이렇게 총 5번 누르면 된다.\n",
    "\n",
    "<입력>\n",
    "\n",
    "현재 온도a 와 목표 온도b가 입력된다. ( 0 <= a , b <= 40 )"
   ]
  },
  {
   "cell_type": "code",
   "execution_count": null,
   "metadata": {},
   "outputs": [],
   "source": [
    "a, b = map(int, input().split())\n",
    "n= b - a\n",
    "count = 0\n",
    "button = [1, -1, 5, -5, 10, -10]\n",
    "if str(n)[-1] =='8':\n",
    "    n = abs(n)+4\n",
    "elif str(n)[-1] in [\"4\",\"9\"]:\n",
    "    n = abs(n)+2\n",
    "else:\n",
    "    n = abs(n)\n",
    "for i in sorted(button, reverse=True):\n",
    "    count += n//i\n",
    "    n %= i\n",
    "print(count)"
   ]
  },
  {
   "cell_type": "markdown",
   "metadata": {},
   "source": [
    "### 4763 : 원숭이\n",
    "<문제>\n",
    "\n",
    "KOI 동물원에는 N마리의 원숭이가 있고, 이 원숭이들을 수용할 수 있는 두 개의 큰 우리가 있다. 모든 원숭이들은 1부터 N 까지의 번호가 매겨져 있다.\n",
    "\n",
    "원숭이들 사이에는 유달리 서로 앙숙관계인 원숭이들이 있어서 같은 우리에 두었을 경우 서로 싸우는 경우가 많다. 두 원숭이 x와 y가 앙숙관계라는 것은 두 원숭이 x, y가 서로 싫어하는 관계임을 의미한다. 또한, 각각의 한 원숭이에 대해 앙숙관계에 있는 원숭이들의 수는 기껏해야 세 마리라고 가정한다. 동물원에서는 원숭이들의 앙숙관계를 조사하여 아래의 두 조건을 만족하도록 원숭이들을 두 개의 우리에 나누어 수용하려고 한다.\n",
    "\n",
    "(조건 1) 각 원숭이에 대해 같은 우리 안에 있으며 앙숙관계인 원숭이는 한 마리 이하이다.\n",
    "(조건 2) 비어있는 우리는 없다. (즉, 하나의 우리에 원숭이를 모두 수용 가능한 경우가 있더라도 각각의 우리에는 적어도 한 마리 이상의 원숭이를 수용하여야 한다.)\n",
    "예를 들어, N = 5 인 경우에 1번 원숭이는 {2, 3, 4}와 2는 {1, 3, 5}와 앙숙관계이고, 그리고 3은 {1, 2, 4}와 4는 {1, 3, 5}, 그리고 5는 {2, 4}와 앙숙관계라고 하자. 위의 조건을 만족하도록 원숭이들을 두 개의 우리로 나누려면 {1, 3, 5}를 하나의 우리에, 그리고 {2, 4}를 다른 우리에 수용하면 된다.\n",
    "\n",
    "원숭이들의 수와 각 원숭이들의 앙숙관계가 입력으로 주어질 때, 위의 조건을 만족하도록 원숭이들을 두 개의 우리에 나누어 수용하는 프로그램을 작성하시오.\n",
    "\n",
    "<입력>\n",
    "\n",
    "첫째 줄에는 원숭이들의 수를 나타내는 하나의 정수 N 이 주어진다. 단, N 은 3이상 100,000이하의 정수이다.\n",
    "\n",
    "둘째 줄부터 N 개의 줄에는 1번부터 번호순서대로 각 원숭이에 대해 앙숙관계에 있는 원숭이의 수 M 이 주어지고, 이어서 각 원숭이 번호 M 개가 오름차순으로 하나의 줄에 주어진다. 모든 정수들 사이에는 빈칸이 있다. 조건에 맞도록 원숭이들을 나누지 못하는 경우는 존재하지 않는다."
   ]
  },
  {
   "cell_type": "code",
   "execution_count": null,
   "metadata": {},
   "outputs": [],
   "source": [
    "N = int(input())\n",
    "cage1= list(range(1,N+1))\n",
    "hate = [list(map(int, input().split())) for i in cage1]\n",
    "cage2 = []\n",
    "\n",
    "a = 2\n",
    "for i in hate[1:]:\n",
    "    count = 0\n",
    "    if i[0]>0:\n",
    "        for j in i[1:]:\n",
    "            if j in cage1:\n",
    "                count +=1\n",
    "        if count >=2:\n",
    "            cage2.append(a)\n",
    "            cage1 = list(set(cage1)-set(cage2))\n",
    "    a +=1\n",
    "for i in cage2:\n",
    "    count = 0\n",
    "    check = cage2.copy()\n",
    "    del check[check.index(i)]\n",
    "    for j in check:\n",
    "        if j in hate[i-1][1:]:\n",
    "            count += 1\n",
    "    if count >= 2:\n",
    "        cage1.append(i)\n",
    "        cage2 = list(set(cage2)-set(cage1))\n",
    "        \n",
    "for i in sorted(cage1):\n",
    "    print(i,end=\" \")\n",
    "print(\"\\n\")\n",
    "for i in cage2:\n",
    "    print(i, end=\" \")"
   ]
  },
  {
   "cell_type": "markdown",
   "metadata": {},
   "source": [
    "### 4787 : 택배\n",
    "<문제>\n",
    "\n",
    "문제2) 택배 (초등2)\n",
    "\n",
    "아래 그림과 같이 직선 도로상에 왼쪽부터 오른쪽 으로 1번부터 차례대로 번호가 붙여진 마을들이 있다. 마을에 있는 물건을 배송하기 위한 트럭 한 대가 있고, 트럭이 있는 본부는 1번 마을 왼쪽에 있다. 이 트럭은 본부에서 출발하여 1번 마을부터 마지막 마을까지 오른쪽으로 가면서 마을에 있는 물건을 배송한다.\n",
    "\n",
    "\n",
    "\n",
    "각 마을은 배송할 물건들을 박스에 넣어 보내며, 본부에서는 박스를 보내는 마을번호, 박스를 받는 마을번호와 보낼 박스의 개수를 알고 있다. 박스 들은 모두 크기가 같다. 트럭에 최대로 실을 수 있는 박스의 개수, 즉 트럭의 용량이 있다. 이 트 럭 한대를 이용하여 다음의 조건을 모두 만족하면 서 최대한 많은 박스들을 배송하려고 한다.\n",
    "\n",
    "    조건 1: 박스를 트럭에 실으면, 이 박스는 받는 마을에서만 내린다.\n",
    "    조건 2: 트럭은 지나온 마을로 되돌아가지 않는 다.\n",
    "    조건 3: 박스들 중 일부만 배송할 수도 있다.\n",
    "마을의 개수, 트럭의 용량, 박스 정보(보내는 마을 번호, 받는 마을번호, 박스 개수)가 주어질 때, 트럭 한 대로 배송할 수 있는 최대 박스 수를 구하 는 프로그램을 작성하시오. 단, 받는 마을번호는 보내는 마을번호보다 항상 크다.\n",
    "\n",
    "예를 들어, 트럭 용량이 40이고 보내는 박스들이 다음 표와 같다고 하자.\n",
    "\n",
    "보내는 마을\t받는 마을\t박스 개수\n",
    "1\t2\t10\n",
    "1\t3\t20\n",
    "1\t4\t30\n",
    "2\t3\t10\n",
    "2\t4\t20\n",
    "3\t4\t20\n",
    "이들 박스에 대하여 다음과 같이 배송하는 방법을 고려해 보자.\n",
    "\n",
    "(1) 1번 마을에 도착하면\n",
    "\n",
    "다음과 같이 박스들을 트럭에 싣는다. (1번 마을에서 4번 마을로 보내는 박스는 30개 중 10개를 싣는다)\n",
    "\n",
    "보내는 마을\t받는 마을\t싣는 박스 수\n",
    "1\t2\t10\n",
    "1\t3\t20\n",
    "1\t4\t10\n",
    "(2) 2번 마을에 도착하면\n",
    "\n",
    "트럭에 실려진 박스들 중 받는 마을번호가 2인 박스 10개를 내려 배송한다. (이때 트 럭에 남아있는 박스는 30개가 된다.)\n",
    "그리고 다음과 같이 박스들을 싣는다. (이때 트럭에 실려 있는 박스는 40개가 된다.)\n",
    "\n",
    "보내는 마을\t받는 마을\t싣는 박스 수\n",
    "2\t3\t10\n",
    "(3) 3번 마을에 도착하면\n",
    "\n",
    "트럭에 실려진 박스들 중 받는 마을번호가 3인 박스 30개를 내려 배송한다. (이때 트 럭에 남아있는 박스는 10개가 된다.)\n",
    "그리고 다음과 같이 박스들을 싣는다. (이때 트럭에 실려 있는 박스는 30개가 된다.)\n",
    "\n",
    "보내는 마을\t받는 마을\t싣는 박스 수\n",
    "3\t4\t20\n",
    "(4) 4번 마을에 도착하면\n",
    "\n",
    "받는 마을번호가 4인 박스 30개를 내려 배 송한다.\n",
    "\n",
    "위와 같이 배송하면 배송한 전체 박스는 70개이 다. 이는 배송할 수 있는 최대 박스 개수이다.\n",
    "\n",
    "<입력>\n",
    "\n",
    "첫 줄은 마을 수 N 과 트럭의 용량 C 가 빈칸을 사이에 두고 주어진다. N 은 2이상 2,000이하 정수이고, C 는 1이상 10,000이하 정수이다.\n",
    "\n",
    "다음 줄에, 보내는 박스 정보의 개수 M 이 주어진다. M 은 1 이상 10,000이하 정수이다.\n",
    "\n",
    "다음 M 개의 각 줄에 박스를 보내는 마을번호, 박스를 받는 마을번호, 보내는 박스 개수(1이상 10,000이하 정수)를 나 타내는 양의 정수가 빈칸을 사이에 두고 주어진다. 박스를 받는 마을번호는 보내는 마을번호보다 크다."
   ]
  },
  {
   "cell_type": "code",
   "execution_count": null,
   "metadata": {},
   "outputs": [],
   "source": [
    "# 틀린 풀이 -> sorting을 잘못함(도착지 빠른 기준으로 정렬)\n",
    "N, C = map(int, input().split())\n",
    "M = int(input())\n",
    "info = sorted([list(map(int, input().split())) for i in range(M)])\n",
    "bus = []\n",
    "total = 0\n",
    "for k in range(N):\n",
    "    for i in info:\n",
    "        if k+1<N :\n",
    "            if i[0]==k+1:\n",
    "                if C>0:\n",
    "                    if i[2] > C:\n",
    "                        i[2] = C\n",
    "                    bus.append(i)\n",
    "                    C -= i[2]\n",
    "        if i[1]== k+1:\n",
    "            C += i[2]\n",
    "for i in bus:\n",
    "    total += i[2]\n",
    "print(total)    "
   ]
  },
  {
   "cell_type": "code",
   "execution_count": null,
   "metadata": {},
   "outputs": [],
   "source": [
    "# 정답\n",
    "N, C =map(int, input().split())\n",
    "M = int(input())\n",
    "deliver = [list(map(int, input().split())) for _ in range(M)]\n",
    "deliver.sort(key=lambda x: (x[1], x[0]))\n",
    "village = [C] * (N + 1)\n",
    "total = 0\n",
    "for i in range(len(deliver)):\n",
    "    start, end = deliver[i][0], deliver[i][1]\n",
    "    box = deliver[i][2]\n",
    "    max_capacity = min(village[start:end])\n",
    "    \n",
    "    if max_capacity == 0:\n",
    "        continue\n",
    "    if box <= max_capacity:\n",
    "        for k in range(start, end):\n",
    "            village[k] -= box\n",
    "        total += box\n",
    "    else:\n",
    "        for k in range(start, end):\n",
    "            village[k] -= max_capacity\n",
    "        total += max_capacity\n",
    "    \n",
    "print(total)\n",
    "print(village)"
   ]
  },
  {
   "cell_type": "markdown",
   "metadata": {},
   "source": [
    "### 4713 : 공주님의 정원\n",
    "<문제>\n",
    "\n",
    "오늘은 공주님이 태어난 경사스러운 날이다. 왕은 이 날을 기념하기 위해 늘 꽃이 피어있는 작은 정원을 만들기로 결정했다.\n",
    "\n",
    "  총  N개의 꽃이 있는 데, 꽃은 모두 같은 해에 피어서 같은 해에 진다. 하나의 꽃은 피는 날과 지는 날이 정해져 있다. 예를 들어, 5월 8일 피어서 6월 13일 지는 꽃은 5월 8일부터 6월 12일까지는 꽃이 피어 있고, 6월 13일을 포함하여 이후로는 꽃을 볼 수 없다는 의미이다. (올해는 4,6,9,11월은 30일까지 있고, 1,3,5,7,8,10,12월은 31일까지 있으며, 2월은 28일까지만 있다.)\n",
    "\n",
    "  이러한 N개의 꽃들 중에서 다음의 두 조건을 만족하는 꽃들을 선택하고 싶다.\n",
    "\n",
    "1. 공주가 가장 좋아하는 계절인 3월 1일부터 11월 30일까지 매일 꽃이 한 가지 이상 피어 있도록 한다.\n",
    "\n",
    "2. 정원이 넓지 않으므로 정원에 심는 꽃들의 수를 가능한 적게 한다.\n",
    "\n",
    " N개의 꽃들 중에서 위의 두 조건을 만족하는, 즉 3월 1일부터 11월 30일까지 매일 꽃이 한 가지 이상 피어 있도록 꽃들을 선택할 때, 선택한 꽃들의 최소 개수를 출력하는 프로그램을 작성하시오.\n",
    "\n",
    "<입력>\n",
    "\n",
    " 첫째 줄에는 꽃들의 총 개수 N (1<=N<=100,000)이 주어진다.\n",
    "\n",
    "다음 N개의 줄에는 각 꽃이 피는 날짜와 지는 날짜가 주어진다. 하나의 날짜는 월과 일을 나타내는 두 숫자로 표현된다. 예를 들어서, 3 8 7 31은 꽃이 3월 8일에 피어서 7월 31일에 진다는 것을 나타낸다.\n",
    "\n",
    "<출력>\n",
    "\n",
    " 첫째 줄에 선택한 꽃들의 최소 개수를 출력한다. 만약 두 조건을 만족하는 꽃들을 선택할 수 없다면 0을 출력한다."
   ]
  },
  {
   "cell_type": "code",
   "execution_count": 15,
   "metadata": {},
   "outputs": [
    {
     "name": "stdout",
     "output_type": "stream",
     "text": [
      "3\n",
      "3 1 5 5\n",
      "5 5 10 8\n",
      "10 7 11 30\n",
      "0\n"
     ]
    }
   ],
   "source": [
    "N = int(input())\n",
    "flower = []\n",
    "for i in range(N):\n",
    "    a =list(map(int, input().split()))\n",
    "    start = a[0]*100 + a[1]\n",
    "    end = a[2]*100 + a[3]\n",
    "    flower.append([start,end])\n",
    "flower.sort()\n",
    "count=0\n",
    "memo=0\n",
    "start=301\n",
    "maxdate=0\n",
    "for i in flower:\n",
    "    if start > 1130:\n",
    "        break\n",
    "    \n",
    "    if i[0]<=start and i[1]>start:\n",
    "\n",
    "        # 카운트가 안되어있다면\n",
    "        if memo!=start:\n",
    "            memo=start\n",
    "            count+=1\n",
    "\n",
    "        if maxdate<i[1]:\n",
    "            maxdate=i[1]\n",
    "\n",
    "    # 꽃을 피울 수 없다\n",
    "    else:\n",
    "        if memo==start:\n",
    "            if i[0]<=maxdate and i[1]>maxdate:\n",
    "                start=maxdate\n",
    "                memo=start\n",
    "                maxdate=i[1]\n",
    "                count+=1\n",
    "\n",
    "        else:\n",
    "            if start<i[0]:\n",
    "                count=0\n",
    "                break\n",
    "if maxdate <= 1130:\n",
    "    count=0\n",
    "print(count)"
   ]
  },
  {
   "cell_type": "markdown",
   "metadata": {},
   "source": [
    "### 4040 : 펜션\n",
    "<문제>\n",
    "\n",
    "부산과 거제도를 잇는 거가대교가 개통된 이래로 거제도에는 많은 피서객들이 방문한다. 거제도 펜션 예약 담당자의 업무는 고객이 요구하는 일정에 맞추어 방을 예약해 주는 것이다. 여름 성수기 동안은 고객이 요청한 일정 내내 같은 방을 예약해 줄 수 없는 경우가 많다. 그런 경우 여러 방을 옮겨 지낼 수 있는 방법을 찾아서 고객에게 제시해 주는데, 가능한 방을 옮기는 횟수가 최소가 되도록 해 주어야 한다. 고객은 항상 정오 이후에 펜션에 도착하여 정오 이전에 떠나야 한다.\n",
    "\n",
    " \n",
    "\n",
    "현재 펜션의 예약 상태와 고객의 일정이 주어질 때, 펜션 직원의 업무를 도와줄 수 있는 프로그램을 작성하시오.\n",
    "\n",
    "<입력>\n",
    "\n",
    "1. 첫째 줄에 두 개의 정수 n과 m이 주어진다. n은 펜션에서 관리하는 여름 성수기 총 기간을 나타내고, m은 펜션이 보유하고 있는 방의 개수이다(1≤n≤100, 3≤m≤30). 편의상 성수기 기간을 1일부터 n일까지로 표시하고, 펜션의 방을 1부터 m까지의 번호로 구분한다.\n",
    "\n",
    "2. 그 다음 n개의 줄에는 각 줄마다 길이가 m인 문자열이 주어진다. 입력에서 i+1 번째 줄의 j-번째 문자는 여름 성수기 기간 중 i-번째 날에 방 번호가 j인 방의 예약 상태를 나타낸다(1≤i≤n, 1≤j≤m). 이 문자는 방이 이미 예약된 경우에는 'X', 그렇지 않으면 'O'이다. k-번째 날을 예약하면 그 다음 날 정오까지 방을 사용할 수 있다는 것을 의미한다.\n",
    "\n",
    "3. 마지막 줄에는 고객의 일정을 나타내는 두 개의 정수 s, t가 주어진다, s는 펜션에 도착하는 날이고 t는 펜션을 떠나는 날이다(1≤s<t≤n+1).\n",
    "\n",
    "<출력>\n",
    "\n",
    "1. 첫째 줄에 예약 기간 동안 방을 옮기는 최소 횟수를 출력한다.\n",
    "\n",
    "2. 만일, 방을 옮기지 않아도 되는 경우는 0, 예약이 불가능한 경우는 -1을 출력한다.\n",
    "\n",
    "3. 고객이 1번 방, 2번 방, 1번 방을 차례로 이용하게 된다면 방을 두 번 옮긴 것으로 본다."
   ]
  },
  {
   "cell_type": "code",
   "execution_count": 1,
   "metadata": {},
   "outputs": [
    {
     "name": "stdout",
     "output_type": "stream",
     "text": [
      "10 7\n",
      "XXXXXXX\n",
      "XOXXXXO\n",
      "XOXXXXO\n",
      "XOXXXOX\n",
      "OXXOXOX\n",
      "XOXOXOX\n",
      "OXXOXOX\n",
      "OXXXXOX\n",
      "XXXXXXX\n",
      "XXXXXXX\n",
      "2 9\n"
     ]
    }
   ],
   "source": [
    "import pandas as pd\n",
    "n, m = map(int, input().split())\n",
    "room = [list(input().split()) for i in range(n)]\n",
    "s, t = map(int, input().split())"
   ]
  },
  {
   "cell_type": "code",
   "execution_count": 2,
   "metadata": {},
   "outputs": [
    {
     "name": "stdout",
     "output_type": "stream",
     "text": [
      "10 7\n",
      "[['XXXXXXX'], ['XOXXXXO'], ['XOXXXXO'], ['XOXXXOX'], ['OXXOXOX'], ['XOXOXOX'], ['OXXOXOX'], ['OXXXXOX'], ['XXXXXXX'], ['XXXXXXX']]\n",
      "2 9\n"
     ]
    }
   ],
   "source": [
    "print(n, m)\n",
    "print(room)\n",
    "print(s,t)"
   ]
  },
  {
   "cell_type": "code",
   "execution_count": 3,
   "metadata": {},
   "outputs": [],
   "source": [
    "room = [['XXXXXXX'], ['XOXXXXO'], ['XOXXXXO'], ['XOXXXOX'], ['OXXOXOX'], ['XOXOXOX'], ['OXXOXOX'], ['OXXXXOX'], ['XXXXXXX'], ['XXXXXXX']]"
   ]
  },
  {
   "cell_type": "code",
   "execution_count": 100,
   "metadata": {},
   "outputs": [],
   "source": [
    "cus = room[s-1:t-1]\n",
    "df = pd.DataFrame(cus)\n",
    "df.columns=['original']"
   ]
  },
  {
   "cell_type": "code",
   "execution_count": 101,
   "metadata": {},
   "outputs": [],
   "source": [
    "a = [list(df['original'].apply(lambda x: x[i:i+1])) for i in range(m)]"
   ]
  },
  {
   "cell_type": "code",
   "execution_count": 102,
   "metadata": {},
   "outputs": [
    {
     "data": {
      "text/plain": [
       "[['X', 'X', 'X', 'O', 'X', 'O', 'O'],\n",
       " ['O', 'O', 'O', 'X', 'O', 'X', 'X'],\n",
       " ['X', 'X', 'X', 'X', 'X', 'X', 'X'],\n",
       " ['X', 'X', 'X', 'O', 'O', 'O', 'X'],\n",
       " ['X', 'X', 'X', 'X', 'X', 'X', 'X'],\n",
       " ['X', 'X', 'O', 'O', 'O', 'O', 'O'],\n",
       " ['O', 'O', 'X', 'X', 'X', 'X', 'X']]"
      ]
     },
     "execution_count": 102,
     "metadata": {},
     "output_type": "execute_result"
    }
   ],
   "source": [
    "a"
   ]
  },
  {
   "cell_type": "code",
   "execution_count": 103,
   "metadata": {},
   "outputs": [
    {
     "data": {
      "text/plain": [
       "[[0, 2], [0, 0], [0, 0], [0, 1], [2, 6], [3, 5], [5, 6]]"
      ]
     },
     "execution_count": 103,
     "metadata": {},
     "output_type": "execute_result"
    }
   ],
   "source": [
    "room_av = []\n",
    "for i in a :\n",
    "    count = 0\n",
    "    av = []\n",
    "    if i.count(\"X\") == t-s:\n",
    "        pass\n",
    "    else:\n",
    "        for j in range(m):\n",
    "            if j == 0 and i[j] == \"O\" and i[j] == i[j+1]:\n",
    "                count += 1\n",
    "                av.append(j)\n",
    "                \n",
    "            elif 0< j < m-1:\n",
    "                if (i[j] == \"O\" and i[j] == i[j+1]) or (i[j]== \"O\" and i[j-1]==i[j]):\n",
    "                    count += 1 \n",
    "                    av.append(j)\n",
    "            else:\n",
    "                if i[j]== \"O\" and i[j-1]==i[j]:\n",
    "                    count += 1\n",
    "                    av.append(j)\n",
    "    if av == []:\n",
    "        room_av.append([-1,-1])\n",
    "    else:\n",
    "        room_av.append([min(av), max(av)])\n",
    "room_av.sort(key=lambda x: x[0])\n",
    "room_av"
   ]
  },
  {
   "cell_type": "code",
   "execution_count": 82,
   "metadata": {},
   "outputs": [
    {
     "data": {
      "text/plain": [
       "[[0, 0], [0, 0], [0, 1], [0, 2], [2, 6], [3, 5], [5, 6]]"
      ]
     },
     "execution_count": 82,
     "metadata": {},
     "output_type": "execute_result"
    }
   ],
   "source": [
    "count = 0\n",
    "memo = 0\n",
    "start = 0\n",
    "maxdate = 0\n",
    "imp = []\n",
    "for i in room_av:\n",
    "    if maxdate == 6:\n",
    "        break\n",
    "    else:\n",
    "        if i[0]<0 :\n",
    "            # 예약 불가능 방\n",
    "        else:\n",
    "            if i[0]<=start & i[1]\n",
    "\n",
    "if count == 0:\n",
    "    print(\"0\")\n",
    "elif sum(imp) == m:\n",
    "    print(\"-\")\n"
   ]
  },
  {
   "cell_type": "code",
   "execution_count": 78,
   "metadata": {},
   "outputs": [
    {
     "data": {
      "text/plain": [
       "[['XOXXXXO'],\n",
       " ['XOXXXXO'],\n",
       " ['XOXXXOX'],\n",
       " ['OXXOXOX'],\n",
       " ['XOXOXOX'],\n",
       " ['OXXOXOX'],\n",
       " ['OXXXXOX']]"
      ]
     },
     "execution_count": 78,
     "metadata": {},
     "output_type": "execute_result"
    }
   ],
   "source": []
  },
  {
   "cell_type": "code",
   "execution_count": null,
   "metadata": {},
   "outputs": [],
   "source": []
  }
 ],
 "metadata": {
  "kernelspec": {
   "display_name": "Python 3",
   "language": "python",
   "name": "python3"
  },
  "language_info": {
   "codemirror_mode": {
    "name": "ipython",
    "version": 3
   },
   "file_extension": ".py",
   "mimetype": "text/x-python",
   "name": "python",
   "nbconvert_exporter": "python",
   "pygments_lexer": "ipython3",
   "version": "3.7.4"
  }
 },
 "nbformat": 4,
 "nbformat_minor": 2
}
