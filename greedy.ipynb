{
 "cells": [
  {
   "cell_type": "markdown",
   "metadata": {},
   "source": [
    "### 1. 거스름돈\n",
    "어떤 가게의 욕심쟁이 점원은 거스름돈을 나눠줄때 거스름돈의 개수를 적게해서 주고자 한다.\n",
    "\n",
    "거스름돈을 입력 받아 점원이 줄 수 있는 최소 거스름돈의 개수를 출력하시오.\n",
    "\n",
    "예를 들어 54520원인 경우,\n",
    "\n",
    "거스름돈으로 50000원권 1장, 1000원권 4장, 500원 1개, 10원 2개 해서 총 8개이다.\n",
    "\n",
    "(※ 현재 우리나라가 사용하고 있는 화폐를 사용한다. 10원 50원 100원 500원 1,000원 5,000원 10,000원 50,000원)"
   ]
  },
  {
   "cell_type": "code",
   "execution_count": 1,
   "metadata": {},
   "outputs": [
    {
     "name": "stdout",
     "output_type": "stream",
     "text": [
      "54520\n",
      "8\n"
     ]
    }
   ],
   "source": [
    "n = int(input())\n",
    "count = 0\n",
    "unit = [50000,10000,5000,1000,500,100,50,10]\n",
    "for i in unit:\n",
    "    if n >= i:\n",
    "        count += n//i\n",
    "        n %= i\n",
    "print(count)"
   ]
  },
  {
   "cell_type": "markdown",
   "metadata": {},
   "source": [
    "### 2. 최소대금\n",
    "<문제>\n",
    "\n",
    "파파 파스타 가게는 점심 추천 파스타와 생과일 쥬스 세트 메뉴가 인기가 좋다.\n",
    "\n",
    "이 세트 메뉴를 주문하면 그 날의 3 종류의 파스타와 2 종류의 생과일 쥬스에서 하나씩 선택한다.\n",
    "\n",
    "파스타와 생과일 쥬스의 가격 합계에서 10%를 더한 금액이 대금된다.\n",
    "\n",
    "어느 날의 파스타와 생과일 쥬스의 가격이 주어 졌을 때, 그 날 세트 메뉴의 대금의 최소값을 구하는 프로그램을 작성하라.\n",
    "\n",
    "<입력>\n",
    "\n",
    "입력은 5 행으로 이루어지며, 한 줄에 하나씩 양의 정수가 적혀있다.\n",
    "\n",
    "1행의 정수는 첫 번째 파스타 가격이다.\n",
    "\n",
    "2행의 정수는 두 번째 파스타 가격이다.\n",
    "\n",
    "3행의 정수는 세 번째 파스타 가격이다.\n",
    "\n",
    "4행의 정수는 첫 번째 생과일 쥬스 가격이다.\n",
    "\n",
    "5행의 정수는 두 번째 생과일 쥬스의 가격이다.\n",
    "\n",
    "(모든 파스타와 생과일 쥬스의 가격은 100 원이상 2000원 이하이다.)"
   ]
  },
  {
   "cell_type": "code",
   "execution_count": 2,
   "metadata": {},
   "outputs": [
    {
     "name": "stdout",
     "output_type": "stream",
     "text": [
      "800\n",
      "700\n",
      "900\n",
      "198\n",
      "330\n",
      "987.8\n"
     ]
    }
   ],
   "source": [
    "p1 = int(input())\n",
    "p2 = int(input())\n",
    "p3 = int(input())\n",
    "j1 = int(input())\n",
    "j2 = int(input())\n",
    "print(round((min(p1,p2,p3)+min(j1,j2))*1.1,1))"
   ]
  },
  {
   "cell_type": "markdown",
   "metadata": {},
   "source": [
    "### 3321 : 최고의 피자\n",
    "<문제>\n",
    "\n",
    "vega 선생님은 Miss 피자 가게의 단골 손님이다.\n",
    "\n",
    "그는 이번 달부터 절약 생활을 시작했다.\n",
    "\n",
    "그래서 그는 피자 가게에서 주문할 수 있는 피자 중 1 달러 당 열량이 최대가 되는 피자를 주문하고 싶어한다.\n",
    "\n",
    "이러한 피자를 \"최고의 피자\"라고 부르기로 하자.\n",
    "\n",
    "\"최고의 피자\"는 1종류가 아니다.\n",
    "\n",
    "Miss 피자는 N 종류의 토핑에서 여러 종류를 자유롭게 선택하여, 도우 위에 올려 주문할 수있다.\n",
    "\n",
    "같은 토핑을 2 개 이상 올릴 수 없다.\n",
    "\n",
    "도우에 토핑을 하나도 하지 않은  피자도 주문할 수있다.\n",
    "\n",
    "도우의 가격은 A 달러이며, 토핑의 가격은 모두 B 달러이다.\n",
    "\n",
    "실제 피자 가격은 도우의 가격과 토핑 가격의 합계이다.\n",
    "\n",
    "즉, 토핑을 k 종류 (0 ≦ k ≦ N) 한 피자의 가격은 A + k × B 원이다.\n",
    "\n",
    "피자 전체의 칼로리는 도우 열량과 토핑 칼로리의 합계이다.\n",
    "\n",
    "도우의 가격과 토핑의 가격, 그리고 도우와 각 토핑 열량 값이 주어 졌을 때, \"최고의 피자\"의 1 달러 당 열량의 수를 구하는 프로그램을 작성하시오.\n",
    "\n",
    "<입력>\n",
    "\n",
    "첫 번째 줄에는 토핑 종류 수를 나타내는 하나의 정수 N (1 ≦ N ≦ 100)이 입력된다.\n",
    "\n",
    "두 번째 줄에는 두 개의 정수 A, B (1 ≦ A ≦ 1000,1 ≦ B ≦ 1000)가 공백을 구분으로 입력된다. A는 도우의 가격, B는 토핑의 가격을 나타낸다.\n",
    "\n",
    "세 번째 줄에는 도우의 칼로리를 나타내는 정수 C (1 ≦ C ≦ 10000)가 입력된다.\n",
    "\n",
    "3 + i 행 (1 ≦ i ≦ N)는 i 번째의 토핑 칼로리 수를 나타내는 정수 Di (1 ≦ Di ≦ 10,000)가 입력된다."
   ]
  },
  {
   "cell_type": "code",
   "execution_count": 30,
   "metadata": {},
   "outputs": [
    {
     "name": "stdout",
     "output_type": "stream",
     "text": [
      "3\n",
      "12 2\n",
      "200\n",
      "50\n",
      "300\n",
      "100\n",
      "37\n"
     ]
    }
   ],
   "source": [
    "N = int(input())\n",
    "A, B = map(int, input().split())\n",
    "C = int(input())\n",
    "D = sorted([int(input()) for i in range(N)],reverse=True)\n",
    "total = 0\n",
    "tcal_sum = []  \n",
    "for i in D:\n",
    "    total += i\n",
    "    tcal_sum.append(total)\n",
    "best = [((C + i)//(A + (tcal_sum.index(i)+1)*B))for i in tcal_sum]\n",
    "print(max(best))"
   ]
  },
  {
   "cell_type": "markdown",
   "metadata": {},
   "source": [
    "### 3120 : 리모컨\n",
    "<문제>\n",
    "\n",
    "컴퓨터실에서 수업 중인 정보 선생님은 냉난방기의 온도를 조절하려고 한다.\n",
    "\n",
    "냉난방기가 멀리 있어서 리모컨으로 조작하려고 하는데, 리모컨의 온도 조절 버튼은 다음과 같다.\n",
    "\n",
    "1) 온도를 1도 올리는 버튼\n",
    "\n",
    "2) 온도를 1도 내리는 버튼\n",
    "\n",
    "3) 온도를 5도 올리는 버튼\n",
    "\n",
    "4) 온도를 5도 내리는 버튼\n",
    "\n",
    "5) 온도를 10도 올리는 버튼\n",
    "\n",
    "6) 온도를 10도 내리는 버튼\n",
    "\n",
    "이와 같이 총 6개의 버튼으로 목표 온도를 조절해야 한다.\n",
    "\n",
    "현재 설정 온도와 변경하고자하는 목표 온도가 주어지면 이 버튼들을 이용하여 목표 온도로 변경하고자 한다.\n",
    "\n",
    "이 때 버튼 누름의 최소 횟수를 구하시오.\n",
    "\n",
    "예를 들어, 7도에서 34도로 변경하는 경우,\n",
    "\n",
    "7 -> 17 -> 27 -> 32 -> 33 -> 34\n",
    "\n",
    "이렇게 총 5번 누르면 된다.\n",
    "\n",
    "<입력>\n",
    "\n",
    "현재 온도a 와 목표 온도b가 입력된다. ( 0 <= a , b <= 40 )"
   ]
  },
  {
   "cell_type": "code",
   "execution_count": 65,
   "metadata": {},
   "outputs": [
    {
     "name": "stdout",
     "output_type": "stream",
     "text": [
      "23 31\n",
      "3\n"
     ]
    }
   ],
   "source": [
    "a, b = map(int, input().split())\n",
    "n= b - a\n",
    "count = 0\n",
    "button = [1, -1, 5, -5, 10, -10]\n",
    "if str(n)[-1] =='8':\n",
    "    n = abs(n)+4\n",
    "elif str(n)[-1] in [\"4\",\"9\"]:\n",
    "    n = abs(n)+2\n",
    "else:\n",
    "    n = abs(n)\n",
    "for i in sorted(button, reverse=True):\n",
    "    count += n//i\n",
    "    n %= i\n",
    "print(count)"
   ]
  },
  {
   "cell_type": "code",
   "execution_count": 64,
   "metadata": {},
   "outputs": [
    {
     "data": {
      "text/plain": [
       "-8"
      ]
     },
     "execution_count": 64,
     "metadata": {},
     "output_type": "execute_result"
    }
   ],
   "source": [
    "23 - 31"
   ]
  },
  {
   "cell_type": "code",
   "execution_count": 53,
   "metadata": {},
   "outputs": [
    {
     "data": {
      "text/plain": [
       "17"
      ]
     },
     "execution_count": 53,
     "metadata": {},
     "output_type": "execute_result"
    }
   ],
   "source": [
    "n = -17\n",
    "abs(n)"
   ]
  },
  {
   "cell_type": "code",
   "execution_count": null,
   "metadata": {},
   "outputs": [],
   "source": []
  }
 ],
 "metadata": {
  "kernelspec": {
   "display_name": "Python 3",
   "language": "python",
   "name": "python3"
  },
  "language_info": {
   "codemirror_mode": {
    "name": "ipython",
    "version": 3
   },
   "file_extension": ".py",
   "mimetype": "text/x-python",
   "name": "python",
   "nbconvert_exporter": "python",
   "pygments_lexer": "ipython3",
   "version": "3.7.4"
  }
 },
 "nbformat": 4,
 "nbformat_minor": 2
}
