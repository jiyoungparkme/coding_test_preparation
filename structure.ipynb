{
 "cells": [
  {
   "cell_type": "code",
   "execution_count": 1,
   "metadata": {},
   "outputs": [
    {
     "name": "stdout",
     "output_type": "stream",
     "text": [
      "\n"
     ]
    },
    {
     "ename": "ValueError",
     "evalue": "invalid literal for int() with base 10: ''",
     "output_type": "error",
     "traceback": [
      "\u001b[1;31m---------------------------------------------------------------------------\u001b[0m",
      "\u001b[1;31mValueError\u001b[0m                                Traceback (most recent call last)",
      "\u001b[1;32m<ipython-input-1-abb51bbeb181>\u001b[0m in \u001b[0;36m<module>\u001b[1;34m\u001b[0m\n\u001b[0;32m      1\u001b[0m \u001b[1;31m# 1805\u001b[0m\u001b[1;33m\u001b[0m\u001b[1;33m\u001b[0m\u001b[1;33m\u001b[0m\u001b[0m\n\u001b[1;32m----> 2\u001b[1;33m \u001b[0mn\u001b[0m \u001b[1;33m=\u001b[0m \u001b[0mint\u001b[0m\u001b[1;33m(\u001b[0m\u001b[0minput\u001b[0m\u001b[1;33m(\u001b[0m\u001b[1;33m)\u001b[0m\u001b[1;33m)\u001b[0m\u001b[1;33m\u001b[0m\u001b[1;33m\u001b[0m\u001b[0m\n\u001b[0m\u001b[0;32m      3\u001b[0m \u001b[0mm_list\u001b[0m \u001b[1;33m=\u001b[0m \u001b[1;33m[\u001b[0m\u001b[0mlist\u001b[0m\u001b[1;33m(\u001b[0m\u001b[0mmap\u001b[0m\u001b[1;33m(\u001b[0m\u001b[0mint\u001b[0m\u001b[1;33m,\u001b[0m \u001b[0minput\u001b[0m\u001b[1;33m(\u001b[0m\u001b[1;33m)\u001b[0m\u001b[1;33m.\u001b[0m\u001b[0msplit\u001b[0m\u001b[1;33m(\u001b[0m\u001b[1;33m)\u001b[0m\u001b[1;33m)\u001b[0m\u001b[1;33m)\u001b[0m \u001b[1;32mfor\u001b[0m \u001b[0mi\u001b[0m \u001b[1;32min\u001b[0m \u001b[0mrange\u001b[0m\u001b[1;33m(\u001b[0m\u001b[0mn\u001b[0m\u001b[1;33m)\u001b[0m\u001b[1;33m]\u001b[0m\u001b[1;33m\u001b[0m\u001b[1;33m\u001b[0m\u001b[0m\n\u001b[0;32m      4\u001b[0m \u001b[0mm_list\u001b[0m\u001b[1;33m.\u001b[0m\u001b[0msort\u001b[0m\u001b[1;33m(\u001b[0m\u001b[0mkey\u001b[0m\u001b[1;33m=\u001b[0m\u001b[1;32mlambda\u001b[0m \u001b[0mx\u001b[0m\u001b[1;33m:\u001b[0m \u001b[0mx\u001b[0m\u001b[1;33m[\u001b[0m\u001b[1;36m0\u001b[0m\u001b[1;33m]\u001b[0m\u001b[1;33m)\u001b[0m\u001b[1;33m\u001b[0m\u001b[1;33m\u001b[0m\u001b[0m\n\u001b[0;32m      5\u001b[0m \u001b[1;32mfor\u001b[0m \u001b[0mi\u001b[0m \u001b[1;32min\u001b[0m \u001b[0mm_list\u001b[0m\u001b[1;33m:\u001b[0m \u001b[0mprint\u001b[0m\u001b[1;33m(\u001b[0m\u001b[0mi\u001b[0m\u001b[1;33m[\u001b[0m\u001b[1;36m0\u001b[0m\u001b[1;33m]\u001b[0m\u001b[1;33m,\u001b[0m \u001b[0mi\u001b[0m\u001b[1;33m[\u001b[0m\u001b[1;36m1\u001b[0m\u001b[1;33m]\u001b[0m\u001b[1;33m)\u001b[0m\u001b[1;33m\u001b[0m\u001b[1;33m\u001b[0m\u001b[0m\n",
      "\u001b[1;31mValueError\u001b[0m: invalid literal for int() with base 10: ''"
     ]
    }
   ],
   "source": [
    "# 1805\n",
    "n = int(input())\n",
    "m_list = [list(map(int, input().split())) for i in range(n)]\n",
    "m_list.sort(key=lambda x: x[0])\n",
    "for i in m_list: print(i[0], i[1])"
   ]
  },
  {
   "cell_type": "code",
   "execution_count": null,
   "metadata": {},
   "outputs": [],
   "source": [
    "# 3004\n",
    "n = int(input())\n",
    "nums = list(map(int, input().split()))\n",
    "n_dict = dict()\n",
    "i = 0\n",
    "for j in sorted(nums):\n",
    "        n_dict[j]=i\n",
    "        i +=1\n",
    "for j in nums:\n",
    "    print(n_dict[j], end=\" \")"
   ]
  },
  {
   "cell_type": "code",
   "execution_count": null,
   "metadata": {},
   "outputs": [],
   "source": [
    "# 3015\n",
    "n, m = map(int, input().split())\n",
    "students = [[i, list(input().split())] for i in range(n)]\n",
    "students.sort(key=lambda x: int(x[1][1]), reverse=True)\n",
    "for i in range(m):\n",
    "    print(students[i][1][0])"
   ]
  },
  {
   "cell_type": "code",
   "execution_count": 4,
   "metadata": {},
   "outputs": [
    {
     "name": "stdout",
     "output_type": "stream",
     "text": [
      "5\n",
      "백 90 80 70\n",
      "한 85 75 75\n",
      "오 80 85 70\n",
      "금 95 95 95\n",
      "북 100 70 95\n",
      "북 5 1 "
     ]
    }
   ],
   "source": [
    "# 3016\n",
    "n = int(input())\n",
    "n_list = []\n",
    "for i in range(n):\n",
    "    score = input().split()\n",
    "    n_list.append((i,score[0],int(score[1]),int(score[2]),int(score[3])))\n",
    "n_list.sort(key=lambda x: [x[2]], reverse = True)\n",
    "print(n_list[0][1], end=\" \")\n",
    "a = n_list[0]\n",
    "n_list.sort(key=lambda x: [x[3]], reverse = True)\n",
    "print(n_list.index(a)+1, end=\" \")\n",
    "n_list.sort(key=lambda x: [x[4],x[0]], reverse = True)\n",
    "num=0\n",
    "idx_start = n_list.index(a)\n",
    "value = n_list[idx_start][4]\n",
    "for i in range(idx_start-1,0,-1):\n",
    "    if n_list[i][4] == value:\n",
    "        num +=1\n",
    "print(idx_start - num + 1, end=' ') # 위에 있는 동점자 수 빼주고 idx + 1 이 석차"
   ]
  },
  {
   "cell_type": "code",
   "execution_count": 83,
   "metadata": {},
   "outputs": [
    {
     "name": "stdout",
     "output_type": "stream",
     "text": [
      "10\n",
      "60 34 55 100 90 76 60 90 80 87\n",
      "60 7\n",
      "34 10\n",
      "55 9\n",
      "100 1\n",
      "90 2\n",
      "76 6\n",
      "60 7\n",
      "90 2\n",
      "80 5\n",
      "87 4\n"
     ]
    }
   ],
   "source": [
    "# 4012\n",
    "\n",
    "n = int(input())\n",
    "scores = list(map(int, input().split()))\n",
    "\n",
    "import pandas as pd\n",
    "a = pd.DataFrame(scores)\n",
    "a.columns = ['score']\n",
    "same = a['score'].value_counts().reset_index()\n",
    "same_dict = dict(zip(same['index'], same['score']))\n",
    "rank = 1\n",
    "scores_sort = sorted(list(set(scores)), reverse=True)\n",
    "rank_dict = dict()\n",
    "for i in scores_sort:\n",
    "    if same_dict[i] == 1:\n",
    "        rank_dict[i] = rank\n",
    "        rank += 1\n",
    "    else:\n",
    "        rank_dict[i] = rank\n",
    "        rank += same_dict[i]\n",
    "    \n",
    "for i in scores:\n",
    "    print(i, rank_dict[i])"
   ]
  },
  {
   "cell_type": "code",
   "execution_count": 19,
   "metadata": {},
   "outputs": [],
   "source": [
    "# 124 나라의 숫자\n",
    "def solution(n):\n",
    "    if n <=3:\n",
    "        return '124'[n-1]\n",
    "    else:\n",
    "        q, r = divmod(n-1,3)\n",
    "        return solution(q) + '124'[r]"
   ]
  },
  {
   "cell_type": "code",
   "execution_count": 24,
   "metadata": {},
   "outputs": [],
   "source": [
    "# 124 나라의 숫자 - 프로그래머스\n",
    "def solution(n):\n",
    "    result = []\n",
    "    i = 0\n",
    "    while n > 0:\n",
    "        d = 3 ** i\n",
    "        while (n-d)%3**(i+1) != 0:\n",
    "            d += 3 ** i\n",
    "        result.append(d // 3 ** i )\n",
    "        n -= d;\n",
    "        i +=1\n",
    "    return \"\".join(map(str,[4 if i ==3 else i for i in result[::-1]]))"
   ]
  },
  {
   "cell_type": "code",
   "execution_count": 20,
   "metadata": {},
   "outputs": [
    {
     "name": "stdout",
     "output_type": "stream",
     "text": [
      "9\n",
      "1 1 230\n",
      "1 2 210\n",
      "1 3 205\n",
      "2 1 100\n",
      "2 2 150\n",
      "3 1 175\n",
      "3 2 190\n",
      "3 3 180\n",
      "3 4 195\n",
      "1 1\n",
      "1 2\n",
      "3 4\n"
     ]
    }
   ],
   "source": [
    "# 4751\n",
    "n = int(input())\n",
    "scores = [list(map(int ,input().split())) for i in range(n)]\n",
    "scores.sort(key=lambda x: x[2], reverse=True)\n",
    "nation = list()\n",
    "medalist = list()\n",
    "for i in scores:\n",
    "    nation.append(i[0])\n",
    "    if nation.count(i[0]) <= 2:\n",
    "        medalist.append((i[0],i[1]))\n",
    "        if len(medalist) == 3:\n",
    "            break\n",
    "for i in medalist:\n",
    "    print(i[0], i[1])\n"
   ]
  },
  {
   "cell_type": "code",
   "execution_count": 33,
   "metadata": {},
   "outputs": [
    {
     "name": "stdout",
     "output_type": "stream",
     "text": [
      "10\n",
      "I 1011 한라산\n",
      "I 999 백두산\n",
      "I 999 오대산\n",
      "D 999 백두산\n",
      "I 800 백두산\n",
      "D 500 한라산\n",
      "I 900 남산\n",
      "I 950 금강산\n",
      "I 1205 지리산\n",
      "I 700 북한산\n",
      "1 2 4 5 6\n",
      "700 북한산\n",
      "800 백두산\n",
      "950 금강산\n",
      "1011 한라산\n",
      "1205 지리산\n"
     ]
    }
   ],
   "source": [
    "# 3108\n",
    "n = int(input())\n",
    "info = dict()\n",
    "for i in range(n+1):\n",
    "    if i != n:\n",
    "        code, num, name = input().split()\n",
    "        if code == 'I':\n",
    "            info[num] = name\n",
    "        else:\n",
    "            if num in info.keys():\n",
    "                del info[num]\n",
    "    else:\n",
    "        correct = list(map(int, input().split()))\n",
    "        correct_list = list()\n",
    "        for j in correct:\n",
    "            correct_list.append((list(info)[j-1], info[list(info)[j-1]]))\n",
    "        correct_list.sort(key = lambda x: int(x[0]))\n",
    "for i in correct_list:\n",
    "    print(i[0], i[1])"
   ]
  },
  {
   "cell_type": "code",
   "execution_count": 31,
   "metadata": {},
   "outputs": [
    {
     "name": "stdout",
     "output_type": "stream",
     "text": [
      "700 북한산\n",
      "800 백두산\n",
      "950 금강산\n",
      "1011 한라산\n",
      "1205 지리산\n"
     ]
    }
   ],
   "source": [
    "correct_list = list()\n",
    "for j in correct:\n",
    "    correct_list.append((list(info)[j-1], info[list(info)[j-1]]))\n",
    "correct_list.sort(key = lambda x: int(x[0]))\n",
    "for i in correct_list:\n",
    "    print(i[0], i[1])"
   ]
  },
  {
   "cell_type": "code",
   "execution_count": 25,
   "metadata": {},
   "outputs": [
    {
     "data": {
      "text/plain": [
       "{'1011': '한라산',\n",
       " '800': '백두산',\n",
       " '900': '남산',\n",
       " '950': '금강산',\n",
       " '1205': '지리산',\n",
       " '700': '북한산'}"
      ]
     },
     "execution_count": 25,
     "metadata": {},
     "output_type": "execute_result"
    }
   ],
   "source": [
    "info"
   ]
  },
  {
   "cell_type": "code",
   "execution_count": 27,
   "metadata": {},
   "outputs": [
    {
     "data": {
      "text/plain": [
       "'1011'"
      ]
     },
     "execution_count": 27,
     "metadata": {},
     "output_type": "execute_result"
    }
   ],
   "source": [
    "list(info)[0]"
   ]
  },
  {
   "cell_type": "code",
   "execution_count": null,
   "metadata": {},
   "outputs": [],
   "source": []
  }
 ],
 "metadata": {
  "kernelspec": {
   "display_name": "Python 3",
   "language": "python",
   "name": "python3"
  },
  "language_info": {
   "codemirror_mode": {
    "name": "ipython",
    "version": 3
   },
   "file_extension": ".py",
   "mimetype": "text/x-python",
   "name": "python",
   "nbconvert_exporter": "python",
   "pygments_lexer": "ipython3",
   "version": "3.7.4"
  }
 },
 "nbformat": 4,
 "nbformat_minor": 2
}
