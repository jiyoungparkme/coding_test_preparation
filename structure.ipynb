{
 "cells": [
  {
   "cell_type": "code",
   "execution_count": 1,
   "metadata": {},
   "outputs": [
    {
     "name": "stdout",
     "output_type": "stream",
     "text": [
      "\n"
     ]
    },
    {
     "ename": "ValueError",
     "evalue": "invalid literal for int() with base 10: ''",
     "output_type": "error",
     "traceback": [
      "\u001b[1;31m---------------------------------------------------------------------------\u001b[0m",
      "\u001b[1;31mValueError\u001b[0m                                Traceback (most recent call last)",
      "\u001b[1;32m<ipython-input-1-abb51bbeb181>\u001b[0m in \u001b[0;36m<module>\u001b[1;34m\u001b[0m\n\u001b[0;32m      1\u001b[0m \u001b[1;31m# 1805\u001b[0m\u001b[1;33m\u001b[0m\u001b[1;33m\u001b[0m\u001b[1;33m\u001b[0m\u001b[0m\n\u001b[1;32m----> 2\u001b[1;33m \u001b[0mn\u001b[0m \u001b[1;33m=\u001b[0m \u001b[0mint\u001b[0m\u001b[1;33m(\u001b[0m\u001b[0minput\u001b[0m\u001b[1;33m(\u001b[0m\u001b[1;33m)\u001b[0m\u001b[1;33m)\u001b[0m\u001b[1;33m\u001b[0m\u001b[1;33m\u001b[0m\u001b[0m\n\u001b[0m\u001b[0;32m      3\u001b[0m \u001b[0mm_list\u001b[0m \u001b[1;33m=\u001b[0m \u001b[1;33m[\u001b[0m\u001b[0mlist\u001b[0m\u001b[1;33m(\u001b[0m\u001b[0mmap\u001b[0m\u001b[1;33m(\u001b[0m\u001b[0mint\u001b[0m\u001b[1;33m,\u001b[0m \u001b[0minput\u001b[0m\u001b[1;33m(\u001b[0m\u001b[1;33m)\u001b[0m\u001b[1;33m.\u001b[0m\u001b[0msplit\u001b[0m\u001b[1;33m(\u001b[0m\u001b[1;33m)\u001b[0m\u001b[1;33m)\u001b[0m\u001b[1;33m)\u001b[0m \u001b[1;32mfor\u001b[0m \u001b[0mi\u001b[0m \u001b[1;32min\u001b[0m \u001b[0mrange\u001b[0m\u001b[1;33m(\u001b[0m\u001b[0mn\u001b[0m\u001b[1;33m)\u001b[0m\u001b[1;33m]\u001b[0m\u001b[1;33m\u001b[0m\u001b[1;33m\u001b[0m\u001b[0m\n\u001b[0;32m      4\u001b[0m \u001b[0mm_list\u001b[0m\u001b[1;33m.\u001b[0m\u001b[0msort\u001b[0m\u001b[1;33m(\u001b[0m\u001b[0mkey\u001b[0m\u001b[1;33m=\u001b[0m\u001b[1;32mlambda\u001b[0m \u001b[0mx\u001b[0m\u001b[1;33m:\u001b[0m \u001b[0mx\u001b[0m\u001b[1;33m[\u001b[0m\u001b[1;36m0\u001b[0m\u001b[1;33m]\u001b[0m\u001b[1;33m)\u001b[0m\u001b[1;33m\u001b[0m\u001b[1;33m\u001b[0m\u001b[0m\n\u001b[0;32m      5\u001b[0m \u001b[1;32mfor\u001b[0m \u001b[0mi\u001b[0m \u001b[1;32min\u001b[0m \u001b[0mm_list\u001b[0m\u001b[1;33m:\u001b[0m \u001b[0mprint\u001b[0m\u001b[1;33m(\u001b[0m\u001b[0mi\u001b[0m\u001b[1;33m[\u001b[0m\u001b[1;36m0\u001b[0m\u001b[1;33m]\u001b[0m\u001b[1;33m,\u001b[0m \u001b[0mi\u001b[0m\u001b[1;33m[\u001b[0m\u001b[1;36m1\u001b[0m\u001b[1;33m]\u001b[0m\u001b[1;33m)\u001b[0m\u001b[1;33m\u001b[0m\u001b[1;33m\u001b[0m\u001b[0m\n",
      "\u001b[1;31mValueError\u001b[0m: invalid literal for int() with base 10: ''"
     ]
    }
   ],
   "source": [
    "# 1805\n",
    "n = int(input())\n",
    "m_list = [list(map(int, input().split())) for i in range(n)]\n",
    "m_list.sort(key=lambda x: x[0])\n",
    "for i in m_list: print(i[0], i[1])"
   ]
  },
  {
   "cell_type": "code",
   "execution_count": null,
   "metadata": {},
   "outputs": [],
   "source": [
    "# 3004\n",
    "n = int(input())\n",
    "nums = list(map(int, input().split()))\n",
    "n_dict = dict()\n",
    "i = 0\n",
    "for j in sorted(nums):\n",
    "        n_dict[j]=i\n",
    "        i +=1\n",
    "for j in nums:\n",
    "    print(n_dict[j], end=\" \")"
   ]
  },
  {
   "cell_type": "code",
   "execution_count": null,
   "metadata": {},
   "outputs": [],
   "source": [
    "# 3015\n",
    "n, m = map(int, input().split())\n",
    "students = [[i, list(input().split())] for i in range(n)]\n",
    "students.sort(key=lambda x: int(x[1][1]), reverse=True)\n",
    "for i in range(m):\n",
    "    print(students[i][1][0])"
   ]
  },
  {
   "cell_type": "code",
   "execution_count": 4,
   "metadata": {},
   "outputs": [
    {
     "name": "stdout",
     "output_type": "stream",
     "text": [
      "5\n",
      "백 90 80 70\n",
      "한 85 75 75\n",
      "오 80 85 70\n",
      "금 95 95 95\n",
      "북 100 70 95\n",
      "북 5 1 "
     ]
    }
   ],
   "source": [
    "# 3016\n",
    "n = int(input())\n",
    "n_list = []\n",
    "for i in range(n):\n",
    "    score = input().split()\n",
    "    n_list.append((i,score[0],int(score[1]),int(score[2]),int(score[3])))\n",
    "n_list.sort(key=lambda x: [x[2]], reverse = True)\n",
    "print(n_list[0][1], end=\" \")\n",
    "a = n_list[0]\n",
    "n_list.sort(key=lambda x: [x[3]], reverse = True)\n",
    "print(n_list.index(a)+1, end=\" \")\n",
    "n_list.sort(key=lambda x: [x[4],x[0]], reverse = True)\n",
    "num=0\n",
    "idx_start = n_list.index(a)\n",
    "value = n_list[idx_start][4]\n",
    "for i in range(idx_start-1,0,-1):\n",
    "    if n_list[i][4] == value:\n",
    "        num +=1\n",
    "print(idx_start - num + 1, end=' ') # 위에 있는 동점자 수 빼주고 idx + 1 이 석차"
   ]
  },
  {
   "cell_type": "code",
   "execution_count": 26,
   "metadata": {},
   "outputs": [
    {
     "name": "stdout",
     "output_type": "stream",
     "text": [
      "10\n",
      "60 34 55 100 90 76 60 90 80 87\n"
     ]
    }
   ],
   "source": [
    "# 4012\n",
    "n = int(input())\n",
    "scores = list(map(int, input().split()))"
   ]
  },
  {
   "cell_type": "code",
   "execution_count": 53,
   "metadata": {},
   "outputs": [],
   "source": [
    "rank = 1\n",
    "same = 0\n",
    "scores_sort = sorted(scores, reverse=True)\n",
    "rank_dict = dict()\n",
    "for i in range(n-1):\n",
    "    if scores_sort[i] == scores_sort[i+1]:\n",
    "        rank_dict[scores_sort[i]] = rank\n",
    "        same += 1\n",
    "    else:\n",
    "        if i!= 0 and scores_sort[i-1] == scores_sort[i]:\n",
    "            rank_dict[scores_sort[i]]= rank\n",
    "            rank += 1\n",
    "            same += 1\n",
    "        else:\n",
    "            if i==0:\n",
    "                rank_dict[scores_sort[0]] = rank\n",
    "            else:\n",
    "                if same == 0:\n",
    "                    rank +=1\n",
    "                else:\n",
    "                    rank += same\n",
    "                rank_dict[scores_sort[i]] = rank\n",
    "                same = 0"
   ]
  },
  {
   "cell_type": "code",
   "execution_count": 54,
   "metadata": {},
   "outputs": [
    {
     "data": {
      "text/plain": [
       "{100: 1, 90: 1, 87: 4, 80: 5, 76: 6, 60: 6, 55: 9}"
      ]
     },
     "execution_count": 54,
     "metadata": {},
     "output_type": "execute_result"
    }
   ],
   "source": [
    "rank_dict"
   ]
  },
  {
   "cell_type": "code",
   "execution_count": null,
   "metadata": {},
   "outputs": [],
   "source": []
  }
 ],
 "metadata": {
  "kernelspec": {
   "display_name": "Python 3",
   "language": "python",
   "name": "python3"
  },
  "language_info": {
   "codemirror_mode": {
    "name": "ipython",
    "version": 3
   },
   "file_extension": ".py",
   "mimetype": "text/x-python",
   "name": "python",
   "nbconvert_exporter": "python",
   "pygments_lexer": "ipython3",
   "version": "3.7.4"
  }
 },
 "nbformat": 4,
 "nbformat_minor": 2
}
