{
 "cells": [
  {
   "cell_type": "code",
   "execution_count": 2,
   "metadata": {},
   "outputs": [
    {
     "name": "stdout",
     "output_type": "stream",
     "text": [
      "3\n",
      "2 10\n",
      "3 20\n",
      "1 30\n",
      "[1, 30]\n",
      "[2, 10]\n",
      "[3, 20]\n"
     ]
    }
   ],
   "source": [
    "# 1805\n",
    "n = int(input())\n",
    "m_list = [list(map(int, input().split())) for i in range(n)]\n",
    "m_list.sort(key=lambda x: x[0])\n",
    "for i in m_list: print(i[0], i[1])"
   ]
  },
  {
   "cell_type": "code",
   "execution_count": 5,
   "metadata": {},
   "outputs": [
    {
     "name": "stdout",
     "output_type": "stream",
     "text": [
      "5\n",
      "50 23 54 24 123\n",
      "2 0 3 1 4 "
     ]
    }
   ],
   "source": [
    "# 3004\n",
    "n = int(input())\n",
    "nums = list(map(int, input().split()))\n",
    "n_dict = dict()\n",
    "i = 0\n",
    "for j in sorted(nums):\n",
    "        n_dict[j]=i\n",
    "        i +=1\n",
    "for j in nums:\n",
    "    print(n_dict[j], end=\" \")"
   ]
  },
  {
   "cell_type": "code",
   "execution_count": 10,
   "metadata": {},
   "outputs": [
    {
     "name": "stdout",
     "output_type": "stream",
     "text": [
      "4 2\n",
      "jeon 95\n",
      "kim 59\n",
      "lee 90\n",
      "bae 100\n",
      "bae\n",
      "jeon\n"
     ]
    }
   ],
   "source": [
    "# 3015\n",
    "n, m = map(int, input().split())\n",
    "students = [[i, list(input().split())] for i in range(n)]\n",
    "students.sort(key=lambda x: int(x[1][1]), reverse=True)\n",
    "for i in range(m):\n",
    "    print(students[i][1][0])"
   ]
  },
  {
   "cell_type": "code",
   "execution_count": 21,
   "metadata": {},
   "outputs": [
    {
     "name": "stdout",
     "output_type": "stream",
     "text": [
      "4\n",
      "jeon 95 100 100\n",
      "kim 59 100 80\n",
      "lee 90 100 80\n",
      "bae 100 82 80\n",
      "bae 4 2 "
     ]
    }
   ],
   "source": [
    "# 3016\n",
    "n = int(input())\n",
    "n_list = []\n",
    "for i in range(n):\n",
    "    score = input().split()\n",
    "    n_list.append((i,score[0],int(score[1]),int(score[2]),int(score[3])))\n",
    "n_list.sort(key=lambda x: [x[2],x[0]], reverse = True)\n",
    "print(n_list[0][1], end=\" \")\n",
    "a = n_list[0]\n",
    "n_list.sort(key=lambda x: [x[3],x[0]], reverse = True)\n",
    "print(n_list.index(a)+1, end=\" \")\n",
    "n_list.sort(key=lambda x: [x[4],x[0]], reverse = True)\n",
    "print(n_list.index(a)+1, end=\" \")"
   ]
  },
  {
   "cell_type": "code",
   "execution_count": 18,
   "metadata": {},
   "outputs": [
    {
     "data": {
      "text/plain": [
       "[('jeon', 95), ('kim', 59), ('lee', 90), ('bae', 100)]"
      ]
     },
     "execution_count": 18,
     "metadata": {},
     "output_type": "execute_result"
    }
   ],
   "source": [
    "n_1"
   ]
  },
  {
   "cell_type": "code",
   "execution_count": null,
   "metadata": {},
   "outputs": [],
   "source": []
  }
 ],
 "metadata": {
  "kernelspec": {
   "display_name": "Python 3",
   "language": "python",
   "name": "python3"
  },
  "language_info": {
   "codemirror_mode": {
    "name": "ipython",
    "version": 3
   },
   "file_extension": ".py",
   "mimetype": "text/x-python",
   "name": "python",
   "nbconvert_exporter": "python",
   "pygments_lexer": "ipython3",
   "version": "3.7.4"
  }
 },
 "nbformat": 4,
 "nbformat_minor": 2
}
